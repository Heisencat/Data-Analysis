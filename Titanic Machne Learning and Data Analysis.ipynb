{
 "cells": [
  {
   "cell_type": "code",
   "execution_count": 1,
   "metadata": {
    "_cell_guid": "b1076dfc-b9ad-4769-8c92-a6c4dae69d19",
    "_uuid": "8f2839f25d086af736a60e9eeb907d3b93b6e0e5",
    "execution": {
     "iopub.execute_input": "2021-04-18T14:21:05.743819Z",
     "iopub.status.busy": "2021-04-18T14:21:05.743121Z",
     "iopub.status.idle": "2021-04-18T14:21:05.762461Z",
     "shell.execute_reply": "2021-04-18T14:21:05.763288Z"
    },
    "papermill": {
     "duration": 0.107461,
     "end_time": "2021-04-18T14:21:05.763710",
     "exception": false,
     "start_time": "2021-04-18T14:21:05.656249",
     "status": "completed"
    },
    "tags": []
   },
   "outputs": [
    {
     "name": "stdout",
     "output_type": "stream",
     "text": [
      "/kaggle/input/titanic-datasets/train.csv\n",
      "/kaggle/input/titanic-datasets/test.csv\n",
      "/kaggle/input/titanic-datasets/gender_submission.csv\n"
     ]
    }
   ],
   "source": [
    "# This Python 3 environment comes with many helpful analytics libraries installed\n",
    "# It is defined by the kaggle/python Docker image: https://github.com/kaggle/docker-python\n",
    "# For example, here's several helpful packages to load\n",
    "\n",
    "import numpy as np # linear algebra\n",
    "import pandas as pd # data processing, CSV file I/O (e.g. pd.read_csv)\n",
    "\n",
    "# Input data files are available in the read-only \"../input/\" directory\n",
    "# For example, running this (by clicking run or pressing Shift+Enter) will list all files under the input directory\n",
    "\n",
    "import os\n",
    "for dirname, _, filenames in os.walk('/kaggle/input'):\n",
    "    for filename in filenames:\n",
    "        print(os.path.join(dirname, filename))\n",
    "\n",
    "# You can write up to 20GB to the current directory (/kaggle/working/) that gets preserved as output when you create a version using \"Save & Run All\" \n",
    "# You can also write temporary files to /kaggle/temp/, but they won't be saved outside of the current session"
   ]
  },
  {
   "cell_type": "markdown",
   "metadata": {
    "papermill": {
     "duration": 0.078538,
     "end_time": "2021-04-18T14:21:05.921712",
     "exception": false,
     "start_time": "2021-04-18T14:21:05.843174",
     "status": "completed"
    },
    "tags": []
   },
   "source": [
    "# About\n",
    "In this project we are going to explore Titanic dataset where we do the following tasks:\n",
    "1. Statistical analysis\n",
    "1. EDA\n",
    "1. Predict\n",
    "\n",
    "Our typical data analysis process will consists of these steps:\n",
    "**Ask,\n",
    "Prepare,\n",
    "Process,\n",
    "Analyze,\n",
    "Share,\n",
    "Act**"
   ]
  },
  {
   "cell_type": "markdown",
   "metadata": {
    "papermill": {
     "duration": 0.078942,
     "end_time": "2021-04-18T14:21:06.081240",
     "exception": false,
     "start_time": "2021-04-18T14:21:06.002298",
     "status": "completed"
    },
    "tags": []
   },
   "source": [
    "# Import libraries"
   ]
  },
  {
   "cell_type": "code",
   "execution_count": 2,
   "metadata": {
    "execution": {
     "iopub.execute_input": "2021-04-18T14:21:06.242210Z",
     "iopub.status.busy": "2021-04-18T14:21:06.241237Z",
     "iopub.status.idle": "2021-04-18T14:21:08.187124Z",
     "shell.execute_reply": "2021-04-18T14:21:08.186390Z"
    },
    "papermill": {
     "duration": 2.027527,
     "end_time": "2021-04-18T14:21:08.187287",
     "exception": false,
     "start_time": "2021-04-18T14:21:06.159760",
     "status": "completed"
    },
    "tags": []
   },
   "outputs": [],
   "source": [
    "import pandas as pd\n",
    "import numpy as np\n",
    "import matplotlib.pyplot as plt\n",
    "import plotly.express as px\n",
    "import plotly.graph_objects as go\n",
    "import seaborn as sns\n",
    "%matplotlib inline\n",
    "\n",
    "import warnings\n",
    "\n",
    "warnings.filterwarnings('ignore')"
   ]
  },
  {
   "cell_type": "markdown",
   "metadata": {
    "papermill": {
     "duration": 0.099669,
     "end_time": "2021-04-18T14:21:08.366455",
     "exception": false,
     "start_time": "2021-04-18T14:21:08.266786",
     "status": "completed"
    },
    "tags": []
   },
   "source": [
    "# Lets import our datasets\n",
    "\n",
    "We are going to import train and test dataset, and we will use supervised machine learning to predict if passenger died or not based on our features. These features are:\n",
    "1. **Categorical** - Nominal (cabin, embarked), Dichotomous (sex), Oridinal (Pclass)\n",
    "1. **Numeric** - Discrete (Passenger ID, SibSp, Parch, Survived - our dependent variable), continous (age, fare)\n",
    "1. **Text Variable** - Ticket, Name"
   ]
  },
  {
   "cell_type": "code",
   "execution_count": 3,
   "metadata": {
    "execution": {
     "iopub.execute_input": "2021-04-18T14:21:08.537805Z",
     "iopub.status.busy": "2021-04-18T14:21:08.537088Z",
     "iopub.status.idle": "2021-04-18T14:21:08.600074Z",
     "shell.execute_reply": "2021-04-18T14:21:08.599413Z"
    },
    "papermill": {
     "duration": 0.148631,
     "end_time": "2021-04-18T14:21:08.600218",
     "exception": false,
     "start_time": "2021-04-18T14:21:08.451587",
     "status": "completed"
    },
    "tags": []
   },
   "outputs": [
    {
     "data": {
      "text/html": [
       "<div>\n",
       "<style scoped>\n",
       "    .dataframe tbody tr th:only-of-type {\n",
       "        vertical-align: middle;\n",
       "    }\n",
       "\n",
       "    .dataframe tbody tr th {\n",
       "        vertical-align: top;\n",
       "    }\n",
       "\n",
       "    .dataframe thead th {\n",
       "        text-align: right;\n",
       "    }\n",
       "</style>\n",
       "<table border=\"1\" class=\"dataframe\">\n",
       "  <thead>\n",
       "    <tr style=\"text-align: right;\">\n",
       "      <th></th>\n",
       "      <th>PassengerId</th>\n",
       "      <th>Survived</th>\n",
       "      <th>Pclass</th>\n",
       "      <th>Name</th>\n",
       "      <th>Sex</th>\n",
       "      <th>Age</th>\n",
       "      <th>SibSp</th>\n",
       "      <th>Parch</th>\n",
       "      <th>Ticket</th>\n",
       "      <th>Fare</th>\n",
       "      <th>Cabin</th>\n",
       "      <th>Embarked</th>\n",
       "    </tr>\n",
       "  </thead>\n",
       "  <tbody>\n",
       "    <tr>\n",
       "      <th>339</th>\n",
       "      <td>340</td>\n",
       "      <td>0</td>\n",
       "      <td>1</td>\n",
       "      <td>Blackwell, Mr. Stephen Weart</td>\n",
       "      <td>male</td>\n",
       "      <td>45.0</td>\n",
       "      <td>0</td>\n",
       "      <td>0</td>\n",
       "      <td>113784</td>\n",
       "      <td>35.5</td>\n",
       "      <td>T</td>\n",
       "      <td>S</td>\n",
       "    </tr>\n",
       "  </tbody>\n",
       "</table>\n",
       "</div>"
      ],
      "text/plain": [
       "     PassengerId  Survived  Pclass                          Name   Sex   Age  \\\n",
       "339          340         0       1  Blackwell, Mr. Stephen Weart  male  45.0   \n",
       "\n",
       "     SibSp  Parch  Ticket  Fare Cabin Embarked  \n",
       "339      0      0  113784  35.5     T        S  "
      ]
     },
     "execution_count": 3,
     "metadata": {},
     "output_type": "execute_result"
    }
   ],
   "source": [
    "train = pd.read_csv('../input/titanic-datasets/train.csv')\n",
    "test = pd.read_csv('../input/titanic-datasets/test.csv')\n",
    "\n",
    "train.sample()"
   ]
  },
  {
   "cell_type": "markdown",
   "metadata": {
    "papermill": {
     "duration": 0.079922,
     "end_time": "2021-04-18T14:21:08.760339",
     "exception": false,
     "start_time": "2021-04-18T14:21:08.680417",
     "status": "completed"
    },
    "tags": []
   },
   "source": [
    "# Basic info about dataset and cleaning the data"
   ]
  },
  {
   "cell_type": "code",
   "execution_count": 4,
   "metadata": {
    "execution": {
     "iopub.execute_input": "2021-04-18T14:21:08.930707Z",
     "iopub.status.busy": "2021-04-18T14:21:08.930039Z",
     "iopub.status.idle": "2021-04-18T14:21:08.952105Z",
     "shell.execute_reply": "2021-04-18T14:21:08.951400Z"
    },
    "papermill": {
     "duration": 0.112064,
     "end_time": "2021-04-18T14:21:08.952255",
     "exception": false,
     "start_time": "2021-04-18T14:21:08.840191",
     "status": "completed"
    },
    "tags": []
   },
   "outputs": [
    {
     "name": "stdout",
     "output_type": "stream",
     "text": [
      "<class 'pandas.core.frame.DataFrame'>\n",
      "RangeIndex: 891 entries, 0 to 890\n",
      "Data columns (total 12 columns):\n",
      " #   Column       Non-Null Count  Dtype  \n",
      "---  ------       --------------  -----  \n",
      " 0   PassengerId  891 non-null    int64  \n",
      " 1   Survived     891 non-null    int64  \n",
      " 2   Pclass       891 non-null    int64  \n",
      " 3   Name         891 non-null    object \n",
      " 4   Sex          891 non-null    object \n",
      " 5   Age          714 non-null    float64\n",
      " 6   SibSp        891 non-null    int64  \n",
      " 7   Parch        891 non-null    int64  \n",
      " 8   Ticket       891 non-null    object \n",
      " 9   Fare         891 non-null    float64\n",
      " 10  Cabin        204 non-null    object \n",
      " 11  Embarked     889 non-null    object \n",
      "dtypes: float64(2), int64(5), object(5)\n",
      "memory usage: 83.7+ KB\n",
      "None\n",
      "\n",
      "\n",
      "----------------------------------------\n",
      "<class 'pandas.core.frame.DataFrame'>\n",
      "RangeIndex: 418 entries, 0 to 417\n",
      "Data columns (total 11 columns):\n",
      " #   Column       Non-Null Count  Dtype  \n",
      "---  ------       --------------  -----  \n",
      " 0   PassengerId  418 non-null    int64  \n",
      " 1   Pclass       418 non-null    int64  \n",
      " 2   Name         418 non-null    object \n",
      " 3   Sex          418 non-null    object \n",
      " 4   Age          332 non-null    float64\n",
      " 5   SibSp        418 non-null    int64  \n",
      " 6   Parch        418 non-null    int64  \n",
      " 7   Ticket       418 non-null    object \n",
      " 8   Fare         417 non-null    float64\n",
      " 9   Cabin        91 non-null     object \n",
      " 10  Embarked     418 non-null    object \n",
      "dtypes: float64(2), int64(4), object(5)\n",
      "memory usage: 36.0+ KB\n",
      "None\n"
     ]
    }
   ],
   "source": [
    "print(train.info())\n",
    "print('\\n')\n",
    "print('-'*40)\n",
    "print(test.info())"
   ]
  },
  {
   "cell_type": "markdown",
   "metadata": {
    "papermill": {
     "duration": 0.085432,
     "end_time": "2021-04-18T14:21:09.119619",
     "exception": false,
     "start_time": "2021-04-18T14:21:09.034187",
     "status": "completed"
    },
    "tags": []
   },
   "source": [
    "At the first glance we can see that our features have unequal number of data entries for columns, lets check our missing values:"
   ]
  },
  {
   "cell_type": "code",
   "execution_count": 5,
   "metadata": {
    "execution": {
     "iopub.execute_input": "2021-04-18T14:21:09.318728Z",
     "iopub.status.busy": "2021-04-18T14:21:09.317452Z",
     "iopub.status.idle": "2021-04-18T14:21:10.211659Z",
     "shell.execute_reply": "2021-04-18T14:21:10.211004Z"
    },
    "papermill": {
     "duration": 0.985044,
     "end_time": "2021-04-18T14:21:10.211801",
     "exception": false,
     "start_time": "2021-04-18T14:21:09.226757",
     "status": "completed"
    },
    "tags": []
   },
   "outputs": [
    {
     "data": {
      "text/html": [
       "<style  type=\"text/css\" >\n",
       "#T_26ec2_row0_col0,#T_26ec2_row0_col1{\n",
       "            background-color:  #08306b;\n",
       "            color:  #f1f1f1;\n",
       "        }#T_26ec2_row1_col0,#T_26ec2_row1_col1{\n",
       "            background-color:  #c4daee;\n",
       "            color:  #000000;\n",
       "        }#T_26ec2_row2_col0,#T_26ec2_row2_col1,#T_26ec2_row3_col0,#T_26ec2_row3_col1,#T_26ec2_row4_col0,#T_26ec2_row4_col1,#T_26ec2_row5_col0,#T_26ec2_row5_col1,#T_26ec2_row6_col0,#T_26ec2_row6_col1,#T_26ec2_row7_col0,#T_26ec2_row7_col1,#T_26ec2_row8_col0,#T_26ec2_row8_col1,#T_26ec2_row9_col0,#T_26ec2_row9_col1,#T_26ec2_row10_col0,#T_26ec2_row10_col1,#T_26ec2_row11_col0,#T_26ec2_row11_col1{\n",
       "            background-color:  #f7fbff;\n",
       "            color:  #000000;\n",
       "        }</style><table id=\"T_26ec2_\" ><thead>    <tr>        <th class=\"blank level0\" ></th>        <th class=\"col_heading level0 col0\" >Number</th>        <th class=\"col_heading level0 col1\" >Percent</th>    </tr></thead><tbody>\n",
       "                <tr>\n",
       "                        <th id=\"T_26ec2_level0_row0\" class=\"row_heading level0 row0\" >Cabin</th>\n",
       "                        <td id=\"T_26ec2_row0_col0\" class=\"data row0 col0\" >687</td>\n",
       "                        <td id=\"T_26ec2_row0_col1\" class=\"data row0 col1\" >77.100000</td>\n",
       "            </tr>\n",
       "            <tr>\n",
       "                        <th id=\"T_26ec2_level0_row1\" class=\"row_heading level0 row1\" >Age</th>\n",
       "                        <td id=\"T_26ec2_row1_col0\" class=\"data row1 col0\" >177</td>\n",
       "                        <td id=\"T_26ec2_row1_col1\" class=\"data row1 col1\" >19.870000</td>\n",
       "            </tr>\n",
       "            <tr>\n",
       "                        <th id=\"T_26ec2_level0_row2\" class=\"row_heading level0 row2\" >Embarked</th>\n",
       "                        <td id=\"T_26ec2_row2_col0\" class=\"data row2 col0\" >2</td>\n",
       "                        <td id=\"T_26ec2_row2_col1\" class=\"data row2 col1\" >0.220000</td>\n",
       "            </tr>\n",
       "            <tr>\n",
       "                        <th id=\"T_26ec2_level0_row3\" class=\"row_heading level0 row3\" >PassengerId</th>\n",
       "                        <td id=\"T_26ec2_row3_col0\" class=\"data row3 col0\" >0</td>\n",
       "                        <td id=\"T_26ec2_row3_col1\" class=\"data row3 col1\" >0.000000</td>\n",
       "            </tr>\n",
       "            <tr>\n",
       "                        <th id=\"T_26ec2_level0_row4\" class=\"row_heading level0 row4\" >Survived</th>\n",
       "                        <td id=\"T_26ec2_row4_col0\" class=\"data row4 col0\" >0</td>\n",
       "                        <td id=\"T_26ec2_row4_col1\" class=\"data row4 col1\" >0.000000</td>\n",
       "            </tr>\n",
       "            <tr>\n",
       "                        <th id=\"T_26ec2_level0_row5\" class=\"row_heading level0 row5\" >Pclass</th>\n",
       "                        <td id=\"T_26ec2_row5_col0\" class=\"data row5 col0\" >0</td>\n",
       "                        <td id=\"T_26ec2_row5_col1\" class=\"data row5 col1\" >0.000000</td>\n",
       "            </tr>\n",
       "            <tr>\n",
       "                        <th id=\"T_26ec2_level0_row6\" class=\"row_heading level0 row6\" >Name</th>\n",
       "                        <td id=\"T_26ec2_row6_col0\" class=\"data row6 col0\" >0</td>\n",
       "                        <td id=\"T_26ec2_row6_col1\" class=\"data row6 col1\" >0.000000</td>\n",
       "            </tr>\n",
       "            <tr>\n",
       "                        <th id=\"T_26ec2_level0_row7\" class=\"row_heading level0 row7\" >Sex</th>\n",
       "                        <td id=\"T_26ec2_row7_col0\" class=\"data row7 col0\" >0</td>\n",
       "                        <td id=\"T_26ec2_row7_col1\" class=\"data row7 col1\" >0.000000</td>\n",
       "            </tr>\n",
       "            <tr>\n",
       "                        <th id=\"T_26ec2_level0_row8\" class=\"row_heading level0 row8\" >SibSp</th>\n",
       "                        <td id=\"T_26ec2_row8_col0\" class=\"data row8 col0\" >0</td>\n",
       "                        <td id=\"T_26ec2_row8_col1\" class=\"data row8 col1\" >0.000000</td>\n",
       "            </tr>\n",
       "            <tr>\n",
       "                        <th id=\"T_26ec2_level0_row9\" class=\"row_heading level0 row9\" >Parch</th>\n",
       "                        <td id=\"T_26ec2_row9_col0\" class=\"data row9 col0\" >0</td>\n",
       "                        <td id=\"T_26ec2_row9_col1\" class=\"data row9 col1\" >0.000000</td>\n",
       "            </tr>\n",
       "            <tr>\n",
       "                        <th id=\"T_26ec2_level0_row10\" class=\"row_heading level0 row10\" >Ticket</th>\n",
       "                        <td id=\"T_26ec2_row10_col0\" class=\"data row10 col0\" >0</td>\n",
       "                        <td id=\"T_26ec2_row10_col1\" class=\"data row10 col1\" >0.000000</td>\n",
       "            </tr>\n",
       "            <tr>\n",
       "                        <th id=\"T_26ec2_level0_row11\" class=\"row_heading level0 row11\" >Fare</th>\n",
       "                        <td id=\"T_26ec2_row11_col0\" class=\"data row11 col0\" >0</td>\n",
       "                        <td id=\"T_26ec2_row11_col1\" class=\"data row11 col1\" >0.000000</td>\n",
       "            </tr>\n",
       "    </tbody></table>"
      ],
      "text/plain": [
       "<pandas.io.formats.style.Styler at 0x7fef9649ab10>"
      ]
     },
     "execution_count": 5,
     "metadata": {},
     "output_type": "execute_result"
    },
    {
     "data": {
      "image/png": "[encoded data removed]",
      "text/plain": [
       "<Figure size 720x360 with 3 Axes>"
      ]
     },
     "metadata": {
      "needs_background": "light"
     },
     "output_type": "display_data"
    }
   ],
   "source": [
    "import missingno\n",
    "\n",
    "missingno.bar(train, figsize=(10,5), color='#0099CC')\n",
    "\n",
    "def missing_data(df):\n",
    "    total = df.isnull().sum().sort_values(ascending=False)\n",
    "    percent = round((df.isnull().sum()/df.shape[0]*100).sort_values(ascending=False),2)\n",
    "    return pd.concat([total, percent], axis=1,keys=['Number','Percent']).style.background_gradient(cmap='Blues')\n",
    "missing_data(train)        "
   ]
  },
  {
   "cell_type": "code",
   "execution_count": 6,
   "metadata": {
    "execution": {
     "iopub.execute_input": "2021-04-18T14:21:10.393237Z",
     "iopub.status.busy": "2021-04-18T14:21:10.392499Z",
     "iopub.status.idle": "2021-04-18T14:21:11.165167Z",
     "shell.execute_reply": "2021-04-18T14:21:11.164503Z"
    },
    "papermill": {
     "duration": 0.87093,
     "end_time": "2021-04-18T14:21:11.165311",
     "exception": false,
     "start_time": "2021-04-18T14:21:10.294381",
     "status": "completed"
    },
    "tags": []
   },
   "outputs": [
    {
     "data": {
      "text/html": [
       "<style  type=\"text/css\" >\n",
       "#T_34f98_row0_col0,#T_34f98_row0_col1{\n",
       "            background-color:  #08306b;\n",
       "            color:  #f1f1f1;\n",
       "        }#T_34f98_row1_col0,#T_34f98_row1_col1{\n",
       "            background-color:  #c2d9ee;\n",
       "            color:  #000000;\n",
       "        }#T_34f98_row2_col0,#T_34f98_row2_col1,#T_34f98_row3_col0,#T_34f98_row3_col1,#T_34f98_row4_col0,#T_34f98_row4_col1,#T_34f98_row5_col0,#T_34f98_row5_col1,#T_34f98_row6_col0,#T_34f98_row6_col1,#T_34f98_row7_col0,#T_34f98_row7_col1,#T_34f98_row8_col0,#T_34f98_row8_col1,#T_34f98_row9_col0,#T_34f98_row9_col1,#T_34f98_row10_col0,#T_34f98_row10_col1{\n",
       "            background-color:  #f7fbff;\n",
       "            color:  #000000;\n",
       "        }</style><table id=\"T_34f98_\" ><thead>    <tr>        <th class=\"blank level0\" ></th>        <th class=\"col_heading level0 col0\" >Number</th>        <th class=\"col_heading level0 col1\" >Percent</th>    </tr></thead><tbody>\n",
       "                <tr>\n",
       "                        <th id=\"T_34f98_level0_row0\" class=\"row_heading level0 row0\" >Cabin</th>\n",
       "                        <td id=\"T_34f98_row0_col0\" class=\"data row0 col0\" >327</td>\n",
       "                        <td id=\"T_34f98_row0_col1\" class=\"data row0 col1\" >78.230000</td>\n",
       "            </tr>\n",
       "            <tr>\n",
       "                        <th id=\"T_34f98_level0_row1\" class=\"row_heading level0 row1\" >Age</th>\n",
       "                        <td id=\"T_34f98_row1_col0\" class=\"data row1 col0\" >86</td>\n",
       "                        <td id=\"T_34f98_row1_col1\" class=\"data row1 col1\" >20.570000</td>\n",
       "            </tr>\n",
       "            <tr>\n",
       "                        <th id=\"T_34f98_level0_row2\" class=\"row_heading level0 row2\" >Fare</th>\n",
       "                        <td id=\"T_34f98_row2_col0\" class=\"data row2 col0\" >1</td>\n",
       "                        <td id=\"T_34f98_row2_col1\" class=\"data row2 col1\" >0.240000</td>\n",
       "            </tr>\n",
       "            <tr>\n",
       "                        <th id=\"T_34f98_level0_row3\" class=\"row_heading level0 row3\" >PassengerId</th>\n",
       "                        <td id=\"T_34f98_row3_col0\" class=\"data row3 col0\" >0</td>\n",
       "                        <td id=\"T_34f98_row3_col1\" class=\"data row3 col1\" >0.000000</td>\n",
       "            </tr>\n",
       "            <tr>\n",
       "                        <th id=\"T_34f98_level0_row4\" class=\"row_heading level0 row4\" >Pclass</th>\n",
       "                        <td id=\"T_34f98_row4_col0\" class=\"data row4 col0\" >0</td>\n",
       "                        <td id=\"T_34f98_row4_col1\" class=\"data row4 col1\" >0.000000</td>\n",
       "            </tr>\n",
       "            <tr>\n",
       "                        <th id=\"T_34f98_level0_row5\" class=\"row_heading level0 row5\" >Name</th>\n",
       "                        <td id=\"T_34f98_row5_col0\" class=\"data row5 col0\" >0</td>\n",
       "                        <td id=\"T_34f98_row5_col1\" class=\"data row5 col1\" >0.000000</td>\n",
       "            </tr>\n",
       "            <tr>\n",
       "                        <th id=\"T_34f98_level0_row6\" class=\"row_heading level0 row6\" >Sex</th>\n",
       "                        <td id=\"T_34f98_row6_col0\" class=\"data row6 col0\" >0</td>\n",
       "                        <td id=\"T_34f98_row6_col1\" class=\"data row6 col1\" >0.000000</td>\n",
       "            </tr>\n",
       "            <tr>\n",
       "                        <th id=\"T_34f98_level0_row7\" class=\"row_heading level0 row7\" >SibSp</th>\n",
       "                        <td id=\"T_34f98_row7_col0\" class=\"data row7 col0\" >0</td>\n",
       "                        <td id=\"T_34f98_row7_col1\" class=\"data row7 col1\" >0.000000</td>\n",
       "            </tr>\n",
       "            <tr>\n",
       "                        <th id=\"T_34f98_level0_row8\" class=\"row_heading level0 row8\" >Parch</th>\n",
       "                        <td id=\"T_34f98_row8_col0\" class=\"data row8 col0\" >0</td>\n",
       "                        <td id=\"T_34f98_row8_col1\" class=\"data row8 col1\" >0.000000</td>\n",
       "            </tr>\n",
       "            <tr>\n",
       "                        <th id=\"T_34f98_level0_row9\" class=\"row_heading level0 row9\" >Ticket</th>\n",
       "                        <td id=\"T_34f98_row9_col0\" class=\"data row9 col0\" >0</td>\n",
       "                        <td id=\"T_34f98_row9_col1\" class=\"data row9 col1\" >0.000000</td>\n",
       "            </tr>\n",
       "            <tr>\n",
       "                        <th id=\"T_34f98_level0_row10\" class=\"row_heading level0 row10\" >Embarked</th>\n",
       "                        <td id=\"T_34f98_row10_col0\" class=\"data row10 col0\" >0</td>\n",
       "                        <td id=\"T_34f98_row10_col1\" class=\"data row10 col1\" >0.000000</td>\n",
       "            </tr>\n",
       "    </tbody></table>"
      ],
      "text/plain": [
       "<pandas.io.formats.style.Styler at 0x7fef962963d0>"
      ]
     },
     "execution_count": 6,
     "metadata": {},
     "output_type": "execute_result"
    },
    {
     "data": {
      "image/png": "[encoded data removed]",
      "text/plain": [
       "<Figure size 720x360 with 3 Axes>"
      ]
     },
     "metadata": {
      "needs_background": "light"
     },
     "output_type": "display_data"
    }
   ],
   "source": [
    "missingno.bar(test, figsize=(10,5),color='#0099CC')\n",
    "\n",
    "missing_data(test)   "
   ]
  },
  {
   "cell_type": "markdown",
   "metadata": {
    "papermill": {
     "duration": 0.090329,
     "end_time": "2021-04-18T14:21:11.339759",
     "exception": false,
     "start_time": "2021-04-18T14:21:11.249430",
     "status": "completed"
    },
    "tags": []
   },
   "source": [
    "As we can see we have some missing data to deal with:\n",
    "Lets start with \"**embarked**\" feature"
   ]
  },
  {
   "cell_type": "code",
   "execution_count": 7,
   "metadata": {
    "execution": {
     "iopub.execute_input": "2021-04-18T14:21:11.527853Z",
     "iopub.status.busy": "2021-04-18T14:21:11.527072Z",
     "iopub.status.idle": "2021-04-18T14:21:11.531779Z",
     "shell.execute_reply": "2021-04-18T14:21:11.531081Z"
    },
    "papermill": {
     "duration": 0.107095,
     "end_time": "2021-04-18T14:21:11.531954",
     "exception": false,
     "start_time": "2021-04-18T14:21:11.424859",
     "status": "completed"
    },
    "tags": []
   },
   "outputs": [
    {
     "data": {
      "text/html": [
       "<div>\n",
       "<style scoped>\n",
       "    .dataframe tbody tr th:only-of-type {\n",
       "        vertical-align: middle;\n",
       "    }\n",
       "\n",
       "    .dataframe tbody tr th {\n",
       "        vertical-align: top;\n",
       "    }\n",
       "\n",
       "    .dataframe thead th {\n",
       "        text-align: right;\n",
       "    }\n",
       "</style>\n",
       "<table border=\"1\" class=\"dataframe\">\n",
       "  <thead>\n",
       "    <tr style=\"text-align: right;\">\n",
       "      <th></th>\n",
       "      <th>Total</th>\n",
       "      <th>Percent</th>\n",
       "    </tr>\n",
       "  </thead>\n",
       "  <tbody>\n",
       "    <tr>\n",
       "      <th>S</th>\n",
       "      <td>644</td>\n",
       "      <td>72.278339</td>\n",
       "    </tr>\n",
       "    <tr>\n",
       "      <th>C</th>\n",
       "      <td>168</td>\n",
       "      <td>18.855219</td>\n",
       "    </tr>\n",
       "    <tr>\n",
       "      <th>Q</th>\n",
       "      <td>77</td>\n",
       "      <td>8.641975</td>\n",
       "    </tr>\n",
       "    <tr>\n",
       "      <th>NaN</th>\n",
       "      <td>2</td>\n",
       "      <td>0.224467</td>\n",
       "    </tr>\n",
       "  </tbody>\n",
       "</table>\n",
       "</div>"
      ],
      "text/plain": [
       "     Total    Percent\n",
       "S      644  72.278339\n",
       "C      168  18.855219\n",
       "Q       77   8.641975\n",
       "NaN      2   0.224467"
      ]
     },
     "execution_count": 7,
     "metadata": {},
     "output_type": "execute_result"
    }
   ],
   "source": [
    "def feature_count(df, feature):\n",
    "    total = df[feature].value_counts(dropna=False)\n",
    "    percent = df[feature].value_counts(normalize=True, dropna=False)*100\n",
    "    \n",
    "    df = pd.concat([total,percent], axis=1, keys=['Total','Percent'])\n",
    "    return df\n",
    "feature_count(train,'Embarked')"
   ]
  },
  {
   "cell_type": "code",
   "execution_count": 8,
   "metadata": {
    "execution": {
     "iopub.execute_input": "2021-04-18T14:21:11.705116Z",
     "iopub.status.busy": "2021-04-18T14:21:11.704328Z",
     "iopub.status.idle": "2021-04-18T14:21:11.712376Z",
     "shell.execute_reply": "2021-04-18T14:21:11.711660Z"
    },
    "papermill": {
     "duration": 0.096299,
     "end_time": "2021-04-18T14:21:11.712538",
     "exception": false,
     "start_time": "2021-04-18T14:21:11.616239",
     "status": "completed"
    },
    "tags": []
   },
   "outputs": [
    {
     "data": {
      "text/plain": [
       "'S'"
      ]
     },
     "execution_count": 8,
     "metadata": {},
     "output_type": "execute_result"
    }
   ],
   "source": [
    "import statistics\n",
    "mode = statistics.mode(train['Embarked'])\n",
    "mode"
   ]
  },
  {
   "cell_type": "markdown",
   "metadata": {
    "papermill": {
     "duration": 0.087452,
     "end_time": "2021-04-18T14:21:11.884519",
     "exception": false,
     "start_time": "2021-04-18T14:21:11.797067",
     "status": "completed"
    },
    "tags": []
   },
   "source": [
    "As we can see there are 2 missing data. **Easy way**: we can replace them with mode value 'S', or **Harder way**: we can have a deeper look on this variable in order to find something interesting."
   ]
  },
  {
   "cell_type": "code",
   "execution_count": 9,
   "metadata": {
    "execution": {
     "iopub.execute_input": "2021-04-18T14:21:12.076573Z",
     "iopub.status.busy": "2021-04-18T14:21:12.075601Z",
     "iopub.status.idle": "2021-04-18T14:21:12.080423Z",
     "shell.execute_reply": "2021-04-18T14:21:12.079926Z"
    },
    "papermill": {
     "duration": 0.108146,
     "end_time": "2021-04-18T14:21:12.080621",
     "exception": false,
     "start_time": "2021-04-18T14:21:11.972475",
     "status": "completed"
    },
    "tags": []
   },
   "outputs": [
    {
     "data": {
      "text/html": [
       "<div>\n",
       "<style scoped>\n",
       "    .dataframe tbody tr th:only-of-type {\n",
       "        vertical-align: middle;\n",
       "    }\n",
       "\n",
       "    .dataframe tbody tr th {\n",
       "        vertical-align: top;\n",
       "    }\n",
       "\n",
       "    .dataframe thead th {\n",
       "        text-align: right;\n",
       "    }\n",
       "</style>\n",
       "<table border=\"1\" class=\"dataframe\">\n",
       "  <thead>\n",
       "    <tr style=\"text-align: right;\">\n",
       "      <th></th>\n",
       "      <th>PassengerId</th>\n",
       "      <th>Survived</th>\n",
       "      <th>Pclass</th>\n",
       "      <th>Name</th>\n",
       "      <th>Sex</th>\n",
       "      <th>Age</th>\n",
       "      <th>SibSp</th>\n",
       "      <th>Parch</th>\n",
       "      <th>Ticket</th>\n",
       "      <th>Fare</th>\n",
       "      <th>Cabin</th>\n",
       "      <th>Embarked</th>\n",
       "    </tr>\n",
       "  </thead>\n",
       "  <tbody>\n",
       "    <tr>\n",
       "      <th>61</th>\n",
       "      <td>62</td>\n",
       "      <td>1</td>\n",
       "      <td>1</td>\n",
       "      <td>Icard, Miss. Amelie</td>\n",
       "      <td>female</td>\n",
       "      <td>38.0</td>\n",
       "      <td>0</td>\n",
       "      <td>0</td>\n",
       "      <td>113572</td>\n",
       "      <td>80.0</td>\n",
       "      <td>B28</td>\n",
       "      <td>NaN</td>\n",
       "    </tr>\n",
       "    <tr>\n",
       "      <th>829</th>\n",
       "      <td>830</td>\n",
       "      <td>1</td>\n",
       "      <td>1</td>\n",
       "      <td>Stone, Mrs. George Nelson (Martha Evelyn)</td>\n",
       "      <td>female</td>\n",
       "      <td>62.0</td>\n",
       "      <td>0</td>\n",
       "      <td>0</td>\n",
       "      <td>113572</td>\n",
       "      <td>80.0</td>\n",
       "      <td>B28</td>\n",
       "      <td>NaN</td>\n",
       "    </tr>\n",
       "  </tbody>\n",
       "</table>\n",
       "</div>"
      ],
      "text/plain": [
       "     PassengerId  Survived  Pclass                                       Name  \\\n",
       "61            62         1       1                        Icard, Miss. Amelie   \n",
       "829          830         1       1  Stone, Mrs. George Nelson (Martha Evelyn)   \n",
       "\n",
       "        Sex   Age  SibSp  Parch  Ticket  Fare Cabin Embarked  \n",
       "61   female  38.0      0      0  113572  80.0   B28      NaN  \n",
       "829  female  62.0      0      0  113572  80.0   B28      NaN  "
      ]
     },
     "execution_count": 9,
     "metadata": {},
     "output_type": "execute_result"
    }
   ],
   "source": [
    "train.loc[train['Embarked'].isnull(),:]"
   ]
  },
  {
   "cell_type": "markdown",
   "metadata": {
    "papermill": {
     "duration": 0.086681,
     "end_time": "2021-04-18T14:21:12.254076",
     "exception": false,
     "start_time": "2021-04-18T14:21:12.167395",
     "status": "completed"
    },
    "tags": []
   },
   "source": [
    "As we can see both passanger paied fare of 80, are female and are in Pclass number 1. Lets have a look how \"Fare\" is distributed among all **Pclass** and **Embarked** feature values."
   ]
  },
  {
   "cell_type": "code",
   "execution_count": 10,
   "metadata": {
    "execution": {
     "iopub.execute_input": "2021-04-18T14:21:12.449579Z",
     "iopub.status.busy": "2021-04-18T14:21:12.448916Z",
     "iopub.status.idle": "2021-04-18T14:21:13.075496Z",
     "shell.execute_reply": "2021-04-18T14:21:13.074927Z"
    },
    "papermill": {
     "duration": 0.73396,
     "end_time": "2021-04-18T14:21:13.075652",
     "exception": false,
     "start_time": "2021-04-18T14:21:12.341692",
     "status": "completed"
    },
    "tags": []
   },
   "outputs": [
    {
     "data": {
      "image/png": "[encoded data removed]",
      "text/plain": [
       "<Figure size 1080x720 with 2 Axes>"
      ]
     },
     "metadata": {},
     "output_type": "display_data"
    }
   ],
   "source": [
    "sns.set_style('white')\\\n",
    "\n",
    "fig, (axis1, axis2) = plt.subplots(1,2, figsize=(15,10))\n",
    "ax1 = sns.boxplot(x='Embarked',y='Fare', hue='Pclass', data=train, ax=axis1)\n",
    "ax2 = sns.boxplot(x='Embarked', y='Fare',hue='Pclass', data=test, ax =axis2)"
   ]
  },
  {
   "cell_type": "markdown",
   "metadata": {
    "papermill": {
     "duration": 0.085358,
     "end_time": "2021-04-18T14:21:13.248432",
     "exception": false,
     "start_time": "2021-04-18T14:21:13.163074",
     "status": "completed"
    },
    "tags": []
   },
   "source": [
    "As we can see in both training and test set, median fare closes to 80$ is \"C\" therefore we will fill these missing data with \"C\".\n"
   ]
  },
  {
   "cell_type": "code",
   "execution_count": 11,
   "metadata": {
    "execution": {
     "iopub.execute_input": "2021-04-18T14:21:13.426501Z",
     "iopub.status.busy": "2021-04-18T14:21:13.425602Z",
     "iopub.status.idle": "2021-04-18T14:21:13.428541Z",
     "shell.execute_reply": "2021-04-18T14:21:13.427993Z"
    },
    "papermill": {
     "duration": 0.094198,
     "end_time": "2021-04-18T14:21:13.428688",
     "exception": false,
     "start_time": "2021-04-18T14:21:13.334490",
     "status": "completed"
    },
    "tags": []
   },
   "outputs": [],
   "source": [
    "train['Embarked'].fillna('C', inplace=True)\n"
   ]
  },
  {
   "cell_type": "markdown",
   "metadata": {
    "papermill": {
     "duration": 0.085972,
     "end_time": "2021-04-18T14:21:13.601797",
     "exception": false,
     "start_time": "2021-04-18T14:21:13.515825",
     "status": "completed"
    },
    "tags": []
   },
   "source": [
    "# **Cabin feature - cleaning**"
   ]
  },
  {
   "cell_type": "code",
   "execution_count": 12,
   "metadata": {
    "execution": {
     "iopub.execute_input": "2021-04-18T14:21:13.779100Z",
     "iopub.status.busy": "2021-04-18T14:21:13.778413Z",
     "iopub.status.idle": "2021-04-18T14:21:13.791974Z",
     "shell.execute_reply": "2021-04-18T14:21:13.791288Z"
    },
    "papermill": {
     "duration": 0.103332,
     "end_time": "2021-04-18T14:21:13.792121",
     "exception": false,
     "start_time": "2021-04-18T14:21:13.688789",
     "status": "completed"
    },
    "tags": []
   },
   "outputs": [
    {
     "data": {
      "text/html": [
       "<div>\n",
       "<style scoped>\n",
       "    .dataframe tbody tr th:only-of-type {\n",
       "        vertical-align: middle;\n",
       "    }\n",
       "\n",
       "    .dataframe tbody tr th {\n",
       "        vertical-align: top;\n",
       "    }\n",
       "\n",
       "    .dataframe thead th {\n",
       "        text-align: right;\n",
       "    }\n",
       "</style>\n",
       "<table border=\"1\" class=\"dataframe\">\n",
       "  <thead>\n",
       "    <tr style=\"text-align: right;\">\n",
       "      <th></th>\n",
       "      <th>Total</th>\n",
       "      <th>Percent</th>\n",
       "    </tr>\n",
       "  </thead>\n",
       "  <tbody>\n",
       "    <tr>\n",
       "      <th>NaN</th>\n",
       "      <td>687</td>\n",
       "      <td>77.104377</td>\n",
       "    </tr>\n",
       "    <tr>\n",
       "      <th>B96 B98</th>\n",
       "      <td>4</td>\n",
       "      <td>0.448934</td>\n",
       "    </tr>\n",
       "    <tr>\n",
       "      <th>C23 C25 C27</th>\n",
       "      <td>4</td>\n",
       "      <td>0.448934</td>\n",
       "    </tr>\n",
       "  </tbody>\n",
       "</table>\n",
       "</div>"
      ],
      "text/plain": [
       "             Total    Percent\n",
       "NaN            687  77.104377\n",
       "B96 B98          4   0.448934\n",
       "C23 C25 C27      4   0.448934"
      ]
     },
     "execution_count": 12,
     "metadata": {},
     "output_type": "execute_result"
    }
   ],
   "source": [
    "feature_count(train,'Cabin')[:3]"
   ]
  },
  {
   "cell_type": "code",
   "execution_count": 13,
   "metadata": {
    "execution": {
     "iopub.execute_input": "2021-04-18T14:21:13.973554Z",
     "iopub.status.busy": "2021-04-18T14:21:13.972820Z",
     "iopub.status.idle": "2021-04-18T14:21:13.983251Z",
     "shell.execute_reply": "2021-04-18T14:21:13.982741Z"
    },
    "papermill": {
     "duration": 0.103364,
     "end_time": "2021-04-18T14:21:13.983394",
     "exception": false,
     "start_time": "2021-04-18T14:21:13.880030",
     "status": "completed"
    },
    "tags": []
   },
   "outputs": [
    {
     "data": {
      "text/html": [
       "<div>\n",
       "<style scoped>\n",
       "    .dataframe tbody tr th:only-of-type {\n",
       "        vertical-align: middle;\n",
       "    }\n",
       "\n",
       "    .dataframe tbody tr th {\n",
       "        vertical-align: top;\n",
       "    }\n",
       "\n",
       "    .dataframe thead th {\n",
       "        text-align: right;\n",
       "    }\n",
       "</style>\n",
       "<table border=\"1\" class=\"dataframe\">\n",
       "  <thead>\n",
       "    <tr style=\"text-align: right;\">\n",
       "      <th></th>\n",
       "      <th>Total</th>\n",
       "      <th>Percent</th>\n",
       "    </tr>\n",
       "  </thead>\n",
       "  <tbody>\n",
       "    <tr>\n",
       "      <th>NaN</th>\n",
       "      <td>327</td>\n",
       "      <td>78.229665</td>\n",
       "    </tr>\n",
       "    <tr>\n",
       "      <th>B57 B59 B63 B66</th>\n",
       "      <td>3</td>\n",
       "      <td>0.717703</td>\n",
       "    </tr>\n",
       "    <tr>\n",
       "      <th>C89</th>\n",
       "      <td>2</td>\n",
       "      <td>0.478469</td>\n",
       "    </tr>\n",
       "  </tbody>\n",
       "</table>\n",
       "</div>"
      ],
      "text/plain": [
       "                 Total    Percent\n",
       "NaN                327  78.229665\n",
       "B57 B59 B63 B66      3   0.717703\n",
       "C89                  2   0.478469"
      ]
     },
     "execution_count": 13,
     "metadata": {},
     "output_type": "execute_result"
    }
   ],
   "source": [
    "feature_count(test,'Cabin')[:3]"
   ]
  },
  {
   "cell_type": "markdown",
   "metadata": {
    "papermill": {
     "duration": 0.086595,
     "end_time": "2021-04-18T14:21:14.156860",
     "exception": false,
     "start_time": "2021-04-18T14:21:14.070265",
     "status": "completed"
    },
    "tags": []
   },
   "source": [
    "For both case we are missing many data and we have 2 options:\n",
    "* we can drop whole feature\n",
    "* we can find an appropriate way to fill missing values. For example, We may say passengers with cabin record had a higher socio-economic-status then others. We may also say passengers with cabin record were more likely to be taken into consideration when loading into the boat.\n",
    "\n",
    "Lets combine train and test data and for new we will assign all the null values as \"N\""
   ]
  },
  {
   "cell_type": "code",
   "execution_count": 14,
   "metadata": {
    "execution": {
     "iopub.execute_input": "2021-04-18T14:21:14.360815Z",
     "iopub.status.busy": "2021-04-18T14:21:14.358026Z",
     "iopub.status.idle": "2021-04-18T14:21:14.500492Z",
     "shell.execute_reply": "2021-04-18T14:21:14.499832Z"
    },
    "papermill": {
     "duration": 0.257068,
     "end_time": "2021-04-18T14:21:14.500644",
     "exception": false,
     "start_time": "2021-04-18T14:21:14.243576",
     "status": "completed"
    },
    "tags": []
   },
   "outputs": [
    {
     "data": {
      "image/png": "[encoded data removed]",
      "text/plain": [
       "<Figure size 432x288 with 1 Axes>"
      ]
     },
     "metadata": {},
     "output_type": "display_data"
    },
    {
     "data": {
      "text/plain": [
       "1    176\n",
       "2     16\n",
       "3     12\n",
       "Name: Pclass, dtype: int64"
      ]
     },
     "execution_count": 14,
     "metadata": {},
     "output_type": "execute_result"
    }
   ],
   "source": [
    "train.loc[train['Cabin'].notnull(),'Pclass'].value_counts()\n",
    "sns.barplot(x=train.loc[train['Cabin'].notnull(),'Pclass'].value_counts().index,y=train.loc[train['Cabin'].notnull(),'Pclass'].value_counts()\n",
    ")\n",
    "plt.show()\n",
    "train.loc[train['Cabin'].notnull(),'Pclass'].value_counts()"
   ]
  },
  {
   "cell_type": "markdown",
   "metadata": {
    "papermill": {
     "duration": 0.089445,
     "end_time": "2021-04-18T14:21:14.679555",
     "exception": false,
     "start_time": "2021-04-18T14:21:14.590110",
     "status": "completed"
    },
    "tags": []
   },
   "source": [
    "As we can see the most of the passanger with cabin have class number 1, which is probably due to higher economics class"
   ]
  },
  {
   "cell_type": "code",
   "execution_count": 15,
   "metadata": {
    "execution": {
     "iopub.execute_input": "2021-04-18T14:21:14.882568Z",
     "iopub.status.busy": "2021-04-18T14:21:14.867318Z",
     "iopub.status.idle": "2021-04-18T14:21:14.887237Z",
     "shell.execute_reply": "2021-04-18T14:21:14.886569Z"
    },
    "papermill": {
     "duration": 0.118547,
     "end_time": "2021-04-18T14:21:14.887386",
     "exception": false,
     "start_time": "2021-04-18T14:21:14.768839",
     "status": "completed"
    },
    "tags": []
   },
   "outputs": [
    {
     "data": {
      "text/html": [
       "<div>\n",
       "<style scoped>\n",
       "    .dataframe tbody tr th:only-of-type {\n",
       "        vertical-align: middle;\n",
       "    }\n",
       "\n",
       "    .dataframe tbody tr th {\n",
       "        vertical-align: top;\n",
       "    }\n",
       "\n",
       "    .dataframe thead th {\n",
       "        text-align: right;\n",
       "    }\n",
       "</style>\n",
       "<table border=\"1\" class=\"dataframe\">\n",
       "  <thead>\n",
       "    <tr style=\"text-align: right;\">\n",
       "      <th></th>\n",
       "      <th>PassengerId</th>\n",
       "      <th>Pclass</th>\n",
       "      <th>Name</th>\n",
       "      <th>Sex</th>\n",
       "      <th>Age</th>\n",
       "      <th>SibSp</th>\n",
       "      <th>Parch</th>\n",
       "      <th>Ticket</th>\n",
       "      <th>Fare</th>\n",
       "      <th>Cabin</th>\n",
       "      <th>Embarked</th>\n",
       "    </tr>\n",
       "  </thead>\n",
       "  <tbody>\n",
       "    <tr>\n",
       "      <th>0</th>\n",
       "      <td>1</td>\n",
       "      <td>3</td>\n",
       "      <td>Braund, Mr. Owen Harris</td>\n",
       "      <td>male</td>\n",
       "      <td>22.0</td>\n",
       "      <td>1</td>\n",
       "      <td>0</td>\n",
       "      <td>A/5 21171</td>\n",
       "      <td>7.2500</td>\n",
       "      <td>N</td>\n",
       "      <td>S</td>\n",
       "    </tr>\n",
       "    <tr>\n",
       "      <th>1</th>\n",
       "      <td>2</td>\n",
       "      <td>1</td>\n",
       "      <td>Cumings, Mrs. John Bradley (Florence Briggs Th...</td>\n",
       "      <td>female</td>\n",
       "      <td>38.0</td>\n",
       "      <td>1</td>\n",
       "      <td>0</td>\n",
       "      <td>PC 17599</td>\n",
       "      <td>71.2833</td>\n",
       "      <td>C85</td>\n",
       "      <td>C</td>\n",
       "    </tr>\n",
       "    <tr>\n",
       "      <th>2</th>\n",
       "      <td>3</td>\n",
       "      <td>3</td>\n",
       "      <td>Heikkinen, Miss. Laina</td>\n",
       "      <td>female</td>\n",
       "      <td>26.0</td>\n",
       "      <td>0</td>\n",
       "      <td>0</td>\n",
       "      <td>STON/O2. 3101282</td>\n",
       "      <td>7.9250</td>\n",
       "      <td>N</td>\n",
       "      <td>S</td>\n",
       "    </tr>\n",
       "    <tr>\n",
       "      <th>3</th>\n",
       "      <td>4</td>\n",
       "      <td>1</td>\n",
       "      <td>Futrelle, Mrs. Jacques Heath (Lily May Peel)</td>\n",
       "      <td>female</td>\n",
       "      <td>35.0</td>\n",
       "      <td>1</td>\n",
       "      <td>0</td>\n",
       "      <td>113803</td>\n",
       "      <td>53.1000</td>\n",
       "      <td>C123</td>\n",
       "      <td>S</td>\n",
       "    </tr>\n",
       "    <tr>\n",
       "      <th>4</th>\n",
       "      <td>5</td>\n",
       "      <td>3</td>\n",
       "      <td>Allen, Mr. William Henry</td>\n",
       "      <td>male</td>\n",
       "      <td>35.0</td>\n",
       "      <td>0</td>\n",
       "      <td>0</td>\n",
       "      <td>373450</td>\n",
       "      <td>8.0500</td>\n",
       "      <td>N</td>\n",
       "      <td>S</td>\n",
       "    </tr>\n",
       "  </tbody>\n",
       "</table>\n",
       "</div>"
      ],
      "text/plain": [
       "   PassengerId  Pclass                                               Name  \\\n",
       "0            1       3                            Braund, Mr. Owen Harris   \n",
       "1            2       1  Cumings, Mrs. John Bradley (Florence Briggs Th...   \n",
       "2            3       3                             Heikkinen, Miss. Laina   \n",
       "3            4       1       Futrelle, Mrs. Jacques Heath (Lily May Peel)   \n",
       "4            5       3                           Allen, Mr. William Henry   \n",
       "\n",
       "      Sex   Age  SibSp  Parch            Ticket     Fare Cabin Embarked  \n",
       "0    male  22.0      1      0         A/5 21171   7.2500     N        S  \n",
       "1  female  38.0      1      0          PC 17599  71.2833   C85        C  \n",
       "2  female  26.0      0      0  STON/O2. 3101282   7.9250     N        S  \n",
       "3  female  35.0      1      0            113803  53.1000  C123        S  \n",
       "4    male  35.0      0      0            373450   8.0500     N        S  "
      ]
     },
     "execution_count": 15,
     "metadata": {},
     "output_type": "execute_result"
    }
   ],
   "source": [
    "survivers = train['Survived']\n",
    "train.drop(['Survived'], axis=1, inplace=True)\n",
    "\n",
    "all_data = pd.concat([train, test], ignore_index= False)\n",
    "\n",
    "all_data['Cabin'].fillna('N', inplace=True)\n",
    "all_data.head()"
   ]
  },
  {
   "cell_type": "code",
   "execution_count": 16,
   "metadata": {
    "execution": {
     "iopub.execute_input": "2021-04-18T14:21:15.072611Z",
     "iopub.status.busy": "2021-04-18T14:21:15.071686Z",
     "iopub.status.idle": "2021-04-18T14:21:15.076539Z",
     "shell.execute_reply": "2021-04-18T14:21:15.076016Z"
    },
    "papermill": {
     "duration": 0.099564,
     "end_time": "2021-04-18T14:21:15.076714",
     "exception": false,
     "start_time": "2021-04-18T14:21:14.977150",
     "status": "completed"
    },
    "tags": []
   },
   "outputs": [
    {
     "data": {
      "text/plain": [
       "array(['N', 'C85', 'C123', 'E46', 'G6', 'C103', 'D56', 'A6',\n",
       "       'C23 C25 C27', 'B78', 'D33', 'B30', 'C52', 'B28', 'C83', 'F33',\n",
       "       'F G73', 'E31', 'A5', 'D10 D12', 'D26', 'C110', 'B58 B60', 'E101',\n",
       "       'F E69', 'D47', 'B86', 'F2', 'C2', 'E33', 'B19', 'A7', 'C49', 'F4',\n",
       "       'A32', 'B4', 'B80', 'A31', 'D36', 'D15', 'C93', 'C78', 'D35',\n",
       "       'C87', 'B77', 'E67', 'B94', 'C125', 'C99', 'C118', 'D7', 'A19',\n",
       "       'B49', 'D', 'C22 C26', 'C106', 'C65', 'E36', 'C54',\n",
       "       'B57 B59 B63 B66', 'C7', 'E34', 'C32', 'B18', 'C124', 'C91', 'E40',\n",
       "       'T', 'C128', 'D37', 'B35', 'E50', 'C82', 'B96 B98', 'E10', 'E44',\n",
       "       'A34', 'C104', 'C111', 'C92', 'E38', 'D21', 'E12', 'E63', 'A14',\n",
       "       'B37', 'C30', 'D20', 'B79', 'E25', 'D46', 'B73', 'C95', 'B38',\n",
       "       'B39', 'B22', 'C86', 'C70', 'A16', 'C101', 'C68', 'A10', 'E68',\n",
       "       'B41', 'A20', 'D19', 'D50', 'D9', 'A23', 'B50', 'A26', 'D48',\n",
       "       'E58', 'C126', 'B71', 'B51 B53 B55', 'D49', 'B5', 'B20', 'F G63',\n",
       "       'C62 C64', 'E24', 'C90', 'C45', 'E8', 'B101', 'D45', 'C46', 'D30',\n",
       "       'E121', 'D11', 'E77', 'F38', 'B3', 'D6', 'B82 B84', 'D17', 'A36',\n",
       "       'B102', 'B69', 'E49', 'C47', 'D28', 'E17', 'A24', 'C50', 'B42',\n",
       "       'C148', 'B45', 'B36', 'A21', 'D34', 'A9', 'C31', 'B61', 'C53',\n",
       "       'D43', 'C130', 'C132', 'C55 C57', 'C116', 'F', 'A29', 'C6', 'C28',\n",
       "       'C51', 'C97', 'D22', 'B10', 'E45', 'E52', 'A11', 'B11', 'C80',\n",
       "       'C89', 'F E46', 'B26', 'F E57', 'A18', 'E60', 'E39 E41',\n",
       "       'B52 B54 B56', 'C39', 'B24', 'D40', 'D38', 'C105'], dtype=object)"
      ]
     },
     "execution_count": 16,
     "metadata": {},
     "output_type": "execute_result"
    }
   ],
   "source": [
    "all_data['Cabin'].unique()"
   ]
  },
  {
   "cell_type": "markdown",
   "metadata": {
    "papermill": {
     "duration": 0.089716,
     "end_time": "2021-04-18T14:21:15.256294",
     "exception": false,
     "start_time": "2021-04-18T14:21:15.166578",
     "status": "completed"
    },
    "tags": []
   },
   "source": [
    "As we can see all the cabin names start with an English alphabet following by multiple digits. It seems like there are some passengers that had booked multiple cabin rooms in their name. This is because many of them travelled with family. However, they all seem to book under the same letter followed by different numbers. It seems like there is a significance with the letters rather than the numbers. Therefore, we can group these cabins according to the letter of the cabin name."
   ]
  },
  {
   "cell_type": "code",
   "execution_count": 17,
   "metadata": {
    "execution": {
     "iopub.execute_input": "2021-04-18T14:21:15.445125Z",
     "iopub.status.busy": "2021-04-18T14:21:15.444303Z",
     "iopub.status.idle": "2021-04-18T14:21:15.448083Z",
     "shell.execute_reply": "2021-04-18T14:21:15.447362Z"
    },
    "papermill": {
     "duration": 0.101877,
     "end_time": "2021-04-18T14:21:15.448249",
     "exception": false,
     "start_time": "2021-04-18T14:21:15.346372",
     "status": "completed"
    },
    "tags": []
   },
   "outputs": [],
   "source": [
    "all_data['Cabin'] = all_data['Cabin'].str.extract(r'(\\w{1})')"
   ]
  },
  {
   "cell_type": "code",
   "execution_count": 18,
   "metadata": {
    "execution": {
     "iopub.execute_input": "2021-04-18T14:21:15.649718Z",
     "iopub.status.busy": "2021-04-18T14:21:15.648698Z",
     "iopub.status.idle": "2021-04-18T14:21:15.654576Z",
     "shell.execute_reply": "2021-04-18T14:21:15.654000Z"
    },
    "papermill": {
     "duration": 0.115739,
     "end_time": "2021-04-18T14:21:15.654718",
     "exception": false,
     "start_time": "2021-04-18T14:21:15.538979",
     "status": "completed"
    },
    "tags": []
   },
   "outputs": [
    {
     "data": {
      "text/html": [
       "<style  type=\"text/css\" >\n",
       "#T_0e8d3_row0_col0,#T_0e8d3_row0_col1{\n",
       "            background-color:  #08306b;\n",
       "            color:  #f1f1f1;\n",
       "        }#T_0e8d3_row1_col0,#T_0e8d3_row1_col1{\n",
       "            background-color:  #e5eff9;\n",
       "            color:  #000000;\n",
       "        }#T_0e8d3_row2_col0,#T_0e8d3_row2_col1{\n",
       "            background-color:  #eaf3fb;\n",
       "            color:  #000000;\n",
       "        }#T_0e8d3_row3_col0,#T_0e8d3_row3_col1{\n",
       "            background-color:  #eef5fc;\n",
       "            color:  #000000;\n",
       "        }#T_0e8d3_row4_col0,#T_0e8d3_row4_col1{\n",
       "            background-color:  #eff6fc;\n",
       "            color:  #000000;\n",
       "        }#T_0e8d3_row5_col0,#T_0e8d3_row5_col1,#T_0e8d3_row6_col0,#T_0e8d3_row6_col1{\n",
       "            background-color:  #f3f8fe;\n",
       "            color:  #000000;\n",
       "        }#T_0e8d3_row7_col0,#T_0e8d3_row7_col1{\n",
       "            background-color:  #f6faff;\n",
       "            color:  #000000;\n",
       "        }#T_0e8d3_row8_col0,#T_0e8d3_row8_col1{\n",
       "            background-color:  #f7fbff;\n",
       "            color:  #000000;\n",
       "        }</style><table id=\"T_0e8d3_\" ><thead>    <tr>        <th class=\"blank level0\" ></th>        <th class=\"col_heading level0 col0\" >Total</th>        <th class=\"col_heading level0 col1\" >Percent</th>    </tr></thead><tbody>\n",
       "                <tr>\n",
       "                        <th id=\"T_0e8d3_level0_row0\" class=\"row_heading level0 row0\" >N</th>\n",
       "                        <td id=\"T_0e8d3_row0_col0\" class=\"data row0 col0\" >1014</td>\n",
       "                        <td id=\"T_0e8d3_row0_col1\" class=\"data row0 col1\" >77.463713</td>\n",
       "            </tr>\n",
       "            <tr>\n",
       "                        <th id=\"T_0e8d3_level0_row1\" class=\"row_heading level0 row1\" >C</th>\n",
       "                        <td id=\"T_0e8d3_row1_col0\" class=\"data row1 col0\" >94</td>\n",
       "                        <td id=\"T_0e8d3_row1_col1\" class=\"data row1 col1\" >7.181054</td>\n",
       "            </tr>\n",
       "            <tr>\n",
       "                        <th id=\"T_0e8d3_level0_row2\" class=\"row_heading level0 row2\" >B</th>\n",
       "                        <td id=\"T_0e8d3_row2_col0\" class=\"data row2 col0\" >65</td>\n",
       "                        <td id=\"T_0e8d3_row2_col1\" class=\"data row2 col1\" >4.965623</td>\n",
       "            </tr>\n",
       "            <tr>\n",
       "                        <th id=\"T_0e8d3_level0_row3\" class=\"row_heading level0 row3\" >D</th>\n",
       "                        <td id=\"T_0e8d3_row3_col0\" class=\"data row3 col0\" >46</td>\n",
       "                        <td id=\"T_0e8d3_row3_col1\" class=\"data row3 col1\" >3.514133</td>\n",
       "            </tr>\n",
       "            <tr>\n",
       "                        <th id=\"T_0e8d3_level0_row4\" class=\"row_heading level0 row4\" >E</th>\n",
       "                        <td id=\"T_0e8d3_row4_col0\" class=\"data row4 col0\" >41</td>\n",
       "                        <td id=\"T_0e8d3_row4_col1\" class=\"data row4 col1\" >3.132162</td>\n",
       "            </tr>\n",
       "            <tr>\n",
       "                        <th id=\"T_0e8d3_level0_row5\" class=\"row_heading level0 row5\" >A</th>\n",
       "                        <td id=\"T_0e8d3_row5_col0\" class=\"data row5 col0\" >22</td>\n",
       "                        <td id=\"T_0e8d3_row5_col1\" class=\"data row5 col1\" >1.680672</td>\n",
       "            </tr>\n",
       "            <tr>\n",
       "                        <th id=\"T_0e8d3_level0_row6\" class=\"row_heading level0 row6\" >F</th>\n",
       "                        <td id=\"T_0e8d3_row6_col0\" class=\"data row6 col0\" >21</td>\n",
       "                        <td id=\"T_0e8d3_row6_col1\" class=\"data row6 col1\" >1.604278</td>\n",
       "            </tr>\n",
       "            <tr>\n",
       "                        <th id=\"T_0e8d3_level0_row7\" class=\"row_heading level0 row7\" >G</th>\n",
       "                        <td id=\"T_0e8d3_row7_col0\" class=\"data row7 col0\" >5</td>\n",
       "                        <td id=\"T_0e8d3_row7_col1\" class=\"data row7 col1\" >0.381971</td>\n",
       "            </tr>\n",
       "            <tr>\n",
       "                        <th id=\"T_0e8d3_level0_row8\" class=\"row_heading level0 row8\" >T</th>\n",
       "                        <td id=\"T_0e8d3_row8_col0\" class=\"data row8 col0\" >1</td>\n",
       "                        <td id=\"T_0e8d3_row8_col1\" class=\"data row8 col1\" >0.076394</td>\n",
       "            </tr>\n",
       "    </tbody></table>"
      ],
      "text/plain": [
       "<pandas.io.formats.style.Styler at 0x7fef95f9f4d0>"
      ]
     },
     "execution_count": 18,
     "metadata": {},
     "output_type": "execute_result"
    }
   ],
   "source": [
    "feature_count(all_data, 'Cabin').style.background_gradient(cmap='Blues')"
   ]
  },
  {
   "cell_type": "code",
   "execution_count": 19,
   "metadata": {
    "execution": {
     "iopub.execute_input": "2021-04-18T14:21:15.846753Z",
     "iopub.status.busy": "2021-04-18T14:21:15.845775Z",
     "iopub.status.idle": "2021-04-18T14:21:15.850918Z",
     "shell.execute_reply": "2021-04-18T14:21:15.850247Z"
    },
    "papermill": {
     "duration": 0.104096,
     "end_time": "2021-04-18T14:21:15.851072",
     "exception": false,
     "start_time": "2021-04-18T14:21:15.746976",
     "status": "completed"
    },
    "tags": []
   },
   "outputs": [
    {
     "data": {
      "text/plain": [
       "Cabin\n",
       "G     14.205000\n",
       "F     18.079367\n",
       "N     19.132707\n",
       "T     35.500000\n",
       "A     41.244314\n",
       "D     53.007339\n",
       "E     54.564634\n",
       "C    107.926598\n",
       "B    122.383078\n",
       "Name: Fare, dtype: float64"
      ]
     },
     "execution_count": 19,
     "metadata": {},
     "output_type": "execute_result"
    }
   ],
   "source": [
    "all_data.groupby('Cabin')['Fare'].agg('mean').sort_values()"
   ]
  },
  {
   "cell_type": "code",
   "execution_count": 20,
   "metadata": {
    "execution": {
     "iopub.execute_input": "2021-04-18T14:21:16.044066Z",
     "iopub.status.busy": "2021-04-18T14:21:16.043284Z",
     "iopub.status.idle": "2021-04-18T14:21:16.046241Z",
     "shell.execute_reply": "2021-04-18T14:21:16.045568Z"
    },
    "papermill": {
     "duration": 0.102785,
     "end_time": "2021-04-18T14:21:16.046398",
     "exception": false,
     "start_time": "2021-04-18T14:21:15.943613",
     "status": "completed"
    },
    "tags": []
   },
   "outputs": [],
   "source": [
    "def cabin_estimate(i):\n",
    "    a = 0\n",
    "    if i<16:\n",
    "        a = \"G\"\n",
    "    elif i>=16 and i<27:\n",
    "        a = \"F\"\n",
    "    elif i>=27 and i<38:\n",
    "        a = \"T\"\n",
    "    elif i>=38 and i<47:\n",
    "        a = \"A\"\n",
    "    elif i>= 47 and i<53:\n",
    "        a = \"E\"\n",
    "    elif i>= 53 and i<54:\n",
    "        a = \"D\"\n",
    "    elif i>=54 and i<116:\n",
    "        a = 'C'\n",
    "    else:\n",
    "        a = \"B\"\n",
    "    return a\n"
   ]
  },
  {
   "cell_type": "markdown",
   "metadata": {
    "papermill": {
     "duration": 0.09145,
     "end_time": "2021-04-18T14:21:16.231395",
     "exception": false,
     "start_time": "2021-04-18T14:21:16.139945",
     "status": "completed"
    },
    "tags": []
   },
   "source": [
    "Based on average fare price we decided to create function which will estimate potential cabin class."
   ]
  },
  {
   "cell_type": "code",
   "execution_count": 21,
   "metadata": {
    "execution": {
     "iopub.execute_input": "2021-04-18T14:21:16.428989Z",
     "iopub.status.busy": "2021-04-18T14:21:16.428282Z",
     "iopub.status.idle": "2021-04-18T14:21:16.433273Z",
     "shell.execute_reply": "2021-04-18T14:21:16.433774Z"
    },
    "papermill": {
     "duration": 0.103356,
     "end_time": "2021-04-18T14:21:16.434009",
     "exception": false,
     "start_time": "2021-04-18T14:21:16.330653",
     "status": "completed"
    },
    "tags": []
   },
   "outputs": [],
   "source": [
    "df_with_N = all_data.loc[all_data['Cabin'] == 'N',:]\n",
    "df_without_N = all_data.loc[all_data['Cabin'] != 'N',:]"
   ]
  },
  {
   "cell_type": "markdown",
   "metadata": {
    "papermill": {
     "duration": 0.092569,
     "end_time": "2021-04-18T14:21:16.617523",
     "exception": false,
     "start_time": "2021-04-18T14:21:16.524954",
     "status": "completed"
    },
    "tags": []
   },
   "source": [
    "Now we will apply our function to data with cabibe = 'N'"
   ]
  },
  {
   "cell_type": "code",
   "execution_count": 22,
   "metadata": {
    "execution": {
     "iopub.execute_input": "2021-04-18T14:21:16.804506Z",
     "iopub.status.busy": "2021-04-18T14:21:16.803760Z",
     "iopub.status.idle": "2021-04-18T14:21:16.828684Z",
     "shell.execute_reply": "2021-04-18T14:21:16.828149Z"
    },
    "papermill": {
     "duration": 0.120602,
     "end_time": "2021-04-18T14:21:16.828834",
     "exception": false,
     "start_time": "2021-04-18T14:21:16.708232",
     "status": "completed"
    },
    "tags": []
   },
   "outputs": [
    {
     "data": {
      "text/html": [
       "<div>\n",
       "<style scoped>\n",
       "    .dataframe tbody tr th:only-of-type {\n",
       "        vertical-align: middle;\n",
       "    }\n",
       "\n",
       "    .dataframe tbody tr th {\n",
       "        vertical-align: top;\n",
       "    }\n",
       "\n",
       "    .dataframe thead th {\n",
       "        text-align: right;\n",
       "    }\n",
       "</style>\n",
       "<table border=\"1\" class=\"dataframe\">\n",
       "  <thead>\n",
       "    <tr style=\"text-align: right;\">\n",
       "      <th></th>\n",
       "      <th>PassengerId</th>\n",
       "      <th>Pclass</th>\n",
       "      <th>Name</th>\n",
       "      <th>Sex</th>\n",
       "      <th>Age</th>\n",
       "      <th>SibSp</th>\n",
       "      <th>Parch</th>\n",
       "      <th>Ticket</th>\n",
       "      <th>Fare</th>\n",
       "      <th>Cabin</th>\n",
       "      <th>Embarked</th>\n",
       "      <th>Survived</th>\n",
       "    </tr>\n",
       "  </thead>\n",
       "  <tbody>\n",
       "    <tr>\n",
       "      <th>0</th>\n",
       "      <td>1</td>\n",
       "      <td>3</td>\n",
       "      <td>Braund, Mr. Owen Harris</td>\n",
       "      <td>male</td>\n",
       "      <td>22.0</td>\n",
       "      <td>1</td>\n",
       "      <td>0</td>\n",
       "      <td>A/5 21171</td>\n",
       "      <td>7.2500</td>\n",
       "      <td>G</td>\n",
       "      <td>S</td>\n",
       "      <td>0</td>\n",
       "    </tr>\n",
       "    <tr>\n",
       "      <th>1</th>\n",
       "      <td>2</td>\n",
       "      <td>1</td>\n",
       "      <td>Cumings, Mrs. John Bradley (Florence Briggs Th...</td>\n",
       "      <td>female</td>\n",
       "      <td>38.0</td>\n",
       "      <td>1</td>\n",
       "      <td>0</td>\n",
       "      <td>PC 17599</td>\n",
       "      <td>71.2833</td>\n",
       "      <td>C</td>\n",
       "      <td>C</td>\n",
       "      <td>1</td>\n",
       "    </tr>\n",
       "  </tbody>\n",
       "</table>\n",
       "</div>"
      ],
      "text/plain": [
       "   PassengerId  Pclass                                               Name  \\\n",
       "0            1       3                            Braund, Mr. Owen Harris   \n",
       "1            2       1  Cumings, Mrs. John Bradley (Florence Briggs Th...   \n",
       "\n",
       "      Sex   Age  SibSp  Parch     Ticket     Fare Cabin Embarked  Survived  \n",
       "0    male  22.0      1      0  A/5 21171   7.2500     G        S         0  \n",
       "1  female  38.0      1      0   PC 17599  71.2833     C        C         1  "
      ]
     },
     "execution_count": 22,
     "metadata": {},
     "output_type": "execute_result"
    }
   ],
   "source": [
    "df_with_N['Cabin'] = df_with_N['Fare'].apply(lambda x: cabin_estimate(x))\n",
    "\n",
    "all_data = pd.concat([df_with_N, df_without_N], axis=0)\n",
    "all_data.sort_values('PassengerId', inplace=True)\n",
    "\n",
    "train = all_data.iloc[:train.shape[0],:]\n",
    "test = all_data.iloc[train.shape[0]:,:]\n",
    "\n",
    "train['Survived'] = survivers\n",
    "train.head(2)"
   ]
  },
  {
   "cell_type": "markdown",
   "metadata": {
    "papermill": {
     "duration": 0.093001,
     "end_time": "2021-04-18T14:21:17.013316",
     "exception": false,
     "start_time": "2021-04-18T14:21:16.920315",
     "status": "completed"
    },
    "tags": []
   },
   "source": [
    "# Fare feature"
   ]
  },
  {
   "cell_type": "code",
   "execution_count": 23,
   "metadata": {
    "execution": {
     "iopub.execute_input": "2021-04-18T14:21:17.212819Z",
     "iopub.status.busy": "2021-04-18T14:21:17.211847Z",
     "iopub.status.idle": "2021-04-18T14:21:17.215792Z",
     "shell.execute_reply": "2021-04-18T14:21:17.216250Z"
    },
    "papermill": {
     "duration": 0.110914,
     "end_time": "2021-04-18T14:21:17.216444",
     "exception": false,
     "start_time": "2021-04-18T14:21:17.105530",
     "status": "completed"
    },
    "tags": []
   },
   "outputs": [
    {
     "data": {
      "text/html": [
       "<div>\n",
       "<style scoped>\n",
       "    .dataframe tbody tr th:only-of-type {\n",
       "        vertical-align: middle;\n",
       "    }\n",
       "\n",
       "    .dataframe tbody tr th {\n",
       "        vertical-align: top;\n",
       "    }\n",
       "\n",
       "    .dataframe thead th {\n",
       "        text-align: right;\n",
       "    }\n",
       "</style>\n",
       "<table border=\"1\" class=\"dataframe\">\n",
       "  <thead>\n",
       "    <tr style=\"text-align: right;\">\n",
       "      <th></th>\n",
       "      <th>PassengerId</th>\n",
       "      <th>Pclass</th>\n",
       "      <th>Name</th>\n",
       "      <th>Sex</th>\n",
       "      <th>Age</th>\n",
       "      <th>SibSp</th>\n",
       "      <th>Parch</th>\n",
       "      <th>Ticket</th>\n",
       "      <th>Fare</th>\n",
       "      <th>Cabin</th>\n",
       "      <th>Embarked</th>\n",
       "    </tr>\n",
       "  </thead>\n",
       "  <tbody>\n",
       "    <tr>\n",
       "      <th>152</th>\n",
       "      <td>1044</td>\n",
       "      <td>3</td>\n",
       "      <td>Storey, Mr. Thomas</td>\n",
       "      <td>male</td>\n",
       "      <td>60.5</td>\n",
       "      <td>0</td>\n",
       "      <td>0</td>\n",
       "      <td>3701</td>\n",
       "      <td>NaN</td>\n",
       "      <td>B</td>\n",
       "      <td>S</td>\n",
       "    </tr>\n",
       "  </tbody>\n",
       "</table>\n",
       "</div>"
      ],
      "text/plain": [
       "     PassengerId  Pclass                Name   Sex   Age  SibSp  Parch Ticket  \\\n",
       "152         1044       3  Storey, Mr. Thomas  male  60.5      0      0   3701   \n",
       "\n",
       "     Fare Cabin Embarked  \n",
       "152   NaN     B        S  "
      ]
     },
     "execution_count": 23,
     "metadata": {},
     "output_type": "execute_result"
    }
   ],
   "source": [
    "test[test['Fare'].isnull()]"
   ]
  },
  {
   "cell_type": "markdown",
   "metadata": {
    "papermill": {
     "duration": 0.093563,
     "end_time": "2021-04-18T14:21:17.402714",
     "exception": false,
     "start_time": "2021-04-18T14:21:17.309151",
     "status": "completed"
    },
    "tags": []
   },
   "source": [
    "As we can see we have one missing value for 'Fare'. We can take the average of the values where Pclass is 3, Sex is male and Embarked is S"
   ]
  },
  {
   "cell_type": "code",
   "execution_count": 24,
   "metadata": {
    "execution": {
     "iopub.execute_input": "2021-04-18T14:21:17.593584Z",
     "iopub.status.busy": "2021-04-18T14:21:17.592480Z",
     "iopub.status.idle": "2021-04-18T14:21:17.602677Z",
     "shell.execute_reply": "2021-04-18T14:21:17.601946Z"
    },
    "papermill": {
     "duration": 0.107198,
     "end_time": "2021-04-18T14:21:17.602825",
     "exception": false,
     "start_time": "2021-04-18T14:21:17.495627",
     "status": "completed"
    },
    "tags": []
   },
   "outputs": [],
   "source": [
    "missing_value = test[(test['Pclass']==3) &\n",
    "                    (test['Sex'] == 'male') &\n",
    "                    (test['Embarked'] == 'S')]\n",
    "missing_value_mean = missing_value['Fare'].mean()\n",
    "test['Fare'].fillna(missing_value_mean, inplace=True)\n"
   ]
  },
  {
   "cell_type": "markdown",
   "metadata": {
    "papermill": {
     "duration": 0.092392,
     "end_time": "2021-04-18T14:21:17.788832",
     "exception": false,
     "start_time": "2021-04-18T14:21:17.696440",
     "status": "completed"
    },
    "tags": []
   },
   "source": [
    "# Age Feature Missing"
   ]
  },
  {
   "cell_type": "code",
   "execution_count": 25,
   "metadata": {
    "execution": {
     "iopub.execute_input": "2021-04-18T14:21:17.982497Z",
     "iopub.status.busy": "2021-04-18T14:21:17.981788Z",
     "iopub.status.idle": "2021-04-18T14:21:17.984602Z",
     "shell.execute_reply": "2021-04-18T14:21:17.985192Z"
    },
    "papermill": {
     "duration": 0.10382,
     "end_time": "2021-04-18T14:21:17.985368",
     "exception": false,
     "start_time": "2021-04-18T14:21:17.881548",
     "status": "completed"
    },
    "tags": []
   },
   "outputs": [
    {
     "name": "stdout",
     "output_type": "stream",
     "text": [
      "Train age missing: 19.865319865319865 %\n",
      "Test age missing: 20.574162679425836 %\n"
     ]
    }
   ],
   "source": [
    "print('Train age missing:',train['Age'].isnull().sum()/train['Age'].shape[0]*100,'%')\n",
    "print('Test age missing:',test['Age'].isnull().sum()/test['Age'].shape[0]*100,'%')"
   ]
  },
  {
   "cell_type": "markdown",
   "metadata": {
    "papermill": {
     "duration": 0.093334,
     "end_time": "2021-04-18T14:21:18.173312",
     "exception": false,
     "start_time": "2021-04-18T14:21:18.079978",
     "status": "completed"
    },
    "tags": []
   },
   "source": [
    "For both datasets (train, test) we are missing roughly 20% of the data. For this case we can use Random Forest Regressor to impute missing value."
   ]
  },
  {
   "cell_type": "markdown",
   "metadata": {
    "papermill": {
     "duration": 0.092619,
     "end_time": "2021-04-18T14:21:18.359034",
     "exception": false,
     "start_time": "2021-04-18T14:21:18.266415",
     "status": "completed"
    },
    "tags": []
   },
   "source": [
    "# EDA and Feature Relations\n",
    "Assumptions:\n",
    "\n",
    "* **Gender**: More female survived than male\n",
    "* **Pclass**: Higher socio-economic status passenger survived more than others.\n",
    "* **Age**: Younger passenger survived more than other passengers.\n",
    "* **Fare**: Passenger with higher fare survived more that other passengers. This can be quite correlated with Pclass."
   ]
  },
  {
   "cell_type": "markdown",
   "metadata": {
    "papermill": {
     "duration": 0.093869,
     "end_time": "2021-04-18T14:21:18.547177",
     "exception": false,
     "start_time": "2021-04-18T14:21:18.453308",
     "status": "completed"
    },
    "tags": []
   },
   "source": [
    "**a) Gender / Surived**"
   ]
  },
  {
   "cell_type": "code",
   "execution_count": 26,
   "metadata": {
    "execution": {
     "iopub.execute_input": "2021-04-18T14:21:18.736478Z",
     "iopub.status.busy": "2021-04-18T14:21:18.735793Z",
     "iopub.status.idle": "2021-04-18T14:21:18.973927Z",
     "shell.execute_reply": "2021-04-18T14:21:18.973233Z"
    },
    "papermill": {
     "duration": 0.333556,
     "end_time": "2021-04-18T14:21:18.974149",
     "exception": false,
     "start_time": "2021-04-18T14:21:18.640593",
     "status": "completed"
    },
    "tags": []
   },
   "outputs": [
    {
     "data": {
      "image/png": "[encoded data removed]",
      "text/plain": [
       "<Figure size 720x360 with 1 Axes>"
      ]
     },
     "metadata": {},
     "output_type": "display_data"
    }
   ],
   "source": [
    "fig = plt.figure(figsize=(10,5))\n",
    "sns.barplot(data=train, x='Sex',y='Survived',\n",
    "           order = ['female','male'])\n",
    "plt.ylabel('% of passenger surived')\n",
    "plt.title('Survived/Non-Survived Passenger by Gender')\n",
    "plt.show()"
   ]
  },
  {
   "cell_type": "code",
   "execution_count": 27,
   "metadata": {
    "execution": {
     "iopub.execute_input": "2021-04-18T14:21:19.174165Z",
     "iopub.status.busy": "2021-04-18T14:21:19.173453Z",
     "iopub.status.idle": "2021-04-18T14:21:19.370682Z",
     "shell.execute_reply": "2021-04-18T14:21:19.369855Z"
    },
    "papermill": {
     "duration": 0.302603,
     "end_time": "2021-04-18T14:21:19.370908",
     "exception": false,
     "start_time": "2021-04-18T14:21:19.068305",
     "status": "completed"
    },
    "tags": []
   },
   "outputs": [
    {
     "data": {
      "image/png": "[encoded data removed]",
      "text/plain": [
       "<Figure size 720x360 with 1 Axes>"
      ]
     },
     "metadata": {},
     "output_type": "display_data"
    }
   ],
   "source": [
    "fig = plt.figure(figsize=(10,5))\n",
    "ax = sns.countplot(data=train, x='Sex',hue='Survived')\n",
    "ax.set_title('Passenger Gender Distribution - Survived vs Not-survived')\n",
    "ax.set_ylabel('# number of passenger survived')\n",
    "plt.show()"
   ]
  },
  {
   "cell_type": "markdown",
   "metadata": {
    "papermill": {
     "duration": 0.095702,
     "end_time": "2021-04-18T14:21:19.570319",
     "exception": false,
     "start_time": "2021-04-18T14:21:19.474617",
     "status": "completed"
    },
    "tags": []
   },
   "source": [
    "As we expected female passengers surived at better rate then male massengers, since women with children have priority."
   ]
  },
  {
   "cell_type": "markdown",
   "metadata": {
    "papermill": {
     "duration": 0.094439,
     "end_time": "2021-04-18T14:21:19.760363",
     "exception": false,
     "start_time": "2021-04-18T14:21:19.665924",
     "status": "completed"
    },
    "tags": []
   },
   "source": [
    "**b) Pclass / Survived**"
   ]
  },
  {
   "cell_type": "code",
   "execution_count": 28,
   "metadata": {
    "execution": {
     "iopub.execute_input": "2021-04-18T14:21:19.961036Z",
     "iopub.status.busy": "2021-04-18T14:21:19.959685Z",
     "iopub.status.idle": "2021-04-18T14:21:20.131341Z",
     "shell.execute_reply": "2021-04-18T14:21:20.131825Z"
    },
    "papermill": {
     "duration": 0.276364,
     "end_time": "2021-04-18T14:21:20.132042",
     "exception": false,
     "start_time": "2021-04-18T14:21:19.855678",
     "status": "completed"
    },
    "tags": []
   },
   "outputs": [
    {
     "data": {
      "image/png": "[encoded data removed]",
      "text/plain": [
       "<Figure size 720x504 with 1 Axes>"
      ]
     },
     "metadata": {},
     "output_type": "display_data"
    }
   ],
   "source": [
    "temp = train[['Pclass','Survived','PassengerId']].groupby(['Pclass','Survived']).agg('count').reset_index()\n",
    "pivot = pd.pivot_table(temp,values='PassengerId', index = 'Pclass', columns='Survived')\n",
    "pivot.columns = ['No','Yes']\n",
    "pivot.index = ['Upper','Middle','Lower']\n",
    "pivot['Total'] = pivot['No'] + pivot['Yes']\n",
    "\n",
    "No_s = [i / j * 100 for i,j in zip(pivot['No'], pivot['Total'])]\n",
    "Yes_s = [i / j * 100 for i,j in zip(pivot['Yes'], pivot['Total'])]\n",
    "\n",
    "fig = plt.figure(figsize=(10,7))\n",
    "ax  = plt.bar(x=pivot.index, height=No_s)\n",
    "ax2  = plt.bar(x=pivot.index, height=Yes_s, bottom=No_s, color='Red')\n",
    "plt.ylabel('Percentage')\n",
    "plt.xlabel('Class')\n",
    "plt.title('Pclass survival percentage')\n",
    "plt.show()\n"
   ]
  },
  {
   "cell_type": "code",
   "execution_count": 29,
   "metadata": {
    "execution": {
     "iopub.execute_input": "2021-04-18T14:21:20.330906Z",
     "iopub.status.busy": "2021-04-18T14:21:20.329932Z",
     "iopub.status.idle": "2021-04-18T14:21:20.598790Z",
     "shell.execute_reply": "2021-04-18T14:21:20.598187Z"
    },
    "papermill": {
     "duration": 0.368951,
     "end_time": "2021-04-18T14:21:20.598949",
     "exception": false,
     "start_time": "2021-04-18T14:21:20.229998",
     "status": "completed"
    },
    "tags": []
   },
   "outputs": [
    {
     "data": {
      "image/png": "[encoded data removed]",
      "text/plain": [
       "<Figure size 720x504 with 1 Axes>"
      ]
     },
     "metadata": {},
     "output_type": "display_data"
    }
   ],
   "source": [
    "fig = plt.figure(figsize=(10,7))\n",
    "ax = sns.barplot(data=train, x='Pclass',y='Survived')\n",
    "ax.set_title('Passenger Class Distribution - Survived')\n",
    "ax.set_ylabel('% of Passengers Survived')\n",
    "ax.set_xticklabels(['Upper','Middle','Lower'])\n",
    "plt.show()"
   ]
  },
  {
   "cell_type": "markdown",
   "metadata": {
    "papermill": {
     "duration": 0.144664,
     "end_time": "2021-04-18T14:21:20.840581",
     "exception": false,
     "start_time": "2021-04-18T14:21:20.695917",
     "status": "completed"
    },
    "tags": []
   },
   "source": [
    "It looks like:\n",
    "* 63% first class passenger survived titanic tragedy\n",
    "* 48% second class\n",
    "* only 24% third class passenger survived"
   ]
  },
  {
   "cell_type": "markdown",
   "metadata": {
    "papermill": {
     "duration": 0.09824,
     "end_time": "2021-04-18T14:21:21.037202",
     "exception": false,
     "start_time": "2021-04-18T14:21:20.938962",
     "status": "completed"
    },
    "tags": []
   },
   "source": [
    "# Kernel Denisity Plots "
   ]
  },
  {
   "cell_type": "code",
   "execution_count": 30,
   "metadata": {
    "execution": {
     "iopub.execute_input": "2021-04-18T14:21:21.262518Z",
     "iopub.status.busy": "2021-04-18T14:21:21.247146Z",
     "iopub.status.idle": "2021-04-18T14:21:21.504786Z",
     "shell.execute_reply": "2021-04-18T14:21:21.504193Z"
    },
    "papermill": {
     "duration": 0.368699,
     "end_time": "2021-04-18T14:21:21.504955",
     "exception": false,
     "start_time": "2021-04-18T14:21:21.136256",
     "status": "completed"
    },
    "tags": []
   },
   "outputs": [
    {
     "data": {
      "text/plain": [
       "<matplotlib.legend.Legend at 0x7fef95dcc1d0>"
      ]
     },
     "execution_count": 30,
     "metadata": {},
     "output_type": "execute_result"
    },
    {
     "data": {
      "image/png": "[encoded data removed]",
      "text/plain": [
       "<Figure size 1080x576 with 1 Axes>"
      ]
     },
     "metadata": {},
     "output_type": "display_data"
    }
   ],
   "source": [
    " # Kernel Density Plot Passanger Class\n",
    "fig = plt.figure(figsize=(15,8),)\n",
    "ax1=sns.kdeplot(train.loc[train['Survived'] == 0,'Pclass'],\n",
    "               shade=True,\n",
    "               label='Not Survived')\n",
    "ax2=sns.kdeplot(train.loc[train['Survived'] == 1,'Pclass'],\n",
    "               shade=True, \n",
    "               label='Survived', \n",
    "              )\n",
    "plt.title('Passenger Class Distribution: Survived - Not-Survived')\n",
    "plt.xlabel(\"Passenger Class\")\n",
    "labels = ['Upper', 'Middle', 'Lower']\n",
    "plt.xticks(sorted(train['Pclass'].unique()), labels)\n",
    "plt.legend()"
   ]
  },
  {
   "cell_type": "markdown",
   "metadata": {
    "papermill": {
     "duration": 0.10159,
     "end_time": "2021-04-18T14:21:21.708218",
     "exception": false,
     "start_time": "2021-04-18T14:21:21.606628",
     "status": "completed"
    },
    "tags": []
   },
   "source": [
    "As we can si on KDE plot that passangers in lower class are less likely to survive. It looks like also that lower class passengers survived more than middle class, but if we have a look at the data we can see that there were more passangers in lower class than in middle."
   ]
  },
  {
   "cell_type": "code",
   "execution_count": 31,
   "metadata": {
    "execution": {
     "iopub.execute_input": "2021-04-18T14:21:21.939214Z",
     "iopub.status.busy": "2021-04-18T14:21:21.930254Z",
     "iopub.status.idle": "2021-04-18T14:21:22.362294Z",
     "shell.execute_reply": "2021-04-18T14:21:22.361659Z"
    },
    "papermill": {
     "duration": 0.55454,
     "end_time": "2021-04-18T14:21:22.362435",
     "exception": false,
     "start_time": "2021-04-18T14:21:21.807895",
     "status": "completed"
    },
    "tags": []
   },
   "outputs": [
    {
     "data": {
      "image/png": "[encoded data removed]",
      "text/plain": [
       "<Figure size 1080x576 with 1 Axes>"
      ]
     },
     "metadata": {},
     "output_type": "display_data"
    }
   ],
   "source": [
    " # Kernel Density Plot Fare \n",
    "fig = plt.figure(figsize=(15,8))\n",
    "ax1 = sns.kdeplot(x=train.loc[train['Survived'] == 0,'Fare'],\n",
    "                 shade=True,\n",
    "                 label = 'Not Survived')\n",
    "ax2= sns.kdeplot(x=train.loc[train['Survived'] == 1,'Fare'],\n",
    "                shade=True,\n",
    "                label= 'Survived')\n",
    "plt.title('Fare Distribution: Surived - Not Survived')\n",
    "plt.legend()\n",
    "plt.xlim(0,600)\n",
    "plt.xticks(np.arange(0,600,20))\n",
    "# plt.xticks(np.arange(0,600,20))\n",
    "plt.show()\n",
    "    "
   ]
  },
  {
   "cell_type": "markdown",
   "metadata": {
    "papermill": {
     "duration": 0.101133,
     "end_time": "2021-04-18T14:21:22.564976",
     "exception": false,
     "start_time": "2021-04-18T14:21:22.463843",
     "status": "completed"
    },
    "tags": []
   },
   "source": [
    "As we can see on our KDE plot,as we can **many people who paid less then 60 dolars didnt survived**. As we can see we have also some outliers, where we can see that p**eople who pay more than ~300 dolars for ticket survived**! Money can buy you also life :P"
   ]
  },
  {
   "cell_type": "code",
   "execution_count": 32,
   "metadata": {
    "execution": {
     "iopub.execute_input": "2021-04-18T14:21:22.784975Z",
     "iopub.status.busy": "2021-04-18T14:21:22.784054Z",
     "iopub.status.idle": "2021-04-18T14:21:22.788786Z",
     "shell.execute_reply": "2021-04-18T14:21:22.788265Z"
    },
    "papermill": {
     "duration": 0.122494,
     "end_time": "2021-04-18T14:21:22.788947",
     "exception": false,
     "start_time": "2021-04-18T14:21:22.666453",
     "status": "completed"
    },
    "tags": []
   },
   "outputs": [
    {
     "data": {
      "text/html": [
       "<div>\n",
       "<style scoped>\n",
       "    .dataframe tbody tr th:only-of-type {\n",
       "        vertical-align: middle;\n",
       "    }\n",
       "\n",
       "    .dataframe tbody tr th {\n",
       "        vertical-align: top;\n",
       "    }\n",
       "\n",
       "    .dataframe thead th {\n",
       "        text-align: right;\n",
       "    }\n",
       "</style>\n",
       "<table border=\"1\" class=\"dataframe\">\n",
       "  <thead>\n",
       "    <tr style=\"text-align: right;\">\n",
       "      <th></th>\n",
       "      <th>PassengerId</th>\n",
       "      <th>Pclass</th>\n",
       "      <th>Name</th>\n",
       "      <th>Sex</th>\n",
       "      <th>Age</th>\n",
       "      <th>SibSp</th>\n",
       "      <th>Parch</th>\n",
       "      <th>Ticket</th>\n",
       "      <th>Fare</th>\n",
       "      <th>Cabin</th>\n",
       "      <th>Embarked</th>\n",
       "      <th>Survived</th>\n",
       "    </tr>\n",
       "  </thead>\n",
       "  <tbody>\n",
       "    <tr>\n",
       "      <th>258</th>\n",
       "      <td>259</td>\n",
       "      <td>1</td>\n",
       "      <td>Ward, Miss. Anna</td>\n",
       "      <td>female</td>\n",
       "      <td>35.0</td>\n",
       "      <td>0</td>\n",
       "      <td>0</td>\n",
       "      <td>PC 17755</td>\n",
       "      <td>512.3292</td>\n",
       "      <td>B</td>\n",
       "      <td>C</td>\n",
       "      <td>1</td>\n",
       "    </tr>\n",
       "    <tr>\n",
       "      <th>679</th>\n",
       "      <td>680</td>\n",
       "      <td>1</td>\n",
       "      <td>Cardeza, Mr. Thomas Drake Martinez</td>\n",
       "      <td>male</td>\n",
       "      <td>36.0</td>\n",
       "      <td>0</td>\n",
       "      <td>1</td>\n",
       "      <td>PC 17755</td>\n",
       "      <td>512.3292</td>\n",
       "      <td>B</td>\n",
       "      <td>C</td>\n",
       "      <td>1</td>\n",
       "    </tr>\n",
       "    <tr>\n",
       "      <th>737</th>\n",
       "      <td>738</td>\n",
       "      <td>1</td>\n",
       "      <td>Lesurer, Mr. Gustave J</td>\n",
       "      <td>male</td>\n",
       "      <td>35.0</td>\n",
       "      <td>0</td>\n",
       "      <td>0</td>\n",
       "      <td>PC 17755</td>\n",
       "      <td>512.3292</td>\n",
       "      <td>B</td>\n",
       "      <td>C</td>\n",
       "      <td>1</td>\n",
       "    </tr>\n",
       "  </tbody>\n",
       "</table>\n",
       "</div>"
      ],
      "text/plain": [
       "     PassengerId  Pclass                                Name     Sex   Age  \\\n",
       "258          259       1                    Ward, Miss. Anna  female  35.0   \n",
       "679          680       1  Cardeza, Mr. Thomas Drake Martinez    male  36.0   \n",
       "737          738       1              Lesurer, Mr. Gustave J    male  35.0   \n",
       "\n",
       "     SibSp  Parch    Ticket      Fare Cabin Embarked  Survived  \n",
       "258      0      0  PC 17755  512.3292     B        C         1  \n",
       "679      0      1  PC 17755  512.3292     B        C         1  \n",
       "737      0      0  PC 17755  512.3292     B        C         1  "
      ]
     },
     "execution_count": 32,
     "metadata": {},
     "output_type": "execute_result"
    }
   ],
   "source": [
    "train.loc[train['Fare'] > 300]"
   ]
  },
  {
   "cell_type": "markdown",
   "metadata": {
    "papermill": {
     "duration": 0.103645,
     "end_time": "2021-04-18T14:21:22.993837",
     "exception": false,
     "start_time": "2021-04-18T14:21:22.890192",
     "status": "completed"
    },
    "tags": []
   },
   "source": [
    "For example: [Mr Thomas Drake Martinez](http://www.encyclopedia-titanica.org/titanic-survivor/thomas-cardeza.html) Cardeza was a wealthy banker from Germantown. "
   ]
  },
  {
   "cell_type": "code",
   "execution_count": 33,
   "metadata": {
    "execution": {
     "iopub.execute_input": "2021-04-18T14:21:23.235042Z",
     "iopub.status.busy": "2021-04-18T14:21:23.227363Z",
     "iopub.status.idle": "2021-04-18T14:21:23.477155Z",
     "shell.execute_reply": "2021-04-18T14:21:23.476578Z"
    },
    "papermill": {
     "duration": 0.380597,
     "end_time": "2021-04-18T14:21:23.477310",
     "exception": false,
     "start_time": "2021-04-18T14:21:23.096713",
     "status": "completed"
    },
    "tags": []
   },
   "outputs": [
    {
     "data": {
      "image/png": "[encoded data removed]",
      "text/plain": [
       "<Figure size 1080x576 with 1 Axes>"
      ]
     },
     "metadata": {},
     "output_type": "display_data"
    }
   ],
   "source": [
    "# Kernel Density Plot Age\n",
    "fig = plt.figure(figsize=(15,8))\n",
    "ax1 = sns.kdeplot(x=train.loc[train['Survived'] == 0,'Age'],\n",
    "                 shade=True,\n",
    "                 label = 'Not Survived')\n",
    "ax2= sns.kdeplot(x=train.loc[train['Survived'] == 1,'Age'],\n",
    "                shade=True,\n",
    "                label= 'Survived')\n",
    "plt.title('Age Distribution: Surived - Not Survived')\n",
    "plt.legend()\n",
    "plt.show()\n",
    "    \n"
   ]
  },
  {
   "cell_type": "markdown",
   "metadata": {
    "papermill": {
     "duration": 0.104478,
     "end_time": "2021-04-18T14:21:23.686788",
     "exception": false,
     "start_time": "2021-04-18T14:21:23.582310",
     "status": "completed"
    },
    "tags": []
   },
   "source": [
    "Another very interesting chart where we can see that distribution of Not Survived**** and **Survived** is rougly the same, however we have some **outliers**. As we can see **infants and kids survived more since they have bigger priority**."
   ]
  },
  {
   "cell_type": "code",
   "execution_count": 34,
   "metadata": {
    "execution": {
     "iopub.execute_input": "2021-04-18T14:21:23.906326Z",
     "iopub.status.busy": "2021-04-18T14:21:23.905275Z",
     "iopub.status.idle": "2021-04-18T14:21:23.910290Z",
     "shell.execute_reply": "2021-04-18T14:21:23.909630Z"
    },
    "papermill": {
     "duration": 0.117827,
     "end_time": "2021-04-18T14:21:23.910451",
     "exception": false,
     "start_time": "2021-04-18T14:21:23.792624",
     "status": "completed"
    },
    "tags": []
   },
   "outputs": [
    {
     "data": {
      "text/plain": [
       "1    67.5\n",
       "0    32.5\n",
       "Name: Survived, dtype: float64"
      ]
     },
     "execution_count": 34,
     "metadata": {},
     "output_type": "execute_result"
    }
   ],
   "source": [
    "train.loc[train['Age'] < 5, 'Survived'].value_counts(normalize=True)*100"
   ]
  },
  {
   "cell_type": "code",
   "execution_count": 35,
   "metadata": {
    "execution": {
     "iopub.execute_input": "2021-04-18T14:21:24.129767Z",
     "iopub.status.busy": "2021-04-18T14:21:24.128999Z",
     "iopub.status.idle": "2021-04-18T14:21:24.932613Z",
     "shell.execute_reply": "2021-04-18T14:21:24.931912Z"
    },
    "papermill": {
     "duration": 0.91836,
     "end_time": "2021-04-18T14:21:24.932765",
     "exception": false,
     "start_time": "2021-04-18T14:21:24.014405",
     "status": "completed"
    },
    "tags": []
   },
   "outputs": [
    {
     "data": {
      "image/png": "[encoded data removed]",
      "text/plain": [
       "<Figure size 576x576 with 4 Axes>"
      ]
     },
     "metadata": {},
     "output_type": "display_data"
    }
   ],
   "source": [
    "g = sns.FacetGrid(train,col='Sex', size=4, row='Survived', margin_titles=True, hue='Survived')\n",
    "g = g.map(plt.hist, 'Age')\n",
    "g.fig.subplots_adjust(top=0.9)\n",
    "g.fig.suptitle('Survived by Sex and Age')\n",
    "plt.show()"
   ]
  },
  {
   "cell_type": "markdown",
   "metadata": {
    "papermill": {
     "duration": 0.105565,
     "end_time": "2021-04-18T14:21:25.146619",
     "exception": false,
     "start_time": "2021-04-18T14:21:25.041054",
     "status": "completed"
    },
    "tags": []
   },
   "source": [
    "As we can see on the above chart, female passengers have bigger priorty than males. Lets check age groups now."
   ]
  },
  {
   "cell_type": "code",
   "execution_count": 36,
   "metadata": {
    "execution": {
     "iopub.execute_input": "2021-04-18T14:21:25.367569Z",
     "iopub.status.busy": "2021-04-18T14:21:25.366618Z",
     "iopub.status.idle": "2021-04-18T14:21:27.227609Z",
     "shell.execute_reply": "2021-04-18T14:21:27.227031Z"
    },
    "papermill": {
     "duration": 1.974305,
     "end_time": "2021-04-18T14:21:27.227756",
     "exception": false,
     "start_time": "2021-04-18T14:21:25.253451",
     "status": "completed"
    },
    "tags": []
   },
   "outputs": [
    {
     "data": {
      "image/png": "[encoded data removed]",
      "text/plain": [
       "<Figure size 627.875x864 with 6 Axes>"
      ]
     },
     "metadata": {},
     "output_type": "display_data"
    }
   ],
   "source": [
    "g = sns.FacetGrid(train,col='Sex', size=4, row='Embarked', margin_titles=True, hue='Survived')\n",
    "g = g.map(plt.hist, 'Age', alpha=0.7).add_legend()\n",
    "g.fig.subplots_adjust(top=0.9)\n",
    "g.fig.suptitle('Survived by Sex and Embarked / Age')\n",
    "plt.show()"
   ]
  },
  {
   "cell_type": "code",
   "execution_count": 37,
   "metadata": {
    "execution": {
     "iopub.execute_input": "2021-04-18T14:21:27.460213Z",
     "iopub.status.busy": "2021-04-18T14:21:27.459459Z",
     "iopub.status.idle": "2021-04-18T14:21:27.464928Z",
     "shell.execute_reply": "2021-04-18T14:21:27.464204Z"
    },
    "papermill": {
     "duration": 0.130103,
     "end_time": "2021-04-18T14:21:27.465092",
     "exception": false,
     "start_time": "2021-04-18T14:21:27.334989",
     "status": "completed"
    },
    "tags": []
   },
   "outputs": [
    {
     "name": "stdout",
     "output_type": "stream",
     "text": [
      "Percentage of passengers died based on where they boarded: \n",
      "\n",
      "S    66.304348\n",
      "C    44.117647\n",
      "Q    61.038961\n",
      "Name: Embarked, dtype: float64\n",
      "-------------------------------------------------- \n",
      "\n",
      "Percentage of passengers survived based on where they boarded: \n",
      "\n",
      "S    33.695652\n",
      "C    55.882353\n",
      "Q    38.961039\n",
      "Name: Embarked, dtype: float64\n",
      "-------------------------------------------------- \n",
      "\n"
     ]
    }
   ],
   "source": [
    "print('Percentage of passengers died based on where they boarded:','\\n')\n",
    "print(train.loc[train['Survived']==0,'Embarked'].value_counts()/train.loc[:,'Embarked'].value_counts()*100)\n",
    "print('-'*50,'\\n')\n",
    "print('Percentage of passengers survived based on where they boarded:','\\n')\n",
    "print(train.loc[train['Survived']==1,'Embarked'].value_counts()/train.loc[:,'Embarked'].value_counts()*100)\n",
    "print('-'*50,'\\n')\n"
   ]
  },
  {
   "cell_type": "markdown",
   "metadata": {
    "papermill": {
     "duration": 0.107276,
     "end_time": "2021-04-18T14:21:27.680017",
     "exception": false,
     "start_time": "2021-04-18T14:21:27.572741",
     "status": "completed"
    },
    "tags": []
   },
   "source": [
    "**Another interesting insights:**\n",
    "1. More than 60% of the passengers died who boarded on Southampton\n",
    "1. More than 55% of the passengers lived who boarded on Cherbourg(C)\n",
    "1. Pretty much every male that boarded on Queenstown(Q) did not survive\n",
    "1. There were very few females boarded on Queenstown, however, most of them survived\n"
   ]
  },
  {
   "cell_type": "code",
   "execution_count": 38,
   "metadata": {
    "execution": {
     "iopub.execute_input": "2021-04-18T14:21:27.902053Z",
     "iopub.status.busy": "2021-04-18T14:21:27.901181Z",
     "iopub.status.idle": "2021-04-18T14:21:28.770185Z",
     "shell.execute_reply": "2021-04-18T14:21:28.769472Z"
    },
    "papermill": {
     "duration": 0.98304,
     "end_time": "2021-04-18T14:21:28.770337",
     "exception": false,
     "start_time": "2021-04-18T14:21:27.787297",
     "status": "completed"
    },
    "tags": []
   },
   "outputs": [
    {
     "data": {
      "image/png": "[encoded data removed]",
      "text/plain": [
       "<Figure size 771.875x360 with 2 Axes>"
      ]
     },
     "metadata": {},
     "output_type": "display_data"
    }
   ],
   "source": [
    "g = sns.FacetGrid(train, col='Sex', hue='Survived',size=5, margin_titles = True)\n",
    "g = g.map(sns.scatterplot, 'Fare','Age').add_legend()\n",
    "\n"
   ]
  },
  {
   "cell_type": "markdown",
   "metadata": {
    "papermill": {
     "duration": 0.110828,
     "end_time": "2021-04-18T14:21:28.991709",
     "exception": false,
     "start_time": "2021-04-18T14:21:28.880881",
     "status": "completed"
    },
    "tags": []
   },
   "source": [
    "# Statistical Overview\n",
    "We will start with basic descriptive statistics"
   ]
  },
  {
   "cell_type": "code",
   "execution_count": 39,
   "metadata": {
    "execution": {
     "iopub.execute_input": "2021-04-18T14:21:29.221390Z",
     "iopub.status.busy": "2021-04-18T14:21:29.220451Z",
     "iopub.status.idle": "2021-04-18T14:21:29.250649Z",
     "shell.execute_reply": "2021-04-18T14:21:29.250000Z"
    },
    "papermill": {
     "duration": 0.148169,
     "end_time": "2021-04-18T14:21:29.250797",
     "exception": false,
     "start_time": "2021-04-18T14:21:29.102628",
     "status": "completed"
    },
    "tags": []
   },
   "outputs": [
    {
     "data": {
      "text/html": [
       "<div>\n",
       "<style scoped>\n",
       "    .dataframe tbody tr th:only-of-type {\n",
       "        vertical-align: middle;\n",
       "    }\n",
       "\n",
       "    .dataframe tbody tr th {\n",
       "        vertical-align: top;\n",
       "    }\n",
       "\n",
       "    .dataframe thead th {\n",
       "        text-align: right;\n",
       "    }\n",
       "</style>\n",
       "<table border=\"1\" class=\"dataframe\">\n",
       "  <thead>\n",
       "    <tr style=\"text-align: right;\">\n",
       "      <th></th>\n",
       "      <th>PassengerId</th>\n",
       "      <th>Pclass</th>\n",
       "      <th>Age</th>\n",
       "      <th>SibSp</th>\n",
       "      <th>Parch</th>\n",
       "      <th>Fare</th>\n",
       "      <th>Survived</th>\n",
       "    </tr>\n",
       "  </thead>\n",
       "  <tbody>\n",
       "    <tr>\n",
       "      <th>count</th>\n",
       "      <td>891.000000</td>\n",
       "      <td>891.000000</td>\n",
       "      <td>714.000000</td>\n",
       "      <td>891.000000</td>\n",
       "      <td>891.000000</td>\n",
       "      <td>891.000000</td>\n",
       "      <td>891.000000</td>\n",
       "    </tr>\n",
       "    <tr>\n",
       "      <th>mean</th>\n",
       "      <td>446.000000</td>\n",
       "      <td>2.308642</td>\n",
       "      <td>29.699118</td>\n",
       "      <td>0.523008</td>\n",
       "      <td>0.381594</td>\n",
       "      <td>32.204208</td>\n",
       "      <td>0.383838</td>\n",
       "    </tr>\n",
       "    <tr>\n",
       "      <th>std</th>\n",
       "      <td>257.353842</td>\n",
       "      <td>0.836071</td>\n",
       "      <td>14.526497</td>\n",
       "      <td>1.102743</td>\n",
       "      <td>0.806057</td>\n",
       "      <td>49.693429</td>\n",
       "      <td>0.486592</td>\n",
       "    </tr>\n",
       "    <tr>\n",
       "      <th>min</th>\n",
       "      <td>1.000000</td>\n",
       "      <td>1.000000</td>\n",
       "      <td>0.420000</td>\n",
       "      <td>0.000000</td>\n",
       "      <td>0.000000</td>\n",
       "      <td>0.000000</td>\n",
       "      <td>0.000000</td>\n",
       "    </tr>\n",
       "    <tr>\n",
       "      <th>25%</th>\n",
       "      <td>223.500000</td>\n",
       "      <td>2.000000</td>\n",
       "      <td>20.125000</td>\n",
       "      <td>0.000000</td>\n",
       "      <td>0.000000</td>\n",
       "      <td>7.910400</td>\n",
       "      <td>0.000000</td>\n",
       "    </tr>\n",
       "    <tr>\n",
       "      <th>50%</th>\n",
       "      <td>446.000000</td>\n",
       "      <td>3.000000</td>\n",
       "      <td>28.000000</td>\n",
       "      <td>0.000000</td>\n",
       "      <td>0.000000</td>\n",
       "      <td>14.454200</td>\n",
       "      <td>0.000000</td>\n",
       "    </tr>\n",
       "    <tr>\n",
       "      <th>75%</th>\n",
       "      <td>668.500000</td>\n",
       "      <td>3.000000</td>\n",
       "      <td>38.000000</td>\n",
       "      <td>1.000000</td>\n",
       "      <td>0.000000</td>\n",
       "      <td>31.000000</td>\n",
       "      <td>1.000000</td>\n",
       "    </tr>\n",
       "    <tr>\n",
       "      <th>max</th>\n",
       "      <td>891.000000</td>\n",
       "      <td>3.000000</td>\n",
       "      <td>80.000000</td>\n",
       "      <td>8.000000</td>\n",
       "      <td>6.000000</td>\n",
       "      <td>512.329200</td>\n",
       "      <td>1.000000</td>\n",
       "    </tr>\n",
       "  </tbody>\n",
       "</table>\n",
       "</div>"
      ],
      "text/plain": [
       "       PassengerId      Pclass         Age       SibSp       Parch  \\\n",
       "count   891.000000  891.000000  714.000000  891.000000  891.000000   \n",
       "mean    446.000000    2.308642   29.699118    0.523008    0.381594   \n",
       "std     257.353842    0.836071   14.526497    1.102743    0.806057   \n",
       "min       1.000000    1.000000    0.420000    0.000000    0.000000   \n",
       "25%     223.500000    2.000000   20.125000    0.000000    0.000000   \n",
       "50%     446.000000    3.000000   28.000000    0.000000    0.000000   \n",
       "75%     668.500000    3.000000   38.000000    1.000000    0.000000   \n",
       "max     891.000000    3.000000   80.000000    8.000000    6.000000   \n",
       "\n",
       "             Fare    Survived  \n",
       "count  891.000000  891.000000  \n",
       "mean    32.204208    0.383838  \n",
       "std     49.693429    0.486592  \n",
       "min      0.000000    0.000000  \n",
       "25%      7.910400    0.000000  \n",
       "50%     14.454200    0.000000  \n",
       "75%     31.000000    1.000000  \n",
       "max    512.329200    1.000000  "
      ]
     },
     "execution_count": 39,
     "metadata": {},
     "output_type": "execute_result"
    }
   ],
   "source": [
    "train.describe(exclude='O')"
   ]
  },
  {
   "cell_type": "code",
   "execution_count": 40,
   "metadata": {
    "execution": {
     "iopub.execute_input": "2021-04-18T14:21:29.500916Z",
     "iopub.status.busy": "2021-04-18T14:21:29.486784Z",
     "iopub.status.idle": "2021-04-18T14:21:29.510689Z",
     "shell.execute_reply": "2021-04-18T14:21:29.509945Z"
    },
    "papermill": {
     "duration": 0.143771,
     "end_time": "2021-04-18T14:21:29.510859",
     "exception": false,
     "start_time": "2021-04-18T14:21:29.367088",
     "status": "completed"
    },
    "tags": []
   },
   "outputs": [
    {
     "data": {
      "text/html": [
       "<div>\n",
       "<style scoped>\n",
       "    .dataframe tbody tr th:only-of-type {\n",
       "        vertical-align: middle;\n",
       "    }\n",
       "\n",
       "    .dataframe tbody tr th {\n",
       "        vertical-align: top;\n",
       "    }\n",
       "\n",
       "    .dataframe thead th {\n",
       "        text-align: right;\n",
       "    }\n",
       "</style>\n",
       "<table border=\"1\" class=\"dataframe\">\n",
       "  <thead>\n",
       "    <tr style=\"text-align: right;\">\n",
       "      <th></th>\n",
       "      <th>Name</th>\n",
       "      <th>Sex</th>\n",
       "      <th>Ticket</th>\n",
       "      <th>Cabin</th>\n",
       "      <th>Embarked</th>\n",
       "    </tr>\n",
       "  </thead>\n",
       "  <tbody>\n",
       "    <tr>\n",
       "      <th>count</th>\n",
       "      <td>891</td>\n",
       "      <td>891</td>\n",
       "      <td>891</td>\n",
       "      <td>891</td>\n",
       "      <td>891</td>\n",
       "    </tr>\n",
       "    <tr>\n",
       "      <th>unique</th>\n",
       "      <td>891</td>\n",
       "      <td>2</td>\n",
       "      <td>681</td>\n",
       "      <td>8</td>\n",
       "      <td>3</td>\n",
       "    </tr>\n",
       "    <tr>\n",
       "      <th>top</th>\n",
       "      <td>Moen, Mr. Sigurd Hansen</td>\n",
       "      <td>male</td>\n",
       "      <td>1601</td>\n",
       "      <td>G</td>\n",
       "      <td>S</td>\n",
       "    </tr>\n",
       "    <tr>\n",
       "      <th>freq</th>\n",
       "      <td>1</td>\n",
       "      <td>577</td>\n",
       "      <td>7</td>\n",
       "      <td>464</td>\n",
       "      <td>644</td>\n",
       "    </tr>\n",
       "  </tbody>\n",
       "</table>\n",
       "</div>"
      ],
      "text/plain": [
       "                           Name   Sex Ticket Cabin Embarked\n",
       "count                       891   891    891   891      891\n",
       "unique                      891     2    681     8        3\n",
       "top     Moen, Mr. Sigurd Hansen  male   1601     G        S\n",
       "freq                          1   577      7   464      644"
      ]
     },
     "execution_count": 40,
     "metadata": {},
     "output_type": "execute_result"
    }
   ],
   "source": [
    "train.describe(include=['O'])"
   ]
  },
  {
   "cell_type": "code",
   "execution_count": 41,
   "metadata": {
    "execution": {
     "iopub.execute_input": "2021-04-18T14:21:29.751891Z",
     "iopub.status.busy": "2021-04-18T14:21:29.750755Z",
     "iopub.status.idle": "2021-04-18T14:21:29.755580Z",
     "shell.execute_reply": "2021-04-18T14:21:29.754915Z"
    },
    "papermill": {
     "duration": 0.131912,
     "end_time": "2021-04-18T14:21:29.755729",
     "exception": false,
     "start_time": "2021-04-18T14:21:29.623817",
     "status": "completed"
    },
    "tags": []
   },
   "outputs": [
    {
     "data": {
      "text/html": [
       "<div>\n",
       "<style scoped>\n",
       "    .dataframe tbody tr th:only-of-type {\n",
       "        vertical-align: middle;\n",
       "    }\n",
       "\n",
       "    .dataframe tbody tr th {\n",
       "        vertical-align: top;\n",
       "    }\n",
       "\n",
       "    .dataframe thead th {\n",
       "        text-align: right;\n",
       "    }\n",
       "</style>\n",
       "<table border=\"1\" class=\"dataframe\">\n",
       "  <thead>\n",
       "    <tr style=\"text-align: right;\">\n",
       "      <th></th>\n",
       "      <th>Survived</th>\n",
       "      <th>Age</th>\n",
       "      <th>SibSp</th>\n",
       "      <th>Parch</th>\n",
       "      <th>Fare</th>\n",
       "    </tr>\n",
       "  </thead>\n",
       "  <tbody>\n",
       "    <tr>\n",
       "      <th>0</th>\n",
       "      <td>0</td>\n",
       "      <td>30.626179</td>\n",
       "      <td>0.553734</td>\n",
       "      <td>0.329690</td>\n",
       "      <td>22.117887</td>\n",
       "    </tr>\n",
       "    <tr>\n",
       "      <th>1</th>\n",
       "      <td>1</td>\n",
       "      <td>28.343690</td>\n",
       "      <td>0.473684</td>\n",
       "      <td>0.464912</td>\n",
       "      <td>48.395408</td>\n",
       "    </tr>\n",
       "  </tbody>\n",
       "</table>\n",
       "</div>"
      ],
      "text/plain": [
       "   Survived        Age     SibSp     Parch       Fare\n",
       "0         0  30.626179  0.553734  0.329690  22.117887\n",
       "1         1  28.343690  0.473684  0.464912  48.395408"
      ]
     },
     "execution_count": 41,
     "metadata": {},
     "output_type": "execute_result"
    }
   ],
   "source": [
    "survived_summary = train.groupby('Survived').agg('mean').reset_index().drop(['PassengerId','Pclass'], axis=1)\n",
    "survived_summary\n"
   ]
  },
  {
   "cell_type": "markdown",
   "metadata": {
    "papermill": {
     "duration": 0.11067,
     "end_time": "2021-04-18T14:21:29.978440",
     "exception": false,
     "start_time": "2021-04-18T14:21:29.867770",
     "status": "completed"
    },
    "tags": []
   },
   "source": [
    "**Insights:**\n",
    "* Average age for passangers who surived = 28 years\n",
    "* Average age for passangers who didnt survive = 30 years"
   ]
  },
  {
   "cell_type": "code",
   "execution_count": 42,
   "metadata": {
    "execution": {
     "iopub.execute_input": "2021-04-18T14:21:30.207602Z",
     "iopub.status.busy": "2021-04-18T14:21:30.206548Z",
     "iopub.status.idle": "2021-04-18T14:21:30.223029Z",
     "shell.execute_reply": "2021-04-18T14:21:30.222475Z"
    },
    "papermill": {
     "duration": 0.133601,
     "end_time": "2021-04-18T14:21:30.223186",
     "exception": false,
     "start_time": "2021-04-18T14:21:30.089585",
     "status": "completed"
    },
    "tags": []
   },
   "outputs": [
    {
     "data": {
      "text/html": [
       "<div>\n",
       "<style scoped>\n",
       "    .dataframe tbody tr th:only-of-type {\n",
       "        vertical-align: middle;\n",
       "    }\n",
       "\n",
       "    .dataframe tbody tr th {\n",
       "        vertical-align: top;\n",
       "    }\n",
       "\n",
       "    .dataframe thead th {\n",
       "        text-align: right;\n",
       "    }\n",
       "</style>\n",
       "<table border=\"1\" class=\"dataframe\">\n",
       "  <thead>\n",
       "    <tr style=\"text-align: right;\">\n",
       "      <th></th>\n",
       "      <th>Sex</th>\n",
       "      <th>Age</th>\n",
       "      <th>SibSp</th>\n",
       "      <th>Parch</th>\n",
       "      <th>Fare</th>\n",
       "      <th>Survived</th>\n",
       "    </tr>\n",
       "  </thead>\n",
       "  <tbody>\n",
       "    <tr>\n",
       "      <th>0</th>\n",
       "      <td>female</td>\n",
       "      <td>27.915709</td>\n",
       "      <td>0.694268</td>\n",
       "      <td>0.649682</td>\n",
       "      <td>44.479818</td>\n",
       "      <td>0.742038</td>\n",
       "    </tr>\n",
       "    <tr>\n",
       "      <th>1</th>\n",
       "      <td>male</td>\n",
       "      <td>30.726645</td>\n",
       "      <td>0.429809</td>\n",
       "      <td>0.235702</td>\n",
       "      <td>25.523893</td>\n",
       "      <td>0.188908</td>\n",
       "    </tr>\n",
       "  </tbody>\n",
       "</table>\n",
       "</div>"
      ],
      "text/plain": [
       "      Sex        Age     SibSp     Parch       Fare  Survived\n",
       "0  female  27.915709  0.694268  0.649682  44.479818  0.742038\n",
       "1    male  30.726645  0.429809  0.235702  25.523893  0.188908"
      ]
     },
     "execution_count": 42,
     "metadata": {},
     "output_type": "execute_result"
    }
   ],
   "source": [
    "survived_summary = train.groupby('Sex').agg('mean').reset_index().drop(['PassengerId','Pclass'], axis=1)\n",
    "survived_summary\n"
   ]
  },
  {
   "cell_type": "code",
   "execution_count": 43,
   "metadata": {
    "execution": {
     "iopub.execute_input": "2021-04-18T14:21:30.494074Z",
     "iopub.status.busy": "2021-04-18T14:21:30.493013Z",
     "iopub.status.idle": "2021-04-18T14:21:30.497778Z",
     "shell.execute_reply": "2021-04-18T14:21:30.497162Z"
    },
    "papermill": {
     "duration": 0.142793,
     "end_time": "2021-04-18T14:21:30.497941",
     "exception": false,
     "start_time": "2021-04-18T14:21:30.355148",
     "status": "completed"
    },
    "tags": []
   },
   "outputs": [
    {
     "data": {
      "text/html": [
       "<div>\n",
       "<style scoped>\n",
       "    .dataframe tbody tr th:only-of-type {\n",
       "        vertical-align: middle;\n",
       "    }\n",
       "\n",
       "    .dataframe tbody tr th {\n",
       "        vertical-align: top;\n",
       "    }\n",
       "\n",
       "    .dataframe thead th {\n",
       "        text-align: right;\n",
       "    }\n",
       "</style>\n",
       "<table border=\"1\" class=\"dataframe\">\n",
       "  <thead>\n",
       "    <tr style=\"text-align: right;\">\n",
       "      <th></th>\n",
       "      <th>Pclass</th>\n",
       "      <th>Age</th>\n",
       "      <th>SibSp</th>\n",
       "      <th>Parch</th>\n",
       "      <th>Fare</th>\n",
       "      <th>Survived</th>\n",
       "    </tr>\n",
       "  </thead>\n",
       "  <tbody>\n",
       "    <tr>\n",
       "      <th>0</th>\n",
       "      <td>1</td>\n",
       "      <td>38.233441</td>\n",
       "      <td>0.416667</td>\n",
       "      <td>0.356481</td>\n",
       "      <td>84.154687</td>\n",
       "      <td>0.629630</td>\n",
       "    </tr>\n",
       "    <tr>\n",
       "      <th>1</th>\n",
       "      <td>2</td>\n",
       "      <td>29.877630</td>\n",
       "      <td>0.402174</td>\n",
       "      <td>0.380435</td>\n",
       "      <td>20.662183</td>\n",
       "      <td>0.472826</td>\n",
       "    </tr>\n",
       "    <tr>\n",
       "      <th>2</th>\n",
       "      <td>3</td>\n",
       "      <td>25.140620</td>\n",
       "      <td>0.615071</td>\n",
       "      <td>0.393075</td>\n",
       "      <td>13.675550</td>\n",
       "      <td>0.242363</td>\n",
       "    </tr>\n",
       "  </tbody>\n",
       "</table>\n",
       "</div>"
      ],
      "text/plain": [
       "   Pclass        Age     SibSp     Parch       Fare  Survived\n",
       "0       1  38.233441  0.416667  0.356481  84.154687  0.629630\n",
       "1       2  29.877630  0.402174  0.380435  20.662183  0.472826\n",
       "2       3  25.140620  0.615071  0.393075  13.675550  0.242363"
      ]
     },
     "execution_count": 43,
     "metadata": {},
     "output_type": "execute_result"
    }
   ],
   "source": [
    "survived_summary = train.groupby('Pclass').agg('mean').reset_index().drop(['PassengerId'], axis=1)\n",
    "survived_summary"
   ]
  },
  {
   "cell_type": "markdown",
   "metadata": {
    "papermill": {
     "duration": 0.11196,
     "end_time": "2021-04-18T14:21:30.723686",
     "exception": false,
     "start_time": "2021-04-18T14:21:30.611726",
     "status": "completed"
    },
    "tags": []
   },
   "source": [
    "Correlation heatmap"
   ]
  },
  {
   "cell_type": "code",
   "execution_count": 44,
   "metadata": {
    "execution": {
     "iopub.execute_input": "2021-04-18T14:21:30.958022Z",
     "iopub.status.busy": "2021-04-18T14:21:30.956968Z",
     "iopub.status.idle": "2021-04-18T14:21:30.962266Z",
     "shell.execute_reply": "2021-04-18T14:21:30.962757Z"
    },
    "papermill": {
     "duration": 0.124998,
     "end_time": "2021-04-18T14:21:30.962972",
     "exception": false,
     "start_time": "2021-04-18T14:21:30.837974",
     "status": "completed"
    },
    "tags": []
   },
   "outputs": [],
   "source": [
    "train['Sex'] = train['Sex'].map({'male':1,'female':0})\n",
    "test['Sex'] = test['Sex'].map({'male':1,'female':0})"
   ]
  },
  {
   "cell_type": "code",
   "execution_count": 45,
   "metadata": {
    "execution": {
     "iopub.execute_input": "2021-04-18T14:21:31.194649Z",
     "iopub.status.busy": "2021-04-18T14:21:31.193710Z",
     "iopub.status.idle": "2021-04-18T14:21:31.582090Z",
     "shell.execute_reply": "2021-04-18T14:21:31.582557Z"
    },
    "papermill": {
     "duration": 0.505512,
     "end_time": "2021-04-18T14:21:31.582738",
     "exception": false,
     "start_time": "2021-04-18T14:21:31.077226",
     "status": "completed"
    },
    "tags": []
   },
   "outputs": [
    {
     "data": {
      "image/png": "[encoded data removed]",
      "text/plain": [
       "<Figure size 720x576 with 2 Axes>"
      ]
     },
     "metadata": {},
     "output_type": "display_data"
    }
   ],
   "source": [
    "# import numpy as np\n",
    "corr = train.corr()\n",
    "mask = np.zeros_like(corr)\n",
    "mask[np.triu_indices_from(mask)] = True\n",
    "plt.figure(figsize=(15/1.5,12/1.5))\n",
    "sns.heatmap(corr,\n",
    "           mask=mask,\n",
    "           cmap='Blues',\n",
    "           linewidths=2,\n",
    "           linecolor='white',\n",
    "           fmt='.2g',\n",
    "           annot=True,\n",
    "           square=True)\n",
    "\n",
    "plt.show()"
   ]
  },
  {
   "cell_type": "markdown",
   "metadata": {
    "papermill": {
     "duration": 0.114874,
     "end_time": "2021-04-18T14:21:31.812413",
     "exception": false,
     "start_time": "2021-04-18T14:21:31.697539",
     "status": "completed"
    },
    "tags": []
   },
   "source": [
    "**Interesting correlations:**\n",
    "* Pclass - Fare: passenger who was in lower class payed less\n",
    "* Pclass - Survived: passenger who was in lower class mosty likely didnt survive\n",
    "* Fare - Surivved: passenger who paied less also have bigger chance to survive\n",
    "\n",
    "Lets make statistical test for correlation!"
   ]
  },
  {
   "cell_type": "code",
   "execution_count": 46,
   "metadata": {
    "execution": {
     "iopub.execute_input": "2021-04-18T14:21:32.050045Z",
     "iopub.status.busy": "2021-04-18T14:21:32.049348Z",
     "iopub.status.idle": "2021-04-18T14:21:32.092859Z",
     "shell.execute_reply": "2021-04-18T14:21:32.092267Z"
    },
    "papermill": {
     "duration": 0.166643,
     "end_time": "2021-04-18T14:21:32.093040",
     "exception": false,
     "start_time": "2021-04-18T14:21:31.926397",
     "status": "completed"
    },
    "tags": []
   },
   "outputs": [
    {
     "data": {
      "text/html": [
       "<div>\n",
       "<style scoped>\n",
       "    .dataframe tbody tr th:only-of-type {\n",
       "        vertical-align: middle;\n",
       "    }\n",
       "\n",
       "    .dataframe tbody tr th {\n",
       "        vertical-align: top;\n",
       "    }\n",
       "\n",
       "    .dataframe thead th {\n",
       "        text-align: right;\n",
       "    }\n",
       "</style>\n",
       "<table border=\"1\" class=\"dataframe\">\n",
       "  <thead>\n",
       "    <tr style=\"text-align: right;\">\n",
       "      <th></th>\n",
       "      <th>Variable</th>\n",
       "      <th>P-value</th>\n",
       "    </tr>\n",
       "  </thead>\n",
       "  <tbody>\n",
       "    <tr>\n",
       "      <th>0</th>\n",
       "      <td>PassengerId/PassengerId</td>\n",
       "      <td>0.000000e+00</td>\n",
       "    </tr>\n",
       "    <tr>\n",
       "      <th>1</th>\n",
       "      <td>PassengerId/Pclass</td>\n",
       "      <td>2.946911e-01</td>\n",
       "    </tr>\n",
       "    <tr>\n",
       "      <th>2</th>\n",
       "      <td>PassengerId/Sex</td>\n",
       "      <td>2.003691e-01</td>\n",
       "    </tr>\n",
       "    <tr>\n",
       "      <th>3</th>\n",
       "      <td>PassengerId/SibSp</td>\n",
       "      <td>8.613183e-02</td>\n",
       "    </tr>\n",
       "    <tr>\n",
       "      <th>9</th>\n",
       "      <td>Pclass/Sex</td>\n",
       "      <td>7.850524e-05</td>\n",
       "    </tr>\n",
       "    <tr>\n",
       "      <th>10</th>\n",
       "      <td>Pclass/SibSp</td>\n",
       "      <td>1.311041e-02</td>\n",
       "    </tr>\n",
       "    <tr>\n",
       "      <th>12</th>\n",
       "      <td>Pclass/Fare</td>\n",
       "      <td>1.967386e-71</td>\n",
       "    </tr>\n",
       "    <tr>\n",
       "      <th>13</th>\n",
       "      <td>Pclass/Survived</td>\n",
       "      <td>2.537047e-25</td>\n",
       "    </tr>\n",
       "    <tr>\n",
       "      <th>17</th>\n",
       "      <td>Sex/SibSp</td>\n",
       "      <td>6.076215e-04</td>\n",
       "    </tr>\n",
       "    <tr>\n",
       "      <th>18</th>\n",
       "      <td>Sex/Parch</td>\n",
       "      <td>1.073933e-13</td>\n",
       "    </tr>\n",
       "    <tr>\n",
       "      <th>19</th>\n",
       "      <td>Sex/Fare</td>\n",
       "      <td>4.230868e-08</td>\n",
       "    </tr>\n",
       "    <tr>\n",
       "      <th>20</th>\n",
       "      <td>Sex/Survived</td>\n",
       "      <td>1.406066e-69</td>\n",
       "    </tr>\n",
       "    <tr>\n",
       "      <th>25</th>\n",
       "      <td>SibSp/Parch</td>\n",
       "      <td>2.241824e-38</td>\n",
       "    </tr>\n",
       "    <tr>\n",
       "      <th>26</th>\n",
       "      <td>SibSp/Fare</td>\n",
       "      <td>1.671256e-06</td>\n",
       "    </tr>\n",
       "    <tr>\n",
       "      <th>27</th>\n",
       "      <td>SibSp/Survived</td>\n",
       "      <td>2.922439e-01</td>\n",
       "    </tr>\n",
       "    <tr>\n",
       "      <th>33</th>\n",
       "      <td>Parch/Fare</td>\n",
       "      <td>6.915292e-11</td>\n",
       "    </tr>\n",
       "    <tr>\n",
       "      <th>34</th>\n",
       "      <td>Parch/Survived</td>\n",
       "      <td>1.479925e-02</td>\n",
       "    </tr>\n",
       "    <tr>\n",
       "      <th>41</th>\n",
       "      <td>Fare/Survived</td>\n",
       "      <td>6.120189e-15</td>\n",
       "    </tr>\n",
       "  </tbody>\n",
       "</table>\n",
       "</div>"
      ],
      "text/plain": [
       "                   Variable       P-value\n",
       "0   PassengerId/PassengerId  0.000000e+00\n",
       "1        PassengerId/Pclass  2.946911e-01\n",
       "2           PassengerId/Sex  2.003691e-01\n",
       "3         PassengerId/SibSp  8.613183e-02\n",
       "9                Pclass/Sex  7.850524e-05\n",
       "10             Pclass/SibSp  1.311041e-02\n",
       "12              Pclass/Fare  1.967386e-71\n",
       "13          Pclass/Survived  2.537047e-25\n",
       "17                Sex/SibSp  6.076215e-04\n",
       "18                Sex/Parch  1.073933e-13\n",
       "19                 Sex/Fare  4.230868e-08\n",
       "20             Sex/Survived  1.406066e-69\n",
       "25              SibSp/Parch  2.241824e-38\n",
       "26               SibSp/Fare  1.671256e-06\n",
       "27           SibSp/Survived  2.922439e-01\n",
       "33               Parch/Fare  6.915292e-11\n",
       "34           Parch/Survived  1.479925e-02\n",
       "41            Fare/Survived  6.120189e-15"
      ]
     },
     "execution_count": 46,
     "metadata": {},
     "output_type": "execute_result"
    }
   ],
   "source": [
    "from scipy.stats import pearsonr\n",
    "r, p = pearsonr(train['Sex'], train['Survived'])\n",
    "\n",
    "\n",
    "def show_pvalues_corr(df,sign_level):\n",
    "    variables = []\n",
    "    pvalues = []\n",
    "    for i in df.select_dtypes(exclude='O').columns:\n",
    "        for n in df.select_dtypes(exclude='O'):\n",
    "            try:\n",
    "                r, p = pearsonr(df[i],df[n])\n",
    "                variables.append(f'{i}/{n}')\n",
    "                pvalues.append(p)     \n",
    "            except:\n",
    "                continue\n",
    "    variables = pd.Series(variables)\n",
    "    pvalues = pd.Series(pvalues)\n",
    "\n",
    "    df_pvalue = pd.concat([variables, pvalues], axis=1)\n",
    "    df_pvalue.columns = ['Variable','P-value']\n",
    "    return df_pvalue.loc[df_pvalue['P-value']<=sign_level].drop_duplicates('P-value')\n",
    "\n",
    "show_pvalues_corr(train,0.5)\n"
   ]
  },
  {
   "cell_type": "markdown",
   "metadata": {
    "papermill": {
     "duration": 0.114077,
     "end_time": "2021-04-18T14:21:32.320982",
     "exception": false,
     "start_time": "2021-04-18T14:21:32.206905",
     "status": "completed"
    },
    "tags": []
   },
   "source": [
    "**Correlation between these variables is significant.**"
   ]
  },
  {
   "cell_type": "markdown",
   "metadata": {
    "papermill": {
     "duration": 0.120583,
     "end_time": "2021-04-18T14:21:32.559544",
     "exception": false,
     "start_time": "2021-04-18T14:21:32.438961",
     "status": "completed"
    },
    "tags": []
   },
   "source": [
    "## Confidence intervals\n",
    "Construct three 95% confidence intervals: one for the proportion of women who smoke, one for the proportion of men who smoke, and one for the difference in these proportions."
   ]
  },
  {
   "cell_type": "code",
   "execution_count": 47,
   "metadata": {
    "execution": {
     "iopub.execute_input": "2021-04-18T14:21:32.797436Z",
     "iopub.status.busy": "2021-04-18T14:21:32.796750Z",
     "iopub.status.idle": "2021-04-18T14:21:32.799884Z",
     "shell.execute_reply": "2021-04-18T14:21:32.799368Z"
    },
    "papermill": {
     "duration": 0.124554,
     "end_time": "2021-04-18T14:21:32.800053",
     "exception": false,
     "start_time": "2021-04-18T14:21:32.675499",
     "status": "completed"
    },
    "tags": []
   },
   "outputs": [],
   "source": [
    "female_survived = train.loc[train['Sex'] == 0,'Survived']\n",
    "male_survived = train.loc[train['Sex'] == 1,'Survived']\n"
   ]
  },
  {
   "cell_type": "code",
   "execution_count": 48,
   "metadata": {
    "execution": {
     "iopub.execute_input": "2021-04-18T14:21:33.038095Z",
     "iopub.status.busy": "2021-04-18T14:21:33.037368Z",
     "iopub.status.idle": "2021-04-18T14:21:33.086603Z",
     "shell.execute_reply": "2021-04-18T14:21:33.085916Z"
    },
    "papermill": {
     "duration": 0.172188,
     "end_time": "2021-04-18T14:21:33.086748",
     "exception": false,
     "start_time": "2021-04-18T14:21:32.914560",
     "status": "completed"
    },
    "tags": []
   },
   "outputs": [
    {
     "data": {
      "text/html": [
       "<div>\n",
       "<style scoped>\n",
       "    .dataframe tbody tr th:only-of-type {\n",
       "        vertical-align: middle;\n",
       "    }\n",
       "\n",
       "    .dataframe tbody tr th {\n",
       "        vertical-align: top;\n",
       "    }\n",
       "\n",
       "    .dataframe thead th {\n",
       "        text-align: right;\n",
       "    }\n",
       "</style>\n",
       "<table border=\"1\" class=\"dataframe\">\n",
       "  <thead>\n",
       "    <tr style=\"text-align: right;\">\n",
       "      <th></th>\n",
       "      <th>Bounds - Female</th>\n",
       "    </tr>\n",
       "  </thead>\n",
       "  <tbody>\n",
       "    <tr>\n",
       "      <th>Lower</th>\n",
       "      <td>69.364616</td>\n",
       "    </tr>\n",
       "    <tr>\n",
       "      <th>Upper</th>\n",
       "      <td>79.043027</td>\n",
       "    </tr>\n",
       "  </tbody>\n",
       "</table>\n",
       "</div>"
      ],
      "text/plain": [
       "       Bounds - Female\n",
       "Lower        69.364616\n",
       "Upper        79.043027"
      ]
     },
     "execution_count": 48,
     "metadata": {},
     "output_type": "execute_result"
    }
   ],
   "source": [
    "from statsmodels.stats.proportion import proportion_confint\n",
    "ci_low, ci_upp = proportion_confint(sum(female_survived==1), len(female_survived), alpha=0.05, method='normal') #normal method for CI\n",
    "low = pd.Series(ci_low)*100\n",
    "upp = pd.Series(ci_upp)*100\n",
    "\n",
    "ci = pd.DataFrame([low, upp],index=['Lower','Upper'])\n",
    "ci.columns = ['Bounds - Female']\n",
    "ci\n"
   ]
  },
  {
   "cell_type": "code",
   "execution_count": 49,
   "metadata": {
    "execution": {
     "iopub.execute_input": "2021-04-18T14:21:33.333907Z",
     "iopub.status.busy": "2021-04-18T14:21:33.333206Z",
     "iopub.status.idle": "2021-04-18T14:21:33.337221Z",
     "shell.execute_reply": "2021-04-18T14:21:33.336662Z"
    },
    "papermill": {
     "duration": 0.134857,
     "end_time": "2021-04-18T14:21:33.337367",
     "exception": false,
     "start_time": "2021-04-18T14:21:33.202510",
     "status": "completed"
    },
    "tags": []
   },
   "outputs": [
    {
     "data": {
      "text/html": [
       "<div>\n",
       "<style scoped>\n",
       "    .dataframe tbody tr th:only-of-type {\n",
       "        vertical-align: middle;\n",
       "    }\n",
       "\n",
       "    .dataframe tbody tr th {\n",
       "        vertical-align: top;\n",
       "    }\n",
       "\n",
       "    .dataframe thead th {\n",
       "        text-align: right;\n",
       "    }\n",
       "</style>\n",
       "<table border=\"1\" class=\"dataframe\">\n",
       "  <thead>\n",
       "    <tr style=\"text-align: right;\">\n",
       "      <th></th>\n",
       "      <th>Bounds - Male</th>\n",
       "    </tr>\n",
       "  </thead>\n",
       "  <tbody>\n",
       "    <tr>\n",
       "      <th>Lower</th>\n",
       "      <td>15.696920</td>\n",
       "    </tr>\n",
       "    <tr>\n",
       "      <th>Upper</th>\n",
       "      <td>22.084709</td>\n",
       "    </tr>\n",
       "  </tbody>\n",
       "</table>\n",
       "</div>"
      ],
      "text/plain": [
       "       Bounds - Male\n",
       "Lower      15.696920\n",
       "Upper      22.084709"
      ]
     },
     "execution_count": 49,
     "metadata": {},
     "output_type": "execute_result"
    }
   ],
   "source": [
    "ci_low, ci_upp = proportion_confint(sum(male_survived==1), len(male_survived), alpha=0.05, method='normal') \n",
    "low = pd.Series(ci_low)*100\n",
    "upp = pd.Series(ci_upp)*100\n",
    "\n",
    "ci = pd.DataFrame([low, upp],index=['Lower','Upper'])\n",
    "ci.columns = ['Bounds - Male']\n",
    "ci\n"
   ]
  },
  {
   "cell_type": "markdown",
   "metadata": {
    "papermill": {
     "duration": 0.115565,
     "end_time": "2021-04-18T14:21:33.570024",
     "exception": false,
     "start_time": "2021-04-18T14:21:33.454459",
     "status": "completed"
    },
    "tags": []
   },
   "source": [
    "**Results**:\n",
    "* With 95% confidence we estimate that population proportion of female who survived is **between  69% and 79%.**\n",
    "* With 95% confidence we estimate that population proportion of male who survived is **between  15% and 22%.**"
   ]
  },
  {
   "cell_type": "markdown",
   "metadata": {
    "papermill": {
     "duration": 0.114757,
     "end_time": "2021-04-18T14:21:33.801837",
     "exception": false,
     "start_time": "2021-04-18T14:21:33.687080",
     "status": "completed"
    },
    "tags": []
   },
   "source": [
    "**Lets have a look on diference between means. For this case we will use Welch t-test:**\n",
    "\n",
    "Welch’s t-test, unlike Student’s t-test, does not have the assumption of equal variance (however, both tests have the assumption of normality). When two groups have equal sample sizes and variances, Welch’s tends to give the same result as Student’s. However, when sample sizes and variances are unequal, Student’s t-test is quite unreliable; Welch’s tends perform better.\n",
    "\n",
    "* Lets check if there is sifnigicant difference between mean age of passengers who survived and who didnt.\n",
    "\n",
    "**H0**: Mean age of passengers who survived = Mean age of passengers who didnt survive\n",
    "\n",
    "**H1**: Mean age of passengers who survived != Mean age of passengers who didnt survive\n",
    "\n",
    "**Assmuptions**: The t-tests assumes that the means of the different samples are normally distributed. By the central limit theorem, means of samples from a population with finite variance approach a normal distribution regardless of the distribution of the population. Rules of thumb say that the sample means are basically normally distributed as long as the sample size is at least 20 or 30. For a t-test to be valid on a sample of smaller size, the population distribution would have to be approximately normal."
   ]
  },
  {
   "cell_type": "code",
   "execution_count": 50,
   "metadata": {
    "execution": {
     "iopub.execute_input": "2021-04-18T14:21:34.042647Z",
     "iopub.status.busy": "2021-04-18T14:21:34.041635Z",
     "iopub.status.idle": "2021-04-18T14:21:34.049683Z",
     "shell.execute_reply": "2021-04-18T14:21:34.050452Z"
    },
    "papermill": {
     "duration": 0.1334,
     "end_time": "2021-04-18T14:21:34.050699",
     "exception": false,
     "start_time": "2021-04-18T14:21:33.917299",
     "status": "completed"
    },
    "tags": []
   },
   "outputs": [
    {
     "name": "stdout",
     "output_type": "stream",
     "text": [
      "P-value: 0.041189651625877406\n",
      "We reject null hypotesis? True\n"
     ]
    }
   ],
   "source": [
    "from scipy.stats import ttest_ind #statitics library needed to perform Welch t-tests\n",
    "\n",
    "mean_age_survived = train.loc[train['Survived']==1 ,'Age']\n",
    "mean_age_not_survived = train.loc[train['Survived']==0,'Age']\n",
    "mean_age_survived\n",
    "\n",
    "stat, p = ttest_ind(mean_age_survived, mean_age_not_survived, equal_var=False, nan_policy='omit') #omit - ignore NAN, equal_var = False - perform Welch t-test\n",
    "print(f'P-value: {p}')\n",
    "print(f'We reject null hypotesis? {p<0.05}')"
   ]
  },
  {
   "cell_type": "markdown",
   "metadata": {
    "papermill": {
     "duration": 0.115047,
     "end_time": "2021-04-18T14:21:34.281892",
     "exception": false,
     "start_time": "2021-04-18T14:21:34.166845",
     "status": "completed"
    },
    "tags": []
   },
   "source": [
    "* **P-value** is < then 0.05 therefore we will reject our null hypotetis. We estimate that mean age for passengers who survived and who didnt **is different**."
   ]
  },
  {
   "cell_type": "markdown",
   "metadata": {
    "papermill": {
     "duration": 0.117173,
     "end_time": "2021-04-18T14:21:34.515207",
     "exception": false,
     "start_time": "2021-04-18T14:21:34.398034",
     "status": "completed"
    },
    "tags": []
   },
   "source": [
    "# Feature engineering\n",
    "\n",
    "Feature engineering is an informal topic, but one that is absolutely known and agreed to be key to success in applied machine learning.\n",
    "**It is important to remember that we will create new features in such ways that will not cause multicollinearity(when there is a relationship among independent variables) to occur.**"
   ]
  },
  {
   "cell_type": "markdown",
   "metadata": {
    "papermill": {
     "duration": 0.114812,
     "end_time": "2021-04-18T14:21:34.746116",
     "exception": false,
     "start_time": "2021-04-18T14:21:34.631304",
     "status": "completed"
    },
    "tags": []
   },
   "source": [
    "Name lenght"
   ]
  },
  {
   "cell_type": "code",
   "execution_count": 51,
   "metadata": {
    "execution": {
     "iopub.execute_input": "2021-04-18T14:21:34.992324Z",
     "iopub.status.busy": "2021-04-18T14:21:34.991563Z",
     "iopub.status.idle": "2021-04-18T14:21:34.995013Z",
     "shell.execute_reply": "2021-04-18T14:21:34.994481Z"
    },
    "papermill": {
     "duration": 0.130979,
     "end_time": "2021-04-18T14:21:34.995169",
     "exception": false,
     "start_time": "2021-04-18T14:21:34.864190",
     "status": "completed"
    },
    "tags": []
   },
   "outputs": [],
   "source": [
    "train['name_length'] = train['Name'].apply(lambda x: len(x))\n",
    "test['name_length'] = test['Name'].apply(lambda x: len(x))\n"
   ]
  },
  {
   "cell_type": "code",
   "execution_count": 52,
   "metadata": {
    "execution": {
     "iopub.execute_input": "2021-04-18T14:21:35.236689Z",
     "iopub.status.busy": "2021-04-18T14:21:35.235220Z",
     "iopub.status.idle": "2021-04-18T14:21:35.240058Z",
     "shell.execute_reply": "2021-04-18T14:21:35.239349Z"
    },
    "papermill": {
     "duration": 0.12951,
     "end_time": "2021-04-18T14:21:35.240212",
     "exception": false,
     "start_time": "2021-04-18T14:21:35.110702",
     "status": "completed"
    },
    "tags": []
   },
   "outputs": [],
   "source": [
    "def name_len_group(x):\n",
    "    size = ''\n",
    "    if x <= 20:\n",
    "        size = 'short'\n",
    "    elif x<= 35:\n",
    "        size = 'medium'\n",
    "    elif x<= 45:\n",
    "        size = 'long'\n",
    "    else:\n",
    "        size='huge'\n",
    "    return size\n",
    "\n",
    "\n",
    "train['nLength_group'] = train['name_length'].apply(lambda x: name_len_group(x))\n",
    "test['nLength_group'] = test['name_length'].apply(lambda x: name_len_group(x))"
   ]
  },
  {
   "cell_type": "markdown",
   "metadata": {
    "papermill": {
     "duration": 0.115474,
     "end_time": "2021-04-18T14:21:35.471529",
     "exception": false,
     "start_time": "2021-04-18T14:21:35.356055",
     "status": "completed"
    },
    "tags": []
   },
   "source": [
    "## Getting Title from Name"
   ]
  },
  {
   "cell_type": "code",
   "execution_count": 53,
   "metadata": {
    "execution": {
     "iopub.execute_input": "2021-04-18T14:21:35.708723Z",
     "iopub.status.busy": "2021-04-18T14:21:35.707974Z",
     "iopub.status.idle": "2021-04-18T14:21:35.720127Z",
     "shell.execute_reply": "2021-04-18T14:21:35.719513Z"
    },
    "papermill": {
     "duration": 0.132225,
     "end_time": "2021-04-18T14:21:35.720283",
     "exception": false,
     "start_time": "2021-04-18T14:21:35.588058",
     "status": "completed"
    },
    "tags": []
   },
   "outputs": [
    {
     "data": {
      "text/plain": [
       "array(['Mr', 'Mrs', 'Miss', 'Master', 'Don', 'Rev', 'Dr', 'Mme', 'Ms',\n",
       "       'Major', 'Lady', 'Sir', 'Mlle', 'Col', 'Capt', 'the Countess',\n",
       "       'Jonkheer'], dtype=object)"
      ]
     },
     "execution_count": 53,
     "metadata": {},
     "output_type": "execute_result"
    }
   ],
   "source": [
    "train['title'] = train['Name'].apply(lambda x: x.split('.')[0].split(',')[1].strip())\n",
    "test['title'] = test['Name'].apply(lambda x: x.split('.')[0].split(',')[1].strip())\n",
    "train['title'].unique()"
   ]
  },
  {
   "cell_type": "markdown",
   "metadata": {
    "papermill": {
     "duration": 0.116118,
     "end_time": "2021-04-18T14:21:35.953565",
     "exception": false,
     "start_time": "2021-04-18T14:21:35.837447",
     "status": "completed"
    },
    "tags": []
   },
   "source": [
    "As we can see some titles are quite unique! Lets map these titles."
   ]
  },
  {
   "cell_type": "code",
   "execution_count": 54,
   "metadata": {
    "execution": {
     "iopub.execute_input": "2021-04-18T14:21:36.200317Z",
     "iopub.status.busy": "2021-04-18T14:21:36.199440Z",
     "iopub.status.idle": "2021-04-18T14:21:36.202149Z",
     "shell.execute_reply": "2021-04-18T14:21:36.202631Z"
    },
    "papermill": {
     "duration": 0.131643,
     "end_time": "2021-04-18T14:21:36.202823",
     "exception": false,
     "start_time": "2021-04-18T14:21:36.071180",
     "status": "completed"
    },
    "tags": []
   },
   "outputs": [],
   "source": [
    "def title_mapping(x):\n",
    "    feature = ''\n",
    "    if x in ['the Countess','Capt','Lady','Sir','Jonkheer','Don','Major','Col', 'Rev', 'Dona', 'Dr']:\n",
    "        feature = 'Rare'\n",
    "    elif x in ['Ms', 'Mlle']:\n",
    "        feature = 'Miss'\n",
    "    elif x == 'Mme':\n",
    "        feature = 'Mrs'\n",
    "    else:\n",
    "        feature = x\n",
    "    return feature\n",
    "train['title'] = train['title'].apply(lambda x: title_mapping(x))    \n",
    "test['title'] = test['title'].apply(lambda x: title_mapping(x)) "
   ]
  },
  {
   "cell_type": "markdown",
   "metadata": {
    "papermill": {
     "duration": 0.116205,
     "end_time": "2021-04-18T14:21:36.440062",
     "exception": false,
     "start_time": "2021-04-18T14:21:36.323857",
     "status": "completed"
    },
    "tags": []
   },
   "source": [
    "## Family size"
   ]
  },
  {
   "cell_type": "code",
   "execution_count": 55,
   "metadata": {
    "execution": {
     "iopub.execute_input": "2021-04-18T14:21:36.686994Z",
     "iopub.status.busy": "2021-04-18T14:21:36.686261Z",
     "iopub.status.idle": "2021-04-18T14:21:36.689827Z",
     "shell.execute_reply": "2021-04-18T14:21:36.689317Z"
    },
    "papermill": {
     "duration": 0.133729,
     "end_time": "2021-04-18T14:21:36.689994",
     "exception": false,
     "start_time": "2021-04-18T14:21:36.556265",
     "status": "completed"
    },
    "tags": []
   },
   "outputs": [],
   "source": [
    "train['family_size'] = train['SibSp'] + train['Parch'] + 1 \n",
    "test['family_size'] = test['SibSp'] + test['Parch'] + 1\n",
    "\n",
    "def family_group(x):  \n",
    "    size = ''\n",
    "    if (x <= 1):\n",
    "        size = 'alone'\n",
    "    elif (x <= 4):\n",
    "        size = 'small'\n",
    "    else:\n",
    "        size = 'large'\n",
    "    return size\n",
    "\n",
    "train['family_group'] = train['family_size'].apply(lambda x: family_group(x))\n",
    "test['family_group'] = test['family_size'].apply(lambda x: family_group(x))"
   ]
  },
  {
   "cell_type": "markdown",
   "metadata": {
    "papermill": {
     "duration": 0.116908,
     "end_time": "2021-04-18T14:21:36.923825",
     "exception": false,
     "start_time": "2021-04-18T14:21:36.806917",
     "status": "completed"
    },
    "tags": []
   },
   "source": [
    "Is passanger alone?"
   ]
  },
  {
   "cell_type": "code",
   "execution_count": 56,
   "metadata": {
    "execution": {
     "iopub.execute_input": "2021-04-18T14:21:37.162612Z",
     "iopub.status.busy": "2021-04-18T14:21:37.161545Z",
     "iopub.status.idle": "2021-04-18T14:21:37.171697Z",
     "shell.execute_reply": "2021-04-18T14:21:37.171099Z"
    },
    "papermill": {
     "duration": 0.130689,
     "end_time": "2021-04-18T14:21:37.171845",
     "exception": false,
     "start_time": "2021-04-18T14:21:37.041156",
     "status": "completed"
    },
    "tags": []
   },
   "outputs": [],
   "source": [
    "train['alone'] = train['family_size'].apply(lambda x: 1 if x<2 else 0)\n",
    "test['alone'] = test['family_size'].apply(lambda x: 1 if x<2 else 0)"
   ]
  },
  {
   "cell_type": "markdown",
   "metadata": {
    "papermill": {
     "duration": 0.11623,
     "end_time": "2021-04-18T14:21:37.405690",
     "exception": false,
     "start_time": "2021-04-18T14:21:37.289460",
     "status": "completed"
    },
    "tags": []
   },
   "source": [
    "* **Lets get rid of Ticket feature, it is not usefull for us, we already extracted Cabin from this Feature**\n",
    "* **We will drop PassangerId as well, this feature dont give us any information**"
   ]
  },
  {
   "cell_type": "code",
   "execution_count": 57,
   "metadata": {
    "execution": {
     "iopub.execute_input": "2021-04-18T14:21:37.653721Z",
     "iopub.status.busy": "2021-04-18T14:21:37.652892Z",
     "iopub.status.idle": "2021-04-18T14:21:37.660117Z",
     "shell.execute_reply": "2021-04-18T14:21:37.659568Z"
    },
    "papermill": {
     "duration": 0.137965,
     "end_time": "2021-04-18T14:21:37.660278",
     "exception": false,
     "start_time": "2021-04-18T14:21:37.522313",
     "status": "completed"
    },
    "tags": []
   },
   "outputs": [],
   "source": [
    "train.drop('Ticket', axis=1, inplace=True)\n",
    "test.drop('Ticket', axis=1, inplace=True)\n",
    "\n",
    "train.drop('PassengerId', axis=1, inplace=True)\n",
    "test.drop('PassengerId', axis=1, inplace=True)"
   ]
  },
  {
   "cell_type": "markdown",
   "metadata": {
    "papermill": {
     "duration": 0.116674,
     "end_time": "2021-04-18T14:21:37.894646",
     "exception": false,
     "start_time": "2021-04-18T14:21:37.777972",
     "status": "completed"
    },
    "tags": []
   },
   "source": [
    "## Fare for passanger\n",
    "It seems like Fare column kept a record of the total fare rather than the fare of individual passenger, therefore we calculate fare for individual"
   ]
  },
  {
   "cell_type": "code",
   "execution_count": 58,
   "metadata": {
    "execution": {
     "iopub.execute_input": "2021-04-18T14:21:38.142374Z",
     "iopub.status.busy": "2021-04-18T14:21:38.141558Z",
     "iopub.status.idle": "2021-04-18T14:21:38.144810Z",
     "shell.execute_reply": "2021-04-18T14:21:38.144205Z"
    },
    "papermill": {
     "duration": 0.133079,
     "end_time": "2021-04-18T14:21:38.144983",
     "exception": false,
     "start_time": "2021-04-18T14:21:38.011904",
     "status": "completed"
    },
    "tags": []
   },
   "outputs": [],
   "source": [
    "train['ind_fare'] = train['Fare'] / train['family_size']\n",
    "test['ind_fare'] = test['Fare'] / test['family_size']\n",
    "\n",
    "def fare_group(x):    \n",
    "    fare= ''\n",
    "    if x <= 4:\n",
    "        fare = 'Very low'\n",
    "    elif x <= 10:\n",
    "        fare = 'Low'\n",
    "    elif x <= 20:\n",
    "        fare = 'Mid'\n",
    "    elif x <= 45:\n",
    "        fare = 'High'\n",
    "    else:\n",
    "        fare = \"Very high\"\n",
    "    return fare\n",
    "\n",
    "train['fare_group'] = train['ind_fare'].apply(lambda x: fare_group(x))\n",
    "test['fare_group'] = test['ind_fare'].apply(lambda x: fare_group(x))"
   ]
  },
  {
   "cell_type": "markdown",
   "metadata": {
    "papermill": {
     "duration": 0.117932,
     "end_time": "2021-04-18T14:21:38.379821",
     "exception": false,
     "start_time": "2021-04-18T14:21:38.261889",
     "status": "completed"
    },
    "tags": []
   },
   "source": [
    "# Lets create dummy variables\n",
    "\n",
    "Generally, a dummy variable is a placeholder for a variable that will be integrated over, summed over, or marginalized.   However, in machine learning, it often describes the individual variables in a one-hot encoding scheme. Thus, dummy or Boolean variables are qualitative variables that can only take the value 0 or 1 to indicate the absence or presence of a specified condition.  These “truth” variables are used to sort data into mutually exclusive categories or to trigger off/on commands.  \n",
    "\n",
    "**How are Dummy Variables Used in Machine Learning?**\n",
    "These variables are most often used in regression, latent class analysis or one-hot encodig. They’re also used whenever you’re working with categorical variables that have no quantifiable relationship with each other.\n",
    "\n",
    "More info [here](https://deepai.org/machine-learning-glossary-and-terms/dummy-variable)"
   ]
  },
  {
   "cell_type": "code",
   "execution_count": 59,
   "metadata": {
    "execution": {
     "iopub.execute_input": "2021-04-18T14:21:38.620534Z",
     "iopub.status.busy": "2021-04-18T14:21:38.619760Z",
     "iopub.status.idle": "2021-04-18T14:21:38.645880Z",
     "shell.execute_reply": "2021-04-18T14:21:38.645183Z"
    },
    "papermill": {
     "duration": 0.14997,
     "end_time": "2021-04-18T14:21:38.646135",
     "exception": false,
     "start_time": "2021-04-18T14:21:38.496165",
     "status": "completed"
    },
    "tags": []
   },
   "outputs": [],
   "source": [
    "train = pd.get_dummies(train, columns=['title',\"Pclass\", 'Cabin','Embarked','nLength_group', 'family_group', 'fare_group'], drop_first=False)\n",
    "test = pd.get_dummies(test, columns=['title',\"Pclass\", 'Cabin','Embarked','nLength_group', 'family_group', 'fare_group'], drop_first=False)\n",
    "\n",
    "train.drop(['family_size','Name', 'Fare','name_length'], axis=1, inplace=True)\n",
    "test.drop(['Name','family_size',\"Fare\",'name_length'], axis=1, inplace=True)"
   ]
  },
  {
   "cell_type": "markdown",
   "metadata": {
    "papermill": {
     "duration": 0.11705,
     "end_time": "2021-04-18T14:21:38.881372",
     "exception": false,
     "start_time": "2021-04-18T14:21:38.764322",
     "status": "completed"
    },
    "tags": []
   },
   "source": [
    "We have to use drop_first = True in order to avoid multicollinearity\n",
    "1. **Multicollinearity** refers to a condition in which the independent variables are correlated to each other. Multicollinearity can cause problems when you fit the model and interpret the results. The variables of the dataset should be independent of each other to overdue the problem of multicollinearity.\n",
    "\n",
    "1. To avoid or remove **multicollinearity** in the dataset after one-hot encoding using pd.get_dummies, you can drop one of the categories and hence removing collinearity between the categorical features. Sklearn provides this feature by including drop_first=True in pd.get_dummies.\n",
    "\n",
    "**Example**:\n",
    "For example, if you have a variable gender, you don't need both a male and female dummy. If male=1 then the person is a male and if male=0 then the person is female. For the presence of hundreds of categories, dropping the first column does not affect much."
   ]
  },
  {
   "cell_type": "markdown",
   "metadata": {
    "papermill": {
     "duration": 0.119592,
     "end_time": "2021-04-18T14:21:39.118274",
     "exception": false,
     "start_time": "2021-04-18T14:21:38.998682",
     "status": "completed"
    },
    "tags": []
   },
   "source": [
    "# Imputing missing age\n",
    "\n",
    "* As we recall we stil have some missing data in \"age\" feature. We will use random forest regressor to imput missing data.\n",
    "* Lets rearranging the columns so that I can easily use the dataframe to predict the missing age values. "
   ]
  },
  {
   "cell_type": "code",
   "execution_count": 60,
   "metadata": {
    "execution": {
     "iopub.execute_input": "2021-04-18T14:21:39.364933Z",
     "iopub.status.busy": "2021-04-18T14:21:39.364226Z",
     "iopub.status.idle": "2021-04-18T14:21:39.367722Z",
     "shell.execute_reply": "2021-04-18T14:21:39.367177Z"
    },
    "papermill": {
     "duration": 0.130301,
     "end_time": "2021-04-18T14:21:39.367884",
     "exception": false,
     "start_time": "2021-04-18T14:21:39.237583",
     "status": "completed"
    },
    "tags": []
   },
   "outputs": [],
   "source": [
    "train = pd.concat([train[[\"Survived\", \"Age\", \"Sex\",\"SibSp\",\"Parch\"]], train.loc[:,\"alone\":]], axis=1)\n",
    "test = pd.concat([test[[\"Age\", \"Sex\",\"SibSp\",\"Parch\"]], test.loc[:,\"alone\":]], axis=1)"
   ]
  },
  {
   "cell_type": "code",
   "execution_count": 61,
   "metadata": {
    "execution": {
     "iopub.execute_input": "2021-04-18T14:21:39.610222Z",
     "iopub.status.busy": "2021-04-18T14:21:39.609456Z",
     "iopub.status.idle": "2021-04-18T14:21:40.062333Z",
     "shell.execute_reply": "2021-04-18T14:21:40.061427Z"
    },
    "papermill": {
     "duration": 0.577433,
     "end_time": "2021-04-18T14:21:40.062492",
     "exception": false,
     "start_time": "2021-04-18T14:21:39.485059",
     "status": "completed"
    },
    "tags": []
   },
   "outputs": [],
   "source": [
    "from sklearn.ensemble import RandomForestRegressor\n",
    "\n",
    "def fill_missing(df):\n",
    "    age_df = df.loc[:,'Age':]\n",
    "    temporary_train = age_df[age_df['Age'].notnull()]\n",
    "    temporary_test = age_df[age_df['Age'].isnull()]\n",
    "    \n",
    "    Y = temporary_train['Age']\n",
    "    x = temporary_train.loc[:,'Sex':]\n",
    "    \n",
    "    rfr = RandomForestRegressor(n_estimators=1500, n_jobs = -1)\n",
    "    rfr.fit(x, Y)\n",
    "    \n",
    "    predict_age = rfr.predict(temporary_test.loc[:,'Sex':])\n",
    "    \n",
    "    df.loc[df['Age'].isnull(),'Age'] = predict_age\n",
    "    return df\n"
   ]
  },
  {
   "cell_type": "code",
   "execution_count": 62,
   "metadata": {
    "execution": {
     "iopub.execute_input": "2021-04-18T14:21:40.309160Z",
     "iopub.status.busy": "2021-04-18T14:21:40.307993Z",
     "iopub.status.idle": "2021-04-18T14:21:50.002936Z",
     "shell.execute_reply": "2021-04-18T14:21:50.002142Z"
    },
    "papermill": {
     "duration": 9.821874,
     "end_time": "2021-04-18T14:21:50.003111",
     "exception": false,
     "start_time": "2021-04-18T14:21:40.181237",
     "status": "completed"
    },
    "tags": []
   },
   "outputs": [
    {
     "data": {
      "text/html": [
       "<div>\n",
       "<style scoped>\n",
       "    .dataframe tbody tr th:only-of-type {\n",
       "        vertical-align: middle;\n",
       "    }\n",
       "\n",
       "    .dataframe tbody tr th {\n",
       "        vertical-align: top;\n",
       "    }\n",
       "\n",
       "    .dataframe thead th {\n",
       "        text-align: right;\n",
       "    }\n",
       "</style>\n",
       "<table border=\"1\" class=\"dataframe\">\n",
       "  <thead>\n",
       "    <tr style=\"text-align: right;\">\n",
       "      <th></th>\n",
       "      <th>Age</th>\n",
       "      <th>Sex</th>\n",
       "      <th>SibSp</th>\n",
       "      <th>Parch</th>\n",
       "      <th>alone</th>\n",
       "      <th>ind_fare</th>\n",
       "      <th>title_Master</th>\n",
       "      <th>title_Miss</th>\n",
       "      <th>title_Mr</th>\n",
       "      <th>title_Mrs</th>\n",
       "      <th>...</th>\n",
       "      <th>nLength_group_medium</th>\n",
       "      <th>nLength_group_short</th>\n",
       "      <th>family_group_alone</th>\n",
       "      <th>family_group_large</th>\n",
       "      <th>family_group_small</th>\n",
       "      <th>fare_group_High</th>\n",
       "      <th>fare_group_Low</th>\n",
       "      <th>fare_group_Mid</th>\n",
       "      <th>fare_group_Very high</th>\n",
       "      <th>fare_group_Very low</th>\n",
       "    </tr>\n",
       "  </thead>\n",
       "  <tbody>\n",
       "    <tr>\n",
       "      <th>0</th>\n",
       "      <td>34.500000</td>\n",
       "      <td>1</td>\n",
       "      <td>0</td>\n",
       "      <td>0</td>\n",
       "      <td>1</td>\n",
       "      <td>7.829200</td>\n",
       "      <td>0</td>\n",
       "      <td>0</td>\n",
       "      <td>1</td>\n",
       "      <td>0</td>\n",
       "      <td>...</td>\n",
       "      <td>0</td>\n",
       "      <td>1</td>\n",
       "      <td>1</td>\n",
       "      <td>0</td>\n",
       "      <td>0</td>\n",
       "      <td>0</td>\n",
       "      <td>1</td>\n",
       "      <td>0</td>\n",
       "      <td>0</td>\n",
       "      <td>0</td>\n",
       "    </tr>\n",
       "    <tr>\n",
       "      <th>1</th>\n",
       "      <td>47.000000</td>\n",
       "      <td>0</td>\n",
       "      <td>1</td>\n",
       "      <td>0</td>\n",
       "      <td>0</td>\n",
       "      <td>3.500000</td>\n",
       "      <td>0</td>\n",
       "      <td>0</td>\n",
       "      <td>0</td>\n",
       "      <td>1</td>\n",
       "      <td>...</td>\n",
       "      <td>1</td>\n",
       "      <td>0</td>\n",
       "      <td>0</td>\n",
       "      <td>0</td>\n",
       "      <td>1</td>\n",
       "      <td>0</td>\n",
       "      <td>0</td>\n",
       "      <td>0</td>\n",
       "      <td>0</td>\n",
       "      <td>1</td>\n",
       "    </tr>\n",
       "    <tr>\n",
       "      <th>2</th>\n",
       "      <td>62.000000</td>\n",
       "      <td>1</td>\n",
       "      <td>0</td>\n",
       "      <td>0</td>\n",
       "      <td>1</td>\n",
       "      <td>9.687500</td>\n",
       "      <td>0</td>\n",
       "      <td>0</td>\n",
       "      <td>1</td>\n",
       "      <td>0</td>\n",
       "      <td>...</td>\n",
       "      <td>1</td>\n",
       "      <td>0</td>\n",
       "      <td>1</td>\n",
       "      <td>0</td>\n",
       "      <td>0</td>\n",
       "      <td>0</td>\n",
       "      <td>1</td>\n",
       "      <td>0</td>\n",
       "      <td>0</td>\n",
       "      <td>0</td>\n",
       "    </tr>\n",
       "    <tr>\n",
       "      <th>3</th>\n",
       "      <td>27.000000</td>\n",
       "      <td>1</td>\n",
       "      <td>0</td>\n",
       "      <td>0</td>\n",
       "      <td>1</td>\n",
       "      <td>8.662500</td>\n",
       "      <td>0</td>\n",
       "      <td>0</td>\n",
       "      <td>1</td>\n",
       "      <td>0</td>\n",
       "      <td>...</td>\n",
       "      <td>0</td>\n",
       "      <td>1</td>\n",
       "      <td>1</td>\n",
       "      <td>0</td>\n",
       "      <td>0</td>\n",
       "      <td>0</td>\n",
       "      <td>1</td>\n",
       "      <td>0</td>\n",
       "      <td>0</td>\n",
       "      <td>0</td>\n",
       "    </tr>\n",
       "    <tr>\n",
       "      <th>4</th>\n",
       "      <td>22.000000</td>\n",
       "      <td>0</td>\n",
       "      <td>1</td>\n",
       "      <td>1</td>\n",
       "      <td>0</td>\n",
       "      <td>4.095833</td>\n",
       "      <td>0</td>\n",
       "      <td>0</td>\n",
       "      <td>0</td>\n",
       "      <td>1</td>\n",
       "      <td>...</td>\n",
       "      <td>0</td>\n",
       "      <td>0</td>\n",
       "      <td>0</td>\n",
       "      <td>0</td>\n",
       "      <td>1</td>\n",
       "      <td>0</td>\n",
       "      <td>1</td>\n",
       "      <td>0</td>\n",
       "      <td>0</td>\n",
       "      <td>0</td>\n",
       "    </tr>\n",
       "    <tr>\n",
       "      <th>...</th>\n",
       "      <td>...</td>\n",
       "      <td>...</td>\n",
       "      <td>...</td>\n",
       "      <td>...</td>\n",
       "      <td>...</td>\n",
       "      <td>...</td>\n",
       "      <td>...</td>\n",
       "      <td>...</td>\n",
       "      <td>...</td>\n",
       "      <td>...</td>\n",
       "      <td>...</td>\n",
       "      <td>...</td>\n",
       "      <td>...</td>\n",
       "      <td>...</td>\n",
       "      <td>...</td>\n",
       "      <td>...</td>\n",
       "      <td>...</td>\n",
       "      <td>...</td>\n",
       "      <td>...</td>\n",
       "      <td>...</td>\n",
       "      <td>...</td>\n",
       "    </tr>\n",
       "    <tr>\n",
       "      <th>413</th>\n",
       "      <td>23.201193</td>\n",
       "      <td>1</td>\n",
       "      <td>0</td>\n",
       "      <td>0</td>\n",
       "      <td>1</td>\n",
       "      <td>8.050000</td>\n",
       "      <td>0</td>\n",
       "      <td>0</td>\n",
       "      <td>1</td>\n",
       "      <td>0</td>\n",
       "      <td>...</td>\n",
       "      <td>0</td>\n",
       "      <td>1</td>\n",
       "      <td>1</td>\n",
       "      <td>0</td>\n",
       "      <td>0</td>\n",
       "      <td>0</td>\n",
       "      <td>1</td>\n",
       "      <td>0</td>\n",
       "      <td>0</td>\n",
       "      <td>0</td>\n",
       "    </tr>\n",
       "    <tr>\n",
       "      <th>414</th>\n",
       "      <td>39.000000</td>\n",
       "      <td>0</td>\n",
       "      <td>0</td>\n",
       "      <td>0</td>\n",
       "      <td>1</td>\n",
       "      <td>108.900000</td>\n",
       "      <td>0</td>\n",
       "      <td>0</td>\n",
       "      <td>0</td>\n",
       "      <td>0</td>\n",
       "      <td>...</td>\n",
       "      <td>1</td>\n",
       "      <td>0</td>\n",
       "      <td>1</td>\n",
       "      <td>0</td>\n",
       "      <td>0</td>\n",
       "      <td>0</td>\n",
       "      <td>0</td>\n",
       "      <td>0</td>\n",
       "      <td>1</td>\n",
       "      <td>0</td>\n",
       "    </tr>\n",
       "    <tr>\n",
       "      <th>415</th>\n",
       "      <td>38.500000</td>\n",
       "      <td>1</td>\n",
       "      <td>0</td>\n",
       "      <td>0</td>\n",
       "      <td>1</td>\n",
       "      <td>7.250000</td>\n",
       "      <td>0</td>\n",
       "      <td>0</td>\n",
       "      <td>1</td>\n",
       "      <td>0</td>\n",
       "      <td>...</td>\n",
       "      <td>1</td>\n",
       "      <td>0</td>\n",
       "      <td>1</td>\n",
       "      <td>0</td>\n",
       "      <td>0</td>\n",
       "      <td>0</td>\n",
       "      <td>1</td>\n",
       "      <td>0</td>\n",
       "      <td>0</td>\n",
       "      <td>0</td>\n",
       "    </tr>\n",
       "    <tr>\n",
       "      <th>416</th>\n",
       "      <td>23.201193</td>\n",
       "      <td>1</td>\n",
       "      <td>0</td>\n",
       "      <td>0</td>\n",
       "      <td>1</td>\n",
       "      <td>8.050000</td>\n",
       "      <td>0</td>\n",
       "      <td>0</td>\n",
       "      <td>1</td>\n",
       "      <td>0</td>\n",
       "      <td>...</td>\n",
       "      <td>0</td>\n",
       "      <td>1</td>\n",
       "      <td>1</td>\n",
       "      <td>0</td>\n",
       "      <td>0</td>\n",
       "      <td>0</td>\n",
       "      <td>1</td>\n",
       "      <td>0</td>\n",
       "      <td>0</td>\n",
       "      <td>0</td>\n",
       "    </tr>\n",
       "    <tr>\n",
       "      <th>417</th>\n",
       "      <td>7.365098</td>\n",
       "      <td>1</td>\n",
       "      <td>1</td>\n",
       "      <td>1</td>\n",
       "      <td>0</td>\n",
       "      <td>7.452767</td>\n",
       "      <td>1</td>\n",
       "      <td>0</td>\n",
       "      <td>0</td>\n",
       "      <td>0</td>\n",
       "      <td>...</td>\n",
       "      <td>1</td>\n",
       "      <td>0</td>\n",
       "      <td>0</td>\n",
       "      <td>0</td>\n",
       "      <td>1</td>\n",
       "      <td>0</td>\n",
       "      <td>1</td>\n",
       "      <td>0</td>\n",
       "      <td>0</td>\n",
       "      <td>0</td>\n",
       "    </tr>\n",
       "  </tbody>\n",
       "</table>\n",
       "<p>418 rows × 37 columns</p>\n",
       "</div>"
      ],
      "text/plain": [
       "           Age  Sex  SibSp  Parch  alone    ind_fare  title_Master  \\\n",
       "0    34.500000    1      0      0      1    7.829200             0   \n",
       "1    47.000000    0      1      0      0    3.500000             0   \n",
       "2    62.000000    1      0      0      1    9.687500             0   \n",
       "3    27.000000    1      0      0      1    8.662500             0   \n",
       "4    22.000000    0      1      1      0    4.095833             0   \n",
       "..         ...  ...    ...    ...    ...         ...           ...   \n",
       "413  23.201193    1      0      0      1    8.050000             0   \n",
       "414  39.000000    0      0      0      1  108.900000             0   \n",
       "415  38.500000    1      0      0      1    7.250000             0   \n",
       "416  23.201193    1      0      0      1    8.050000             0   \n",
       "417   7.365098    1      1      1      0    7.452767             1   \n",
       "\n",
       "     title_Miss  title_Mr  title_Mrs  ...  nLength_group_medium  \\\n",
       "0             0         1          0  ...                     0   \n",
       "1             0         0          1  ...                     1   \n",
       "2             0         1          0  ...                     1   \n",
       "3             0         1          0  ...                     0   \n",
       "4             0         0          1  ...                     0   \n",
       "..          ...       ...        ...  ...                   ...   \n",
       "413           0         1          0  ...                     0   \n",
       "414           0         0          0  ...                     1   \n",
       "415           0         1          0  ...                     1   \n",
       "416           0         1          0  ...                     0   \n",
       "417           0         0          0  ...                     1   \n",
       "\n",
       "     nLength_group_short  family_group_alone  family_group_large  \\\n",
       "0                      1                   1                   0   \n",
       "1                      0                   0                   0   \n",
       "2                      0                   1                   0   \n",
       "3                      1                   1                   0   \n",
       "4                      0                   0                   0   \n",
       "..                   ...                 ...                 ...   \n",
       "413                    1                   1                   0   \n",
       "414                    0                   1                   0   \n",
       "415                    0                   1                   0   \n",
       "416                    1                   1                   0   \n",
       "417                    0                   0                   0   \n",
       "\n",
       "     family_group_small  fare_group_High  fare_group_Low  fare_group_Mid  \\\n",
       "0                     0                0               1               0   \n",
       "1                     1                0               0               0   \n",
       "2                     0                0               1               0   \n",
       "3                     0                0               1               0   \n",
       "4                     1                0               1               0   \n",
       "..                  ...              ...             ...             ...   \n",
       "413                   0                0               1               0   \n",
       "414                   0                0               0               0   \n",
       "415                   0                0               1               0   \n",
       "416                   0                0               1               0   \n",
       "417                   1                0               1               0   \n",
       "\n",
       "     fare_group_Very high  fare_group_Very low  \n",
       "0                       0                    0  \n",
       "1                       0                    1  \n",
       "2                       0                    0  \n",
       "3                       0                    0  \n",
       "4                       0                    0  \n",
       "..                    ...                  ...  \n",
       "413                     0                    0  \n",
       "414                     1                    0  \n",
       "415                     0                    0  \n",
       "416                     0                    0  \n",
       "417                     0                    0  \n",
       "\n",
       "[418 rows x 37 columns]"
      ]
     },
     "execution_count": 62,
     "metadata": {},
     "output_type": "execute_result"
    }
   ],
   "source": [
    "fill_missing(train)\n",
    "fill_missing(test)"
   ]
  },
  {
   "cell_type": "code",
   "execution_count": 63,
   "metadata": {
    "execution": {
     "iopub.execute_input": "2021-04-18T14:21:50.248400Z",
     "iopub.status.busy": "2021-04-18T14:21:50.247338Z",
     "iopub.status.idle": "2021-04-18T14:21:50.257786Z",
     "shell.execute_reply": "2021-04-18T14:21:50.257050Z"
    },
    "papermill": {
     "duration": 0.134209,
     "end_time": "2021-04-18T14:21:50.257951",
     "exception": false,
     "start_time": "2021-04-18T14:21:50.123742",
     "status": "completed"
    },
    "tags": []
   },
   "outputs": [
    {
     "name": "stdout",
     "output_type": "stream",
     "text": [
      "We have 0 missing values in train dataset\n",
      "We have 0 missing values in test dataset\n"
     ]
    }
   ],
   "source": [
    "print('We have',sum(train.isnull().sum()),'missing values in train dataset')\n",
    "print('We have',sum(test.isnull().sum()),'missing values in test dataset')"
   ]
  },
  {
   "cell_type": "code",
   "execution_count": 64,
   "metadata": {
    "execution": {
     "iopub.execute_input": "2021-04-18T14:21:50.518617Z",
     "iopub.status.busy": "2021-04-18T14:21:50.507619Z",
     "iopub.status.idle": "2021-04-18T14:21:50.778775Z",
     "shell.execute_reply": "2021-04-18T14:21:50.778254Z"
    },
    "papermill": {
     "duration": 0.400532,
     "end_time": "2021-04-18T14:21:50.779035",
     "exception": false,
     "start_time": "2021-04-18T14:21:50.378503",
     "status": "completed"
    },
    "tags": []
   },
   "outputs": [
    {
     "data": {
      "image/png": "[encoded data removed]",
      "text/plain": [
       "<Figure size 720x360 with 1 Axes>"
      ]
     },
     "metadata": {},
     "output_type": "display_data"
    }
   ],
   "source": [
    "fig = plt.figure(figsize=(10,5))\n",
    "ax = sns.distplot(train['Age'], bins=50)\n",
    "plt.show()"
   ]
  },
  {
   "cell_type": "code",
   "execution_count": 65,
   "metadata": {
    "execution": {
     "iopub.execute_input": "2021-04-18T14:21:51.186248Z",
     "iopub.status.busy": "2021-04-18T14:21:51.184845Z",
     "iopub.status.idle": "2021-04-18T14:21:51.197220Z",
     "shell.execute_reply": "2021-04-18T14:21:51.196460Z"
    },
    "papermill": {
     "duration": 0.298191,
     "end_time": "2021-04-18T14:21:51.197373",
     "exception": false,
     "start_time": "2021-04-18T14:21:50.899182",
     "status": "completed"
    },
    "tags": []
   },
   "outputs": [],
   "source": [
    "def age_group(x):\n",
    "    age = ''\n",
    "    if x <= 1:\n",
    "        age = 'Infant'\n",
    "    elif x <= 4: \n",
    "        age = 'Toddler'\n",
    "    elif x <= 13:\n",
    "        age = 'Child'\n",
    "    elif x <= 18:\n",
    "        age = 'Teenager'\n",
    "    elif x <= 35:\n",
    "        age = 'Young Adult'\n",
    "    elif x <= 45:\n",
    "        age = 'Adult'\n",
    "    elif x <= 55:\n",
    "        age = 'Middle'\n",
    "    elif x <= 65:\n",
    "        age = 'Senior'\n",
    "    else:\n",
    "        age = 'Old'\n",
    "    return age\n",
    "\n",
    "train['age_group'] = train['Age'].apply(lambda x: age_group(x))\n",
    "test['age_group'] = test['Age'].apply(lambda x: age_group(x))\n",
    "\n",
    "#create dummies for adult_group\n",
    "train = pd.get_dummies(train,columns=['age_group'], drop_first=True)\n",
    "test = pd.get_dummies(test,columns=['age_group'], drop_first=True);"
   ]
  },
  {
   "cell_type": "markdown",
   "metadata": {
    "papermill": {
     "duration": 0.119824,
     "end_time": "2021-04-18T14:21:51.439222",
     "exception": false,
     "start_time": "2021-04-18T14:21:51.319398",
     "status": "completed"
    },
    "tags": []
   },
   "source": [
    "# Pre-processing data\n",
    "Lets separate our dependend and independend variable"
   ]
  },
  {
   "cell_type": "code",
   "execution_count": 66,
   "metadata": {
    "execution": {
     "iopub.execute_input": "2021-04-18T14:21:51.688674Z",
     "iopub.status.busy": "2021-04-18T14:21:51.687245Z",
     "iopub.status.idle": "2021-04-18T14:21:51.692755Z",
     "shell.execute_reply": "2021-04-18T14:21:51.692096Z"
    },
    "papermill": {
     "duration": 0.133242,
     "end_time": "2021-04-18T14:21:51.693016",
     "exception": false,
     "start_time": "2021-04-18T14:21:51.559774",
     "status": "completed"
    },
    "tags": []
   },
   "outputs": [],
   "source": [
    "X = train.drop('Survived', axis=1)\n",
    "y = train['Survived']"
   ]
  },
  {
   "cell_type": "markdown",
   "metadata": {
    "papermill": {
     "duration": 0.120763,
     "end_time": "2021-04-18T14:21:51.935008",
     "exception": false,
     "start_time": "2021-04-18T14:21:51.814245",
     "status": "completed"
    },
    "tags": []
   },
   "source": [
    "## Spliting training data and feature scaling\n",
    "\n",
    "Feature scaling: **The first question we need to address – why do we need to scale the variables in our dataset**? Some machine learning algorithms are sensitive to feature scaling while others are virtually invariant to it.\n",
    "\n",
    "* **Gradien Decent Based Algorithms:** Gradient Descent Based Algorithms\n",
    "Machine learning algorithms like linear regression, logistic regression, neural network, etc. that use gradient descent as an optimization technique require data to be scaled. The presence of feature value X in the formula will affect the step size of the gradient descent. **The difference in ranges of features will cause different step sizes for each feature.** To ensure that the gradient descent moves smoothly towards the minima and that the steps for gradient descent are updated at the same rate for all the features, we scale the data before feeding it to the model.\n",
    "\n",
    "* **Distance-Based Algorithms**: Distance algorithms like KNN, K-means, and SVM are most affected by the range of features. This is because behind the scenes they are using distances between data points to determine their similarity.\n",
    "\n",
    "* **Tree-Based Algorithms**: Tree-based algorithms, on the other hand, are fairly insensitive to the scale of the features. Think about it, a decision tree is only splitting a node based on a single feature. The decision tree splits a node on a feature that increases the homogeneity of the node. This split on a feature is not influenced by other features.  So, there is virtually no effect of the remaining features on the split. This is what makes them invariant to the scale of the features!\n",
    "\n",
    "**In this case we will use standardization**: Standardization is another scaling technique where the values are centered around the mean with a unit standard deviation. This means that the mean of the attribute becomes zero and the resultant distribution has a unit standard deviation. \n",
    "\n",
    "**Standardization**, can be helpful in cases where the data follows a Gaussian distribution. However, this does not have to be necessarily true. Also, unlike normalization, standardization does not have a bounding range. So, even if you have outliers in your data, they will not be affected by standardization\n",
    "\n",
    "[More info here](http://https://www.analyticsvidhya.com/blog/2020/04/feature-scaling-machine-learning-normalization-standardization/)\n",
    "\n"
   ]
  },
  {
   "cell_type": "code",
   "execution_count": 67,
   "metadata": {
    "execution": {
     "iopub.execute_input": "2021-04-18T14:21:52.184050Z",
     "iopub.status.busy": "2021-04-18T14:21:52.182551Z",
     "iopub.status.idle": "2021-04-18T14:21:52.189212Z",
     "shell.execute_reply": "2021-04-18T14:21:52.188655Z"
    },
    "papermill": {
     "duration": 0.132579,
     "end_time": "2021-04-18T14:21:52.189360",
     "exception": false,
     "start_time": "2021-04-18T14:21:52.056781",
     "status": "completed"
    },
    "tags": []
   },
   "outputs": [],
   "source": [
    "from sklearn.model_selection import train_test_split\n",
    "X_train, X_test, y_train, y_test = train_test_split(X,y, test_size=0.33, random_state=0)\n",
    "\n",
    "#store columns headers\n",
    "columns_header = X_train.columns"
   ]
  },
  {
   "cell_type": "code",
   "execution_count": 68,
   "metadata": {
    "execution": {
     "iopub.execute_input": "2021-04-18T14:21:52.471052Z",
     "iopub.status.busy": "2021-04-18T14:21:52.470232Z",
     "iopub.status.idle": "2021-04-18T14:21:52.503853Z",
     "shell.execute_reply": "2021-04-18T14:21:52.504394Z"
    },
    "papermill": {
     "duration": 0.18464,
     "end_time": "2021-04-18T14:21:52.504584",
     "exception": false,
     "start_time": "2021-04-18T14:21:52.319944",
     "status": "completed"
    },
    "tags": []
   },
   "outputs": [
    {
     "data": {
      "text/html": [
       "<div>\n",
       "<style scoped>\n",
       "    .dataframe tbody tr th:only-of-type {\n",
       "        vertical-align: middle;\n",
       "    }\n",
       "\n",
       "    .dataframe tbody tr th {\n",
       "        vertical-align: top;\n",
       "    }\n",
       "\n",
       "    .dataframe thead th {\n",
       "        text-align: right;\n",
       "    }\n",
       "</style>\n",
       "<table border=\"1\" class=\"dataframe\">\n",
       "  <thead>\n",
       "    <tr style=\"text-align: right;\">\n",
       "      <th></th>\n",
       "      <th>Age</th>\n",
       "      <th>Sex</th>\n",
       "      <th>SibSp</th>\n",
       "      <th>Parch</th>\n",
       "      <th>alone</th>\n",
       "      <th>ind_fare</th>\n",
       "      <th>title_Master</th>\n",
       "      <th>title_Miss</th>\n",
       "      <th>title_Mr</th>\n",
       "      <th>title_Mrs</th>\n",
       "      <th>...</th>\n",
       "      <th>fare_group_Very high</th>\n",
       "      <th>fare_group_Very low</th>\n",
       "      <th>age_group_Child</th>\n",
       "      <th>age_group_Infant</th>\n",
       "      <th>age_group_Middle</th>\n",
       "      <th>age_group_Old</th>\n",
       "      <th>age_group_Senior</th>\n",
       "      <th>age_group_Teenager</th>\n",
       "      <th>age_group_Toddler</th>\n",
       "      <th>age_group_Young Adult</th>\n",
       "    </tr>\n",
       "  </thead>\n",
       "  <tbody>\n",
       "    <tr>\n",
       "      <th>0</th>\n",
       "      <td>-0.051706</td>\n",
       "      <td>0.724083</td>\n",
       "      <td>-0.455235</td>\n",
       "      <td>-0.469509</td>\n",
       "      <td>0.803996</td>\n",
       "      <td>-0.281753</td>\n",
       "      <td>-0.226156</td>\n",
       "      <td>-0.499476</td>\n",
       "      <td>0.832575</td>\n",
       "      <td>-0.405046</td>\n",
       "      <td>...</td>\n",
       "      <td>-0.305905</td>\n",
       "      <td>-0.191107</td>\n",
       "      <td>-0.230225</td>\n",
       "      <td>-0.123823</td>\n",
       "      <td>-0.299298</td>\n",
       "      <td>-0.09198</td>\n",
       "      <td>-0.195774</td>\n",
       "      <td>-0.285779</td>\n",
       "      <td>-0.191107</td>\n",
       "      <td>0.986666</td>\n",
       "    </tr>\n",
       "    <tr>\n",
       "      <th>1</th>\n",
       "      <td>0.455640</td>\n",
       "      <td>0.724083</td>\n",
       "      <td>-0.455235</td>\n",
       "      <td>-0.469509</td>\n",
       "      <td>0.803996</td>\n",
       "      <td>-0.209699</td>\n",
       "      <td>-0.226156</td>\n",
       "      <td>-0.499476</td>\n",
       "      <td>0.832575</td>\n",
       "      <td>-0.405046</td>\n",
       "      <td>...</td>\n",
       "      <td>-0.305905</td>\n",
       "      <td>-0.191107</td>\n",
       "      <td>-0.230225</td>\n",
       "      <td>-0.123823</td>\n",
       "      <td>-0.299298</td>\n",
       "      <td>-0.09198</td>\n",
       "      <td>-0.195774</td>\n",
       "      <td>-0.285779</td>\n",
       "      <td>-0.191107</td>\n",
       "      <td>-1.013514</td>\n",
       "    </tr>\n",
       "    <tr>\n",
       "      <th>2</th>\n",
       "      <td>2.267589</td>\n",
       "      <td>0.724083</td>\n",
       "      <td>-0.455235</td>\n",
       "      <td>-0.469509</td>\n",
       "      <td>0.803996</td>\n",
       "      <td>0.381139</td>\n",
       "      <td>-0.226156</td>\n",
       "      <td>-0.499476</td>\n",
       "      <td>0.832575</td>\n",
       "      <td>-0.405046</td>\n",
       "      <td>...</td>\n",
       "      <td>-0.305905</td>\n",
       "      <td>-0.191107</td>\n",
       "      <td>-0.230225</td>\n",
       "      <td>-0.123823</td>\n",
       "      <td>-0.299298</td>\n",
       "      <td>-0.09198</td>\n",
       "      <td>5.107926</td>\n",
       "      <td>-0.285779</td>\n",
       "      <td>-0.191107</td>\n",
       "      <td>-1.013514</td>\n",
       "    </tr>\n",
       "    <tr>\n",
       "      <th>3</th>\n",
       "      <td>1.107941</td>\n",
       "      <td>0.724083</td>\n",
       "      <td>-0.455235</td>\n",
       "      <td>-0.469509</td>\n",
       "      <td>0.803996</td>\n",
       "      <td>0.180831</td>\n",
       "      <td>-0.226156</td>\n",
       "      <td>-0.499476</td>\n",
       "      <td>0.832575</td>\n",
       "      <td>-0.405046</td>\n",
       "      <td>...</td>\n",
       "      <td>-0.305905</td>\n",
       "      <td>-0.191107</td>\n",
       "      <td>-0.230225</td>\n",
       "      <td>-0.123823</td>\n",
       "      <td>-0.299298</td>\n",
       "      <td>-0.09198</td>\n",
       "      <td>-0.195774</td>\n",
       "      <td>-0.285779</td>\n",
       "      <td>-0.191107</td>\n",
       "      <td>-1.013514</td>\n",
       "    </tr>\n",
       "    <tr>\n",
       "      <th>4</th>\n",
       "      <td>0.310684</td>\n",
       "      <td>0.724083</td>\n",
       "      <td>-0.455235</td>\n",
       "      <td>-0.469509</td>\n",
       "      <td>0.803996</td>\n",
       "      <td>-0.209699</td>\n",
       "      <td>-0.226156</td>\n",
       "      <td>-0.499476</td>\n",
       "      <td>0.832575</td>\n",
       "      <td>-0.405046</td>\n",
       "      <td>...</td>\n",
       "      <td>-0.305905</td>\n",
       "      <td>-0.191107</td>\n",
       "      <td>-0.230225</td>\n",
       "      <td>-0.123823</td>\n",
       "      <td>-0.299298</td>\n",
       "      <td>-0.09198</td>\n",
       "      <td>-0.195774</td>\n",
       "      <td>-0.285779</td>\n",
       "      <td>-0.191107</td>\n",
       "      <td>0.986666</td>\n",
       "    </tr>\n",
       "  </tbody>\n",
       "</table>\n",
       "<p>5 rows × 45 columns</p>\n",
       "</div>"
      ],
      "text/plain": [
       "        Age       Sex     SibSp     Parch     alone  ind_fare  title_Master  \\\n",
       "0 -0.051706  0.724083 -0.455235 -0.469509  0.803996 -0.281753     -0.226156   \n",
       "1  0.455640  0.724083 -0.455235 -0.469509  0.803996 -0.209699     -0.226156   \n",
       "2  2.267589  0.724083 -0.455235 -0.469509  0.803996  0.381139     -0.226156   \n",
       "3  1.107941  0.724083 -0.455235 -0.469509  0.803996  0.180831     -0.226156   \n",
       "4  0.310684  0.724083 -0.455235 -0.469509  0.803996 -0.209699     -0.226156   \n",
       "\n",
       "   title_Miss  title_Mr  title_Mrs  ...  fare_group_Very high  \\\n",
       "0   -0.499476  0.832575  -0.405046  ...             -0.305905   \n",
       "1   -0.499476  0.832575  -0.405046  ...             -0.305905   \n",
       "2   -0.499476  0.832575  -0.405046  ...             -0.305905   \n",
       "3   -0.499476  0.832575  -0.405046  ...             -0.305905   \n",
       "4   -0.499476  0.832575  -0.405046  ...             -0.305905   \n",
       "\n",
       "   fare_group_Very low  age_group_Child  age_group_Infant  age_group_Middle  \\\n",
       "0            -0.191107        -0.230225         -0.123823         -0.299298   \n",
       "1            -0.191107        -0.230225         -0.123823         -0.299298   \n",
       "2            -0.191107        -0.230225         -0.123823         -0.299298   \n",
       "3            -0.191107        -0.230225         -0.123823         -0.299298   \n",
       "4            -0.191107        -0.230225         -0.123823         -0.299298   \n",
       "\n",
       "   age_group_Old  age_group_Senior  age_group_Teenager  age_group_Toddler  \\\n",
       "0       -0.09198         -0.195774           -0.285779          -0.191107   \n",
       "1       -0.09198         -0.195774           -0.285779          -0.191107   \n",
       "2       -0.09198          5.107926           -0.285779          -0.191107   \n",
       "3       -0.09198         -0.195774           -0.285779          -0.191107   \n",
       "4       -0.09198         -0.195774           -0.285779          -0.191107   \n",
       "\n",
       "   age_group_Young Adult  \n",
       "0               0.986666  \n",
       "1              -1.013514  \n",
       "2              -1.013514  \n",
       "3              -1.013514  \n",
       "4               0.986666  \n",
       "\n",
       "[5 rows x 45 columns]"
      ]
     },
     "execution_count": 68,
     "metadata": {},
     "output_type": "execute_result"
    }
   ],
   "source": [
    "from sklearn.preprocessing import StandardScaler\n",
    "std_sc = StandardScaler()\n",
    "\n",
    "X_train = std_sc.fit_transform(X_train)\n",
    "X_test = std_sc.fit_transform(X_test)\n",
    "\n",
    "pd.DataFrame(X_train, columns=columns_header).head()"
   ]
  },
  {
   "cell_type": "markdown",
   "metadata": {
    "papermill": {
     "duration": 0.122922,
     "end_time": "2021-04-18T14:21:52.749730",
     "exception": false,
     "start_time": "2021-04-18T14:21:52.626808",
     "status": "completed"
    },
    "tags": []
   },
   "source": [
    "# Fitting data to our models - Logistic Regression\n",
    "We will start with logistic regresion."
   ]
  },
  {
   "cell_type": "code",
   "execution_count": 69,
   "metadata": {
    "execution": {
     "iopub.execute_input": "2021-04-18T14:21:53.003546Z",
     "iopub.status.busy": "2021-04-18T14:21:53.002528Z",
     "iopub.status.idle": "2021-04-18T14:21:53.018741Z",
     "shell.execute_reply": "2021-04-18T14:21:53.019297Z"
    },
    "papermill": {
     "duration": 0.148096,
     "end_time": "2021-04-18T14:21:53.019482",
     "exception": false,
     "start_time": "2021-04-18T14:21:52.871386",
     "status": "completed"
    },
    "tags": []
   },
   "outputs": [],
   "source": [
    "from sklearn.linear_model import LogisticRegression\n",
    "from sklearn.metrics import mean_absolute_error, accuracy_score\n",
    "\n",
    "lgr = LogisticRegression(solver='liblinear', penalty='l1', random_state=42)\n",
    "\n",
    "lgr.fit(X_train, y_train)\n",
    "\n",
    "y_predicted = lgr.predict(X_test)"
   ]
  },
  {
   "cell_type": "markdown",
   "metadata": {
    "papermill": {
     "duration": 0.120983,
     "end_time": "2021-04-18T14:21:53.262837",
     "exception": false,
     "start_time": "2021-04-18T14:21:53.141854",
     "status": "completed"
    },
    "tags": []
   },
   "source": [
    "# Lets evaluate our model\n",
    "\n",
    "There is multiple way how to evaluate our model, we can use:\n",
    "* Confustion Matrix\n",
    "* ROC\n",
    "* AUC\n",
    "\n",
    "Lets start with **confusion matrix**:\n",
    "\n",
    "Confusion matrix is a very popular measure used while solving  classification problems. It can be applied to binary classification as well as for multiclass classification problems. \n",
    "\n",
    "Confusion matrices represent counts from **predicted and actual values**. The output “TN” stands for True Negative which shows the number of negative examples classified accurately. Similarly, “TP” stands for True Positive which indicates the number of positive examples classified accurately. The term “FP” shows False Positive value, i.e., the number of actual negative examples classified as positive; and “FN” means a False Negative value which is the number of actual positive examples classified as negative. One of the most commonly used metrics while performing classification is **accuracy**. (Accuracy can be misleading if used with imbalanced datasets, and therefore there are other metrics based on confusion matrix which can be useful for evaluating performance.)"
   ]
  },
  {
   "cell_type": "code",
   "execution_count": 70,
   "metadata": {
    "execution": {
     "iopub.execute_input": "2021-04-18T14:21:53.527038Z",
     "iopub.status.busy": "2021-04-18T14:21:53.517557Z",
     "iopub.status.idle": "2021-04-18T14:21:53.718771Z",
     "shell.execute_reply": "2021-04-18T14:21:53.718156Z"
    },
    "papermill": {
     "duration": 0.332127,
     "end_time": "2021-04-18T14:21:53.718931",
     "exception": false,
     "start_time": "2021-04-18T14:21:53.386804",
     "status": "completed"
    },
    "tags": []
   },
   "outputs": [
    {
     "data": {
      "text/html": [
       "<div>\n",
       "<style scoped>\n",
       "    .dataframe tbody tr th:only-of-type {\n",
       "        vertical-align: middle;\n",
       "    }\n",
       "\n",
       "    .dataframe tbody tr th {\n",
       "        vertical-align: top;\n",
       "    }\n",
       "\n",
       "    .dataframe thead th {\n",
       "        text-align: right;\n",
       "    }\n",
       "</style>\n",
       "<table border=\"1\" class=\"dataframe\">\n",
       "  <thead>\n",
       "    <tr style=\"text-align: right;\">\n",
       "      <th></th>\n",
       "      <th>Predicted - Non Survived</th>\n",
       "      <th>Predicted - Survived</th>\n",
       "    </tr>\n",
       "  </thead>\n",
       "  <tbody>\n",
       "    <tr>\n",
       "      <th>Actual - Non Survived</th>\n",
       "      <td>156</td>\n",
       "      <td>28</td>\n",
       "    </tr>\n",
       "    <tr>\n",
       "      <th>Actual - Survived</th>\n",
       "      <td>27</td>\n",
       "      <td>84</td>\n",
       "    </tr>\n",
       "  </tbody>\n",
       "</table>\n",
       "</div>"
      ],
      "text/plain": [
       "                       Predicted - Non Survived  Predicted - Survived\n",
       "Actual - Non Survived                       156                    28\n",
       "Actual - Survived                            27                    84"
      ]
     },
     "execution_count": 70,
     "metadata": {},
     "output_type": "execute_result"
    },
    {
     "data": {
      "image/png": "[encoded data removed]",
      "text/plain": [
       "<Figure size 432x288 with 2 Axes>"
      ]
     },
     "metadata": {},
     "output_type": "display_data"
    }
   ],
   "source": [
    "from sklearn.metrics import classification_report, confusion_matrix\n",
    "from sklearn.metrics import ConfusionMatrixDisplay\n",
    "\n",
    "def create_cf(y_test, y_predicted, normalized = False):\n",
    "    \n",
    "    cm = confusion_matrix(y_test, y_predicted)\n",
    "    \n",
    "    if normalized:\n",
    "        cm = cm.astype('float') / cm.sum(axis=1)[:, np.newaxis]\n",
    "        matr = pd.DataFrame(confusion_matrix(y_test, y_predicted), columns=['Predicted - Non Survived', 'Predicted - Survived'],\n",
    "                        index=['Actual - Non Survived', 'Actual - Survived'])\n",
    "        cf = ConfusionMatrixDisplay(cm).plot()\n",
    "        plt.title('Normalized')\n",
    "        return matr\n",
    "    else:\n",
    "        matr = pd.DataFrame(cm, columns=['Predicted - Non Survived', 'Predicted - Survived'],\n",
    "                        index=['Actual - Non Survived', 'Actual - Survived'])\n",
    "        cf = ConfusionMatrixDisplay(cm).plot()\n",
    "        plt.title('Confusion Matrix')\n",
    "        return matr\n",
    "    plt.show()\n",
    "\n",
    "create_cf(y_test, y_predicted, normalized = False)                 "
   ]
  },
  {
   "cell_type": "markdown",
   "metadata": {
    "papermill": {
     "duration": 0.124542,
     "end_time": "2021-04-18T14:21:53.965777",
     "exception": false,
     "start_time": "2021-04-18T14:21:53.841235",
     "status": "completed"
    },
    "tags": []
   },
   "source": [
    "* **True Positive**(TP): values that the model predicted as yes(survived) and is actually yes(survived).\n",
    "* **True Negative**(TN): values that model predicted as no(not-survived) and is actually no(not-survived)\n",
    "* **False Positive**(or Type I error): values that model predicted as yes(survived) but actually no(not-survived)\n",
    "* **False Negative**(or Type II error): values that model predicted as no(not-survived) but actually yes(survived)\n",
    "\n",
    "We can calculate some interesting metrics:\n",
    "* True Negative Rate/**Specificity** TN/(TN+FP): How often the model predicts no(not-survived) when it's actually no(not-survived)?\n",
    "\n",
    "* **Precision** TP/(TP+FP): How often is it correct when the model predicts yes.\n",
    "\n",
    "* True Positive Rate/Recall/**Sensitivity** TP/(TP+FN): How often the model predicts yes(survived) when it's actually yes(survived)?True \n",
    "\n",
    "It is difficult to compare two models with low precision and high recall or vice versa. So to make them comparable, we use **F-Score**. F-score helps to measure Recall and Precision at the same time. It uses Harmonic Mean in place of Arithmetic Mean by punishing the extreme values more."
   ]
  },
  {
   "cell_type": "markdown",
   "metadata": {
    "papermill": {
     "duration": 0.122638,
     "end_time": "2021-04-18T14:21:54.212226",
     "exception": false,
     "start_time": "2021-04-18T14:21:54.089588",
     "status": "completed"
    },
    "tags": []
   },
   "source": [
    "Lets calculate \"**recall**\", '**accuracy**', '**precision**' and '**F1-Score**'"
   ]
  },
  {
   "cell_type": "code",
   "execution_count": 71,
   "metadata": {
    "execution": {
     "iopub.execute_input": "2021-04-18T14:21:54.465648Z",
     "iopub.status.busy": "2021-04-18T14:21:54.464610Z",
     "iopub.status.idle": "2021-04-18T14:21:54.479902Z",
     "shell.execute_reply": "2021-04-18T14:21:54.479244Z"
    },
    "papermill": {
     "duration": 0.144972,
     "end_time": "2021-04-18T14:21:54.480046",
     "exception": false,
     "start_time": "2021-04-18T14:21:54.335074",
     "status": "completed"
    },
    "tags": []
   },
   "outputs": [
    {
     "data": {
      "text/html": [
       "<div>\n",
       "<style scoped>\n",
       "    .dataframe tbody tr th:only-of-type {\n",
       "        vertical-align: middle;\n",
       "    }\n",
       "\n",
       "    .dataframe tbody tr th {\n",
       "        vertical-align: top;\n",
       "    }\n",
       "\n",
       "    .dataframe thead th {\n",
       "        text-align: right;\n",
       "    }\n",
       "</style>\n",
       "<table border=\"1\" class=\"dataframe\">\n",
       "  <thead>\n",
       "    <tr style=\"text-align: right;\">\n",
       "      <th></th>\n",
       "      <th>Score</th>\n",
       "    </tr>\n",
       "  </thead>\n",
       "  <tbody>\n",
       "    <tr>\n",
       "      <th>Accuracy</th>\n",
       "      <td>81.355932</td>\n",
       "    </tr>\n",
       "    <tr>\n",
       "      <th>Recall</th>\n",
       "      <td>75.675676</td>\n",
       "    </tr>\n",
       "    <tr>\n",
       "      <th>Precission</th>\n",
       "      <td>75.000000</td>\n",
       "    </tr>\n",
       "    <tr>\n",
       "      <th>F1-Score</th>\n",
       "      <td>75.336323</td>\n",
       "    </tr>\n",
       "  </tbody>\n",
       "</table>\n",
       "</div>"
      ],
      "text/plain": [
       "                Score\n",
       "Accuracy    81.355932\n",
       "Recall      75.675676\n",
       "Precission  75.000000\n",
       "F1-Score    75.336323"
      ]
     },
     "execution_count": 71,
     "metadata": {},
     "output_type": "execute_result"
    }
   ],
   "source": [
    "from sklearn.metrics import recall_score, precision_score, accuracy_score, f1_score\n",
    "\n",
    "def our_score(y_test, y_predicted):\n",
    "    ac = accuracy_score(y_test, y_predicted)*100\n",
    "    re = recall_score(y_test, y_predicted)*100\n",
    "    pr = precision_score(y_test, y_predicted)*100\n",
    "    f = f1_score(y_test, y_predicted)*100\n",
    "    series = pd.Series([ac,re,pr, f], index = ['Accuracy','Recall','Precission', 'F1-Score'])\n",
    "    return pd.DataFrame(series, columns=['Score'])\n",
    "our_score(y_test, y_predicted)"
   ]
  },
  {
   "cell_type": "markdown",
   "metadata": {
    "papermill": {
     "duration": 0.123887,
     "end_time": "2021-04-18T14:21:54.727551",
     "exception": false,
     "start_time": "2021-04-18T14:21:54.603664",
     "status": "completed"
    },
    "tags": []
   },
   "source": [
    "We can display our metrics using **classification report**."
   ]
  },
  {
   "cell_type": "code",
   "execution_count": 72,
   "metadata": {
    "execution": {
     "iopub.execute_input": "2021-04-18T14:21:54.985449Z",
     "iopub.status.busy": "2021-04-18T14:21:54.984303Z",
     "iopub.status.idle": "2021-04-18T14:21:54.994763Z",
     "shell.execute_reply": "2021-04-18T14:21:54.994244Z"
    },
    "papermill": {
     "duration": 0.141672,
     "end_time": "2021-04-18T14:21:54.994934",
     "exception": false,
     "start_time": "2021-04-18T14:21:54.853262",
     "status": "completed"
    },
    "tags": []
   },
   "outputs": [
    {
     "name": "stdout",
     "output_type": "stream",
     "text": [
      "              precision    recall  f1-score   support\n",
      "\n",
      "           0       0.85      0.85      0.85       184\n",
      "           1       0.75      0.76      0.75       111\n",
      "\n",
      "    accuracy                           0.81       295\n",
      "   macro avg       0.80      0.80      0.80       295\n",
      "weighted avg       0.81      0.81      0.81       295\n",
      "\n"
     ]
    }
   ],
   "source": [
    "print(classification_report(y_test, y_predicted))"
   ]
  },
  {
   "cell_type": "markdown",
   "metadata": {
    "papermill": {
     "duration": 0.126276,
     "end_time": "2021-04-18T14:21:55.248892",
     "exception": false,
     "start_time": "2021-04-18T14:21:55.122616",
     "status": "completed"
    },
    "tags": []
   },
   "source": [
    "Lets plot normalized **confusion matrix**"
   ]
  },
  {
   "cell_type": "code",
   "execution_count": 73,
   "metadata": {
    "execution": {
     "iopub.execute_input": "2021-04-18T14:21:55.504024Z",
     "iopub.status.busy": "2021-04-18T14:21:55.502999Z",
     "iopub.status.idle": "2021-04-18T14:21:55.711973Z",
     "shell.execute_reply": "2021-04-18T14:21:55.711301Z"
    },
    "papermill": {
     "duration": 0.338165,
     "end_time": "2021-04-18T14:21:55.712130",
     "exception": false,
     "start_time": "2021-04-18T14:21:55.373965",
     "status": "completed"
    },
    "tags": []
   },
   "outputs": [
    {
     "data": {
      "text/html": [
       "<div>\n",
       "<style scoped>\n",
       "    .dataframe tbody tr th:only-of-type {\n",
       "        vertical-align: middle;\n",
       "    }\n",
       "\n",
       "    .dataframe tbody tr th {\n",
       "        vertical-align: top;\n",
       "    }\n",
       "\n",
       "    .dataframe thead th {\n",
       "        text-align: right;\n",
       "    }\n",
       "</style>\n",
       "<table border=\"1\" class=\"dataframe\">\n",
       "  <thead>\n",
       "    <tr style=\"text-align: right;\">\n",
       "      <th></th>\n",
       "      <th>Predicted - Non Survived</th>\n",
       "      <th>Predicted - Survived</th>\n",
       "    </tr>\n",
       "  </thead>\n",
       "  <tbody>\n",
       "    <tr>\n",
       "      <th>Actual - Non Survived</th>\n",
       "      <td>156</td>\n",
       "      <td>28</td>\n",
       "    </tr>\n",
       "    <tr>\n",
       "      <th>Actual - Survived</th>\n",
       "      <td>27</td>\n",
       "      <td>84</td>\n",
       "    </tr>\n",
       "  </tbody>\n",
       "</table>\n",
       "</div>"
      ],
      "text/plain": [
       "                       Predicted - Non Survived  Predicted - Survived\n",
       "Actual - Non Survived                       156                    28\n",
       "Actual - Survived                            27                    84"
      ]
     },
     "execution_count": 73,
     "metadata": {},
     "output_type": "execute_result"
    },
    {
     "data": {
      "image/png": "[encoded data removed]",
      "text/plain": [
       "<Figure size 432x288 with 2 Axes>"
      ]
     },
     "metadata": {},
     "output_type": "display_data"
    }
   ],
   "source": [
    "create_cf(y_test, y_predicted, normalized = True)                 "
   ]
  },
  {
   "cell_type": "markdown",
   "metadata": {
    "papermill": {
     "duration": 0.125433,
     "end_time": "2021-04-18T14:21:55.963638",
     "exception": false,
     "start_time": "2021-04-18T14:21:55.838205",
     "status": "completed"
    },
    "tags": []
   },
   "source": [
    "## AUC & ROC Curve\n",
    "In **Machine Learning**, performance measurement is an essential task. So when it comes to a classification problem, we can count on an **AUC - ROC Curve**. When we need to check or visualize the performance of the multi-class classification problem, we use the AUC (Area Under The Curve) ROC (Receiver Operating Characteristics) curve. It is one of the most important evaluation metrics for checking any classification model’s performance. It is also written as AUROC (Area Under the Receiver Operating Characteristics)\n",
    "\n",
    "* **ROC** is a probability curve and AUC represents the degree or measure of separability. It tells how much the model is capable of distinguishing between classes. Higher the AUC, the better the model is at predicting 0s as 0s and 1s as 1s. By analogy, the Higher the AUC, the better the model is at distinguishing between passagers who survived and who didnt.\n",
    "\n",
    "An excellent model has AUC near to the 1 which means it has a good measure of separability. A poor model has AUC near to the 0 which means it has the worst measure of separability. In fact, it means it is reciprocating the result. It is predicting 0s as 1s and 1s as 0s. And when AUC is 0.5, it means the model has no class separation capacity whatsoever.\n",
    "\n",
    "**Example**: When AUC is 0.7, it means there is a 70% chance that the model will be able to distinguish between positive class and negative class.\n",
    "\n",
    "[More info](https://towardsdatascience.com/understanding-auc-roc-curve-68b2303cc9c5)"
   ]
  },
  {
   "cell_type": "code",
   "execution_count": 74,
   "metadata": {
    "execution": {
     "iopub.execute_input": "2021-04-18T14:21:56.225125Z",
     "iopub.status.busy": "2021-04-18T14:21:56.224321Z",
     "iopub.status.idle": "2021-04-18T14:21:56.501603Z",
     "shell.execute_reply": "2021-04-18T14:21:56.500957Z"
    },
    "papermill": {
     "duration": 0.412299,
     "end_time": "2021-04-18T14:21:56.501744",
     "exception": false,
     "start_time": "2021-04-18T14:21:56.089445",
     "status": "completed"
    },
    "tags": []
   },
   "outputs": [
    {
     "name": "stdout",
     "output_type": "stream",
     "text": [
      "ROC AUC:  0.8706913435174305\n"
     ]
    },
    {
     "data": {
      "image/png": "[encoded data removed]",
      "text/plain": [
       "<Figure size 792x648 with 1 Axes>"
      ]
     },
     "metadata": {},
     "output_type": "display_data"
    }
   ],
   "source": [
    "from sklearn.metrics import roc_curve, auc\n",
    "\n",
    "def plot_roc_auc(X_test, y_test):\n",
    "    y_score = lgr.decision_function(X_test)\n",
    "\n",
    "    FPR, TPR, _ = roc_curve(y_test, y_score)\n",
    "    ROC_AUC = auc(FPR, TPR)\n",
    "    print ('ROC AUC: ',ROC_AUC)\n",
    "\n",
    "    plt.figure(figsize =[11,9])\n",
    "    ax1 = sns.lineplot(FPR, TPR, label= 'ROC curve(area = %0.2f)'%ROC_AUC, ci=None)\n",
    "    ax2 = sns.lineplot([0,1],[0,1])\n",
    "    ax2.lines[1].set_linestyle(\"--\")\n",
    "    plt.xlim([0.0,1.0])\n",
    "    plt.ylim([0.0,1.05])\n",
    "    plt.xlabel('False Positive Rate')\n",
    "    plt.ylabel('True Positive Rate')\n",
    "    plt.title('ROC for Titanic survivors')\n",
    "    plt.show()\n",
    "    \n",
    "plot_roc_auc(X_test, y_test)"
   ]
  },
  {
   "cell_type": "code",
   "execution_count": 75,
   "metadata": {
    "execution": {
     "iopub.execute_input": "2021-04-18T14:21:56.770084Z",
     "iopub.status.busy": "2021-04-18T14:21:56.768935Z",
     "iopub.status.idle": "2021-04-18T14:21:56.989848Z",
     "shell.execute_reply": "2021-04-18T14:21:56.989200Z"
    },
    "papermill": {
     "duration": 0.35784,
     "end_time": "2021-04-18T14:21:56.990016",
     "exception": false,
     "start_time": "2021-04-18T14:21:56.632176",
     "status": "completed"
    },
    "tags": []
   },
   "outputs": [
    {
     "data": {
      "image/png": "[encoded data removed]",
      "text/plain": [
       "<Figure size 432x288 with 1 Axes>"
      ]
     },
     "metadata": {},
     "output_type": "display_data"
    }
   ],
   "source": [
    "from sklearn.metrics import plot_precision_recall_curve\n",
    "\n",
    "disp = plot_precision_recall_curve(lgr, X_test, y_test)\n",
    "disp.ax_.set_title('2-class Precision-Recall curve')\n",
    "plt.show()"
   ]
  },
  {
   "cell_type": "markdown",
   "metadata": {
    "papermill": {
     "duration": 0.128899,
     "end_time": "2021-04-18T14:21:57.248452",
     "exception": false,
     "start_time": "2021-04-18T14:21:57.119553",
     "status": "completed"
    },
    "tags": []
   },
   "source": [
    "## Cross-validation\n",
    "\n",
    "To evaluate the performance of any machine learning model we need to test it on some unseen data. Based on the models performance on unseen data we can say weather our model is Under-fitting/Over-fitting/Well generalized. Cross validation (CV) is one of the technique used to test the effectiveness of a **machine learning models**, it is also a re-sampling procedure used to evaluate a model if we have a limited data. To perform CV we need to keep aside a sample/portion of the data on which is not used to train the model, later use this sample for testing/validating.\n",
    "\n",
    "In this case we will use: **Stratified ShuffleSplit cross-validator**. Provides train/test indices to split data in train/test sets. This cross-validation object is a merge of StratifiedKFold and ShuffleSplit, which returns stratified randomized folds. **The folds are made by preserving the percentage of samples for each class.**"
   ]
  },
  {
   "cell_type": "code",
   "execution_count": 76,
   "metadata": {
    "execution": {
     "iopub.execute_input": "2021-04-18T14:21:57.515531Z",
     "iopub.status.busy": "2021-04-18T14:21:57.514807Z",
     "iopub.status.idle": "2021-04-18T14:21:57.627267Z",
     "shell.execute_reply": "2021-04-18T14:21:57.626634Z"
    },
    "papermill": {
     "duration": 0.250368,
     "end_time": "2021-04-18T14:21:57.627439",
     "exception": false,
     "start_time": "2021-04-18T14:21:57.377071",
     "status": "completed"
    },
    "tags": []
   },
   "outputs": [
    {
     "name": "stdout",
     "output_type": "stream",
     "text": [
      "Cross-Validation accuracy scores: [0.79820628 0.81165919 0.8206278  0.86547085 0.8206278  0.8161435\n",
      " 0.82511211 0.86547085 0.81165919 0.8206278 ] \n",
      "\n",
      "Mean Cross-Validation score: 0.8256\n"
     ]
    }
   ],
   "source": [
    "from sklearn.model_selection import StratifiedShuffleSplit, cross_val_score\n",
    "\n",
    "cv = StratifiedShuffleSplit(n_splits=10, test_size=0.25, random_state=0)\n",
    "\n",
    "columns_names = X.columns\n",
    "\n",
    "X = std_sc.fit_transform(X)\n",
    "accuracies = cross_val_score(LogisticRegression(solver='liblinear'), X, y, cv=cv)\n",
    "\n",
    "print(f'Cross-Validation accuracy scores: {accuracies}','\\n')\n",
    "print(f'Mean Cross-Validation score: {round(accuracies.mean(),4)}')"
   ]
  },
  {
   "cell_type": "markdown",
   "metadata": {
    "papermill": {
     "duration": 0.12901,
     "end_time": "2021-04-18T14:21:57.886781",
     "exception": false,
     "start_time": "2021-04-18T14:21:57.757771",
     "status": "completed"
    },
    "tags": []
   },
   "source": [
    "## Grid Search\n",
    "\n",
    "A machine learning model has **multiple parameters** that are not trained by the training set. These parameters control the accuracy of the model. Therefore, the **hyperparameters** are particularly important in a data science project.\n",
    "The hyperparameters are configured up-front and are provided by the caller of the model before the model is trained.\n",
    "\n",
    "**Grid search** is a tuning technique that attempts to compute the optimum values of hyperparameters. It is an exhaustive search that is performed on a the specific parameter values of a model. The model is also known as an estimator.\n",
    "\n",
    "[More info](https://medium.com/fintechexplained/what-is-grid-search-c01fe886ef0a)"
   ]
  },
  {
   "cell_type": "code",
   "execution_count": 77,
   "metadata": {
    "execution": {
     "iopub.execute_input": "2021-04-18T14:21:58.162547Z",
     "iopub.status.busy": "2021-04-18T14:21:58.161814Z",
     "iopub.status.idle": "2021-04-18T14:22:05.524217Z",
     "shell.execute_reply": "2021-04-18T14:22:05.524836Z"
    },
    "papermill": {
     "duration": 7.508184,
     "end_time": "2021-04-18T14:22:05.525029",
     "exception": false,
     "start_time": "2021-04-18T14:21:58.016845",
     "status": "completed"
    },
    "tags": []
   },
   "outputs": [
    {
     "data": {
      "text/plain": [
       "GridSearchCV(cv=StratifiedShuffleSplit(n_splits=10, random_state=None, test_size=0.25,\n",
       "            train_size=None),\n",
       "             estimator=LogisticRegression(solver='liblinear'), n_jobs=-1,\n",
       "             param_grid={'C': [0.1, 0.2, 0.3, 0.4, 0.5, 0.6, 0.7, 0.8, 0.9, 1],\n",
       "                         'solver': ['newton-cg', 'lbfgs', 'liblinear', 'sag',\n",
       "                                    'saga']},\n",
       "             scoring='accuracy')"
      ]
     },
     "execution_count": 77,
     "metadata": {},
     "output_type": "execute_result"
    }
   ],
   "source": [
    "from sklearn.model_selection import GridSearchCV\n",
    "\n",
    "C_vals = [0.1,0.2,0.3,0.4,0.5,0.6,0.7,0.8,0.9,1]\n",
    "solvers= ['newton-cg', 'lbfgs', 'liblinear', 'sag', 'saga']\n",
    "cv = StratifiedShuffleSplit(n_splits=10, test_size=0.25)\n",
    "params = {'C': C_vals,\n",
    "         'solver':solvers}\n",
    "\n",
    "lgr = LogisticRegression(solver='liblinear')\n",
    "\n",
    "grid = GridSearchCV(estimator=lgr,\n",
    "                   param_grid=params, \n",
    "                   scoring='accuracy',\n",
    "                   n_jobs = -1,\n",
    "                   cv = cv)\n",
    "\n",
    "grid.fit(X,y)"
   ]
  },
  {
   "cell_type": "code",
   "execution_count": 78,
   "metadata": {
    "execution": {
     "iopub.execute_input": "2021-04-18T14:22:05.789170Z",
     "iopub.status.busy": "2021-04-18T14:22:05.788303Z",
     "iopub.status.idle": "2021-04-18T14:22:05.792402Z",
     "shell.execute_reply": "2021-04-18T14:22:05.791695Z"
    },
    "papermill": {
     "duration": 0.139213,
     "end_time": "2021-04-18T14:22:05.792596",
     "exception": false,
     "start_time": "2021-04-18T14:22:05.653383",
     "status": "completed"
    },
    "tags": []
   },
   "outputs": [
    {
     "name": "stdout",
     "output_type": "stream",
     "text": [
      "LogisticRegression(C=0.1, solver='newton-cg')\n",
      "0.8246636771300448\n",
      "{'C': 0.1, 'solver': 'newton-cg'}\n"
     ]
    }
   ],
   "source": [
    "print(grid.best_estimator_)\n",
    "print(grid.best_score_)\n",
    "print(grid.best_params_)\n",
    "lgr_grid = grid.best_estimator_"
   ]
  },
  {
   "cell_type": "markdown",
   "metadata": {
    "papermill": {
     "duration": 0.130172,
     "end_time": "2021-04-18T14:22:06.053053",
     "exception": false,
     "start_time": "2021-04-18T14:22:05.922881",
     "status": "completed"
    },
    "tags": []
   },
   "source": [
    "# Fitting data to our models - K-Nearest Neighbor Classifier\n",
    "\n",
    "**K Nearest Neighbor(KNN**) is a very simple, easy to understand, versatile and one of the topmost machine learning algorithms. \n",
    "\n",
    "The simple version of the K-nearest neighbor classifier algorithms is to predict the target label by finding the nearest neighbor class. The closest class will be identified using the distance measures like Euclidean distance."
   ]
  },
  {
   "cell_type": "code",
   "execution_count": 79,
   "metadata": {
    "execution": {
     "iopub.execute_input": "2021-04-18T14:22:06.324215Z",
     "iopub.status.busy": "2021-04-18T14:22:06.321572Z",
     "iopub.status.idle": "2021-04-18T14:22:06.535114Z",
     "shell.execute_reply": "2021-04-18T14:22:06.534354Z"
    },
    "papermill": {
     "duration": 0.35255,
     "end_time": "2021-04-18T14:22:06.535265",
     "exception": false,
     "start_time": "2021-04-18T14:22:06.182715",
     "status": "completed"
    },
    "tags": []
   },
   "outputs": [
    {
     "name": "stdout",
     "output_type": "stream",
     "text": [
      "Cross-Validation accuracy scores:[0.78026906 0.78923767 0.79820628 0.8161435  0.79372197 0.77578475\n",
      " 0.79372197 0.80717489 0.77130045 0.8161435 ]\n",
      "Mean Cross-Validation score:0.794170403587444\n"
     ]
    }
   ],
   "source": [
    "from sklearn.neighbors import KNeighborsClassifier\n",
    "\n",
    "knn= KNeighborsClassifier(metric='minkowski', p=2)\n",
    "cv = StratifiedShuffleSplit(n_splits=10, test_size=0.25, random_state=2)\n",
    "\n",
    "accuracies = cross_val_score(knn, X, y, cv=cv, scoring='accuracy')\n",
    "print(f'Cross-Validation accuracy scores:{accuracies}')\n",
    "print(f'Mean Cross-Validation score:{accuracies.mean()}')"
   ]
  },
  {
   "cell_type": "markdown",
   "metadata": {
    "papermill": {
     "duration": 0.131837,
     "end_time": "2021-04-18T14:22:06.800204",
     "exception": false,
     "start_time": "2021-04-18T14:22:06.668367",
     "status": "completed"
    },
    "tags": []
   },
   "source": [
    "## Lets find best possible k value for KNN"
   ]
  },
  {
   "cell_type": "code",
   "execution_count": 80,
   "metadata": {
    "execution": {
     "iopub.execute_input": "2021-04-18T14:22:07.069470Z",
     "iopub.status.busy": "2021-04-18T14:22:07.068795Z",
     "iopub.status.idle": "2021-04-18T14:22:12.040720Z",
     "shell.execute_reply": "2021-04-18T14:22:12.041337Z"
    },
    "papermill": {
     "duration": 5.110977,
     "end_time": "2021-04-18T14:22:12.041538",
     "exception": false,
     "start_time": "2021-04-18T14:22:06.930561",
     "status": "completed"
    },
    "tags": []
   },
   "outputs": [
    {
     "name": "stdout",
     "output_type": "stream",
     "text": [
      "Mean accuracy scores:{1: 0.7443946188340808, 2: 0.7690582959641257, 3: 0.7807174887892375, 4: 0.7811659192825112, 5: 0.7860986547085201, 6: 0.7838565022421525, 7: 0.7874439461883409, 8: 0.7807174887892376, 9: 0.7798206278026906, 10: 0.7829596412556055, 11: 0.7847533632286996, 12: 0.7883408071748879, 13: 0.7887892376681613, 14: 0.7919282511210762, 15: 0.7982062780269058, 16: 0.7896860986547085, 17: 0.7995515695067265, 18: 0.7852017937219731, 19: 0.7874439461883409, 20: 0.7775784753363228, 21: 0.7901345291479821, 22: 0.7829596412556052, 23: 0.7869955156950673, 24: 0.7753363228699552}\n",
      "Highest score:17\n"
     ]
    }
   ],
   "source": [
    "cv = StratifiedShuffleSplit(n_splits=10, test_size=0.25, random_state=0)\n",
    "k_scores = {}\n",
    "for k in range(1,25):\n",
    "    knn = KNeighborsClassifier(n_neighbors=k)\n",
    "    score = cross_val_score(knn, X, y, cv=cv, scoring='accuracy')\n",
    "    k_scores[k] = score.mean()\n",
    "print(f'Mean accuracy scores:{k_scores}')\n",
    "print(f'Highest score:{max(k_scores, key=k_scores.get)}')\n",
    "    "
   ]
  },
  {
   "cell_type": "code",
   "execution_count": 81,
   "metadata": {
    "execution": {
     "iopub.execute_input": "2021-04-18T14:22:12.386141Z",
     "iopub.status.busy": "2021-04-18T14:22:12.385440Z",
     "iopub.status.idle": "2021-04-18T14:22:12.564174Z",
     "shell.execute_reply": "2021-04-18T14:22:12.563135Z"
    },
    "papermill": {
     "duration": 0.361762,
     "end_time": "2021-04-18T14:22:12.564361",
     "exception": false,
     "start_time": "2021-04-18T14:22:12.202599",
     "status": "completed"
    },
    "tags": []
   },
   "outputs": [
    {
     "data": {
      "image/png": "[encoded data removed]",
      "text/plain": [
       "<Figure size 360x360 with 1 Axes>"
      ]
     },
     "metadata": {},
     "output_type": "display_data"
    }
   ],
   "source": [
    "plt.figure(figsize=(5,5))\n",
    "ax = sns.lineplot([i for i, v in k_scores.items()], [v for i, v in k_scores.items()])\n",
    "ax.set_xlabel('k')\n",
    "ax.set_ylabel('score')\n",
    "plt.show()"
   ]
  },
  {
   "cell_type": "markdown",
   "metadata": {
    "papermill": {
     "duration": 0.135431,
     "end_time": "2021-04-18T14:22:12.833426",
     "exception": false,
     "start_time": "2021-04-18T14:22:12.697995",
     "status": "completed"
    },
    "tags": []
   },
   "source": [
    "## Lets use grid search on KNN clasifier"
   ]
  },
  {
   "cell_type": "code",
   "execution_count": 82,
   "metadata": {
    "execution": {
     "iopub.execute_input": "2021-04-18T14:22:13.104719Z",
     "iopub.status.busy": "2021-04-18T14:22:13.103673Z",
     "iopub.status.idle": "2021-04-18T14:22:14.973728Z",
     "shell.execute_reply": "2021-04-18T14:22:14.973177Z"
    },
    "papermill": {
     "duration": 2.008693,
     "end_time": "2021-04-18T14:22:14.973890",
     "exception": false,
     "start_time": "2021-04-18T14:22:12.965197",
     "status": "completed"
    },
    "tags": []
   },
   "outputs": [
    {
     "data": {
      "text/plain": [
       "GridSearchCV(cv=StratifiedShuffleSplit(n_splits=10, random_state=10, test_size=None,\n",
       "            train_size=None),\n",
       "             estimator=KNeighborsClassifier(), n_jobs=-1,\n",
       "             param_grid={'n_neighbors': range(1, 25),\n",
       "                         'weights': ['uniform', 'distance']},\n",
       "             verbose=False)"
      ]
     },
     "execution_count": 82,
     "metadata": {},
     "output_type": "execute_result"
    }
   ],
   "source": [
    "from sklearn.model_selection import GridSearchCV\n",
    "\n",
    "k_range = range(1,25)\n",
    "weights_options = ['uniform','distance']\n",
    "\n",
    "params = {'n_neighbors':k_range,\n",
    "         'weights':weights_options}\n",
    "\n",
    "cv = StratifiedShuffleSplit(n_splits=10, random_state=10)\n",
    "\n",
    "grid = GridSearchCV(KNeighborsClassifier(), cv=cv, param_grid=params, verbose=False, n_jobs=-1)\n",
    "grid.fit(X,y)"
   ]
  },
  {
   "cell_type": "code",
   "execution_count": 83,
   "metadata": {
    "execution": {
     "iopub.execute_input": "2021-04-18T14:22:15.247295Z",
     "iopub.status.busy": "2021-04-18T14:22:15.246134Z",
     "iopub.status.idle": "2021-04-18T14:22:15.318233Z",
     "shell.execute_reply": "2021-04-18T14:22:15.317526Z"
    },
    "papermill": {
     "duration": 0.212597,
     "end_time": "2021-04-18T14:22:15.318384",
     "exception": false,
     "start_time": "2021-04-18T14:22:15.105787",
     "status": "completed"
    },
    "tags": []
   },
   "outputs": [
    {
     "name": "stdout",
     "output_type": "stream",
     "text": [
      "0.8066666666666666\n",
      "{'n_neighbors': 5, 'weights': 'uniform'}\n",
      "KNeighborsClassifier()\n"
     ]
    },
    {
     "data": {
      "text/plain": [
       "0.8619528619528619"
      ]
     },
     "execution_count": 83,
     "metadata": {},
     "output_type": "execute_result"
    }
   ],
   "source": [
    "print(grid.best_score_)\n",
    "print(grid.best_params_)\n",
    "print(grid.best_estimator_)\n",
    "\n",
    "knn_grid = grid.best_estimator_\n",
    "knn_grid.score(X,y) "
   ]
  },
  {
   "cell_type": "markdown",
   "metadata": {
    "papermill": {
     "duration": 0.133115,
     "end_time": "2021-04-18T14:22:15.584947",
     "exception": false,
     "start_time": "2021-04-18T14:22:15.451832",
     "status": "completed"
    },
    "tags": []
   },
   "source": [
    "## Randomized GridSearch\n",
    "\n",
    "Random search: set up a grid of hyperparameter values and select random combinations to train the model and score. The number of search iterations is set based on time/resources.\n",
    "\n",
    "Grid search spends too much time evaluating unpromising regions of the hyperparameter search space because it has to evaluate every single combination in the grid. Random search in contrast, does a better job of exploring the search space and therefore can usually find a good combination of hyperparameters in far fewer iterations."
   ]
  },
  {
   "cell_type": "code",
   "execution_count": 84,
   "metadata": {
    "execution": {
     "iopub.execute_input": "2021-04-18T14:22:15.855708Z",
     "iopub.status.busy": "2021-04-18T14:22:15.855086Z",
     "iopub.status.idle": "2021-04-18T14:22:18.399144Z",
     "shell.execute_reply": "2021-04-18T14:22:18.399693Z"
    },
    "papermill": {
     "duration": 2.681323,
     "end_time": "2021-04-18T14:22:18.399894",
     "exception": false,
     "start_time": "2021-04-18T14:22:15.718571",
     "status": "completed"
    },
    "tags": []
   },
   "outputs": [
    {
     "data": {
      "text/plain": [
       "RandomizedSearchCV(cv=StratifiedShuffleSplit(n_splits=10, random_state=None, test_size=0.25,\n",
       "            train_size=None),\n",
       "                   estimator=KNeighborsClassifier(), n_iter=40, n_jobs=-1,\n",
       "                   param_distributions={'n_neighbors': range(1, 25),\n",
       "                                        'weights': ['uniform', 'distance']},\n",
       "                   verbose=False)"
      ]
     },
     "execution_count": 84,
     "metadata": {},
     "output_type": "execute_result"
    }
   ],
   "source": [
    "from sklearn.model_selection import RandomizedSearchCV\n",
    "\n",
    "k_range = range(1,25)\n",
    "\n",
    "weights_options = ['uniform','distance']\n",
    "\n",
    "params = {'n_neighbors':k_range,\n",
    "         'weights':weights_options}\n",
    "\n",
    "cv = StratifiedShuffleSplit(n_splits=10, test_size=0.25)\n",
    "\n",
    "grid = RandomizedSearchCV(KNeighborsClassifier(), cv=cv,param_distributions = params, verbose=False, n_jobs=-1, n_iter=40) #n_jobs = -1 to instruct scikit learn to use all available processors\n",
    "\n",
    "grid.fit(X,y)"
   ]
  },
  {
   "cell_type": "code",
   "execution_count": 85,
   "metadata": {
    "execution": {
     "iopub.execute_input": "2021-04-18T14:22:18.674208Z",
     "iopub.status.busy": "2021-04-18T14:22:18.673554Z",
     "iopub.status.idle": "2021-04-18T14:22:18.676675Z",
     "shell.execute_reply": "2021-04-18T14:22:18.677312Z"
    },
    "papermill": {
     "duration": 0.143242,
     "end_time": "2021-04-18T14:22:18.677506",
     "exception": false,
     "start_time": "2021-04-18T14:22:18.534264",
     "status": "completed"
    },
    "tags": []
   },
   "outputs": [
    {
     "name": "stdout",
     "output_type": "stream",
     "text": [
      "0.7991031390134528\n",
      "{'weights': 'uniform', 'n_neighbors': 7}\n",
      "KNeighborsClassifier(n_neighbors=7)\n"
     ]
    }
   ],
   "source": [
    "print(grid.best_score_)\n",
    "print(grid.best_params_)\n",
    "print(grid.best_estimator_)"
   ]
  },
  {
   "cell_type": "markdown",
   "metadata": {
    "papermill": {
     "duration": 0.13429,
     "end_time": "2021-04-18T14:22:18.947590",
     "exception": false,
     "start_time": "2021-04-18T14:22:18.813300",
     "status": "completed"
    },
    "tags": []
   },
   "source": [
    "# Support Vector Machines (SVM)\n",
    "\n",
    "**The Support Vector Machine** is a supervised learning algorithm mostly used for **classification** but it can be used also for **regression**. The main idea is that based on the labeled data (training data) the algorithm tries to find the optimal hyperplane which can be used to classify new data points. In two dimensions the hyperplane is a simple line.\n",
    "Usually a learning algorithm tries to learn the most common characteristics (what differentiates one class from another) of a class and the classification is based on those representative characteristics learnt (so classification is based on differences between classes). The SVM works in the other way around. It finds the most similar examples between classes. Those will be the support vectors.\n",
    "\n",
    "[More info](https://towardsdatascience.com/svm-and-kernel-svm-fed02bef1200)"
   ]
  },
  {
   "cell_type": "code",
   "execution_count": 86,
   "metadata": {
    "execution": {
     "iopub.execute_input": "2021-04-18T14:22:19.220542Z",
     "iopub.status.busy": "2021-04-18T14:22:19.219526Z",
     "iopub.status.idle": "2021-04-18T14:23:42.299213Z",
     "shell.execute_reply": "2021-04-18T14:23:42.299754Z"
    },
    "papermill": {
     "duration": 83.217912,
     "end_time": "2021-04-18T14:23:42.300017",
     "exception": false,
     "start_time": "2021-04-18T14:22:19.082105",
     "status": "completed"
    },
    "tags": []
   },
   "outputs": [
    {
     "data": {
      "text/plain": [
       "GridSearchCV(cv=StratifiedShuffleSplit(n_splits=10, random_state=15, test_size=0.3,\n",
       "            train_size=None),\n",
       "             estimator=SVC(probability=True),\n",
       "             param_grid={'C': [0.001, 0.01, 0.1, 1, 1.5, 2, 2.5, 3, 4, 5, 10],\n",
       "                         'gamma': [0.0001, 0.001, 0.01, 0.1, 1]})"
      ]
     },
     "execution_count": 86,
     "metadata": {},
     "output_type": "execute_result"
    }
   ],
   "source": [
    "from sklearn.svm import SVC\n",
    "Cs = [0.001, 0.01, 0.1, 1,1.5,2,2.5,3,4,5, 10] ## penalty parameter C for the error term. \n",
    "gammas = [0.0001,0.001, 0.01, 0.1, 1]\n",
    "param_grid = {'C': Cs, 'gamma' : gammas}\n",
    "cv = StratifiedShuffleSplit(n_splits=10, test_size=0.30, random_state=15)\n",
    "grid_search = GridSearchCV(SVC(kernel = 'rbf', probability=True), param_grid, cv=cv) ## 'rbf' stands for gaussian kernel\n",
    "grid_search.fit(X,y)"
   ]
  },
  {
   "cell_type": "code",
   "execution_count": 87,
   "metadata": {
    "execution": {
     "iopub.execute_input": "2021-04-18T14:23:42.599716Z",
     "iopub.status.busy": "2021-04-18T14:23:42.598953Z",
     "iopub.status.idle": "2021-04-18T14:23:42.601485Z",
     "shell.execute_reply": "2021-04-18T14:23:42.601996Z"
    },
    "papermill": {
     "duration": 0.143862,
     "end_time": "2021-04-18T14:23:42.602170",
     "exception": false,
     "start_time": "2021-04-18T14:23:42.458308",
     "status": "completed"
    },
    "tags": []
   },
   "outputs": [
    {
     "name": "stdout",
     "output_type": "stream",
     "text": [
      "0.8361940298507463\n",
      "{'C': 1, 'gamma': 0.01}\n",
      "SVC(C=1, gamma=0.01, probability=True)\n"
     ]
    }
   ],
   "source": [
    "print(grid_search.best_score_)\n",
    "print(grid_search.best_params_)\n",
    "print(grid_search.best_estimator_)"
   ]
  },
  {
   "cell_type": "markdown",
   "metadata": {
    "papermill": {
     "duration": 0.13705,
     "end_time": "2021-04-18T14:23:42.873707",
     "exception": false,
     "start_time": "2021-04-18T14:23:42.736657",
     "status": "completed"
    },
    "tags": []
   },
   "source": [
    "# Random Forrest Classifier\n",
    "\n",
    "**Random forest** is an ensemble machine learning algorithm.\n",
    "\n",
    "It is perhaps the most popular and widely used machine learning algorithm given its good or excellent performance across a wide range of classification and regression predictive modeling problems. It is also easy to use given that it has few key hyperparameters and sensible heuristics for configuring these hyperparameters.\n",
    "\n",
    "* **This algorithm makes decision trees susceptible to high variance if they are not pruned.**\n",
    "\n",
    "[More info](https://machinelearningmastery.com/random-forest-ensemble-in-python/)"
   ]
  },
  {
   "cell_type": "code",
   "execution_count": 88,
   "metadata": {
    "execution": {
     "iopub.execute_input": "2021-04-18T14:23:43.150597Z",
     "iopub.status.busy": "2021-04-18T14:23:43.149925Z",
     "iopub.status.idle": "2021-04-18T14:25:40.245052Z",
     "shell.execute_reply": "2021-04-18T14:25:40.245574Z"
    },
    "papermill": {
     "duration": 117.235175,
     "end_time": "2021-04-18T14:25:40.245763",
     "exception": false,
     "start_time": "2021-04-18T14:23:43.010588",
     "status": "completed"
    },
    "tags": []
   },
   "outputs": [
    {
     "data": {
      "text/plain": [
       "GridSearchCV(cv=StratifiedShuffleSplit(n_splits=10, random_state=15, test_size=0.3,\n",
       "            train_size=None),\n",
       "             estimator=RandomForestClassifier(), n_jobs=-1,\n",
       "             param_grid={'criterion': ['gini', 'entropy'],\n",
       "                         'max_depth': range(1, 10),\n",
       "                         'n_estimators': [140, 145, 150, 155, 160]})"
      ]
     },
     "execution_count": 88,
     "metadata": {},
     "output_type": "execute_result"
    }
   ],
   "source": [
    "from sklearn.ensemble import RandomForestClassifier\n",
    "\n",
    "n_estimators = [10,30,50,70,80,150,160, 170,175,180,185];\n",
    "cv = StratifiedShuffleSplit(n_splits=10, test_size=0.3, random_state=15)\n",
    "\n",
    "n_estimators = [140,145,150,155,160];\n",
    "max_depth = range(1,10);\n",
    "criterions = ['gini', 'entropy'];\n",
    "\n",
    "params = {'n_estimators':n_estimators,\n",
    "              'max_depth':max_depth,\n",
    "              'criterion': criterions\n",
    "             }\n",
    "grid = GridSearchCV(RandomForestClassifier(max_features='auto'),param_grid = params, cv=cv, n_jobs= -1)\n",
    "grid.fit(X,y)\n"
   ]
  },
  {
   "cell_type": "code",
   "execution_count": 89,
   "metadata": {
    "execution": {
     "iopub.execute_input": "2021-04-18T14:25:40.524581Z",
     "iopub.status.busy": "2021-04-18T14:25:40.523653Z",
     "iopub.status.idle": "2021-04-18T14:25:40.527967Z",
     "shell.execute_reply": "2021-04-18T14:25:40.527318Z"
    },
    "papermill": {
     "duration": 0.146469,
     "end_time": "2021-04-18T14:25:40.528130",
     "exception": false,
     "start_time": "2021-04-18T14:25:40.381661",
     "status": "completed"
    },
    "tags": []
   },
   "outputs": [
    {
     "name": "stdout",
     "output_type": "stream",
     "text": [
      "0.8361940298507463\n",
      "{'C': 1, 'gamma': 0.01}\n",
      "SVC(C=1, gamma=0.01, probability=True)\n"
     ]
    }
   ],
   "source": [
    "print(grid_search.best_score_)\n",
    "print(grid_search.best_params_)\n",
    "print(grid_search.best_estimator_)"
   ]
  },
  {
   "cell_type": "markdown",
   "metadata": {
    "papermill": {
     "duration": 0.137122,
     "end_time": "2021-04-18T14:25:40.801709",
     "exception": false,
     "start_time": "2021-04-18T14:25:40.664587",
     "status": "completed"
    },
    "tags": []
   },
   "source": [
    "# Bagging Classifier"
   ]
  },
  {
   "cell_type": "code",
   "execution_count": 90,
   "metadata": {
    "execution": {
     "iopub.execute_input": "2021-04-18T14:25:41.085571Z",
     "iopub.status.busy": "2021-04-18T14:25:41.084880Z",
     "iopub.status.idle": "2021-04-18T14:26:01.564240Z",
     "shell.execute_reply": "2021-04-18T14:26:01.564716Z"
    },
    "papermill": {
     "duration": 20.626371,
     "end_time": "2021-04-18T14:26:01.564928",
     "exception": false,
     "start_time": "2021-04-18T14:25:40.938557",
     "status": "completed"
    },
    "tags": []
   },
   "outputs": [
    {
     "data": {
      "text/plain": [
       "GridSearchCV(cv=StratifiedShuffleSplit(n_splits=10, random_state=15, test_size=0.3,\n",
       "            train_size=None),\n",
       "             estimator=BaggingClassifier(), n_jobs=-1,\n",
       "             param_grid={'n_estimators': [10, 30, 50, 70, 80, 150, 160, 170,\n",
       "                                          175, 180, 185]})"
      ]
     },
     "execution_count": 90,
     "metadata": {},
     "output_type": "execute_result"
    }
   ],
   "source": [
    "from sklearn.ensemble import BaggingClassifier\n",
    "n_estimators = [10,30,50,70,80,150,160, 170,175,180,185];\n",
    "cv = StratifiedShuffleSplit(n_splits=10, test_size=.30, random_state=15)\n",
    "\n",
    "parameters = {'n_estimators':n_estimators,\n",
    "              \n",
    "        }\n",
    "grid = GridSearchCV(BaggingClassifier(base_estimator= None, ## If None, then the base estimator is a decision tree.\n",
    "                                      bootstrap_features=False),\n",
    "                                 param_grid=parameters,\n",
    "                                 cv=cv,\n",
    "                                 n_jobs = -1)\n",
    "grid.fit(X,y)"
   ]
  },
  {
   "cell_type": "code",
   "execution_count": 91,
   "metadata": {
    "execution": {
     "iopub.execute_input": "2021-04-18T14:26:01.842153Z",
     "iopub.status.busy": "2021-04-18T14:26:01.841207Z",
     "iopub.status.idle": "2021-04-18T14:26:01.847933Z",
     "shell.execute_reply": "2021-04-18T14:26:01.847302Z"
    },
    "papermill": {
     "duration": 0.147251,
     "end_time": "2021-04-18T14:26:01.848083",
     "exception": false,
     "start_time": "2021-04-18T14:26:01.700832",
     "status": "completed"
    },
    "tags": []
   },
   "outputs": [
    {
     "name": "stdout",
     "output_type": "stream",
     "text": [
      "0.817910447761194\n",
      "{'n_estimators': 10}\n",
      "BaggingClassifier()\n"
     ]
    }
   ],
   "source": [
    "print (grid.best_score_)\n",
    "print (grid.best_params_)\n",
    "print (grid.best_estimator_) "
   ]
  },
  {
   "cell_type": "code",
   "execution_count": null,
   "metadata": {
    "papermill": {
     "duration": 0.186089,
     "end_time": "2021-04-18T14:26:02.171624",
     "exception": false,
     "start_time": "2021-04-18T14:26:01.985535",
     "status": "completed"
    },
    "tags": []
   },
   "outputs": [],
   "source": []
  }
 ],
 "metadata": {
  "kernelspec": {
   "display_name": "Python 3",
   "language": "python",
   "name": "python3"
  },
  "language_info": {
   "codemirror_mode": {
    "name": "ipython",
    "version": 3
   },
   "file_extension": ".py",
   "mimetype": "text/x-python",
   "name": "python",
   "nbconvert_exporter": "python",
   "pygments_lexer": "ipython3",
   "version": "3.7.9"
  },
  "papermill": {
   "default_parameters": {},
   "duration": 303.900307,
   "end_time": "2021-04-18T14:26:03.421793",
   "environment_variables": {},
   "exception": null,
   "input_path": "__notebook__.ipynb",
   "output_path": "__notebook__.ipynb",
   "parameters": {},
   "start_time": "2021-04-18T14:20:59.521486",
   "version": "2.2.2"
  }
 },
 "nbformat": 4,
 "nbformat_minor": 4
}
